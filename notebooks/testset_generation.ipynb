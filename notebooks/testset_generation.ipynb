{
 "cells": [
  {
   "cell_type": "code",
   "execution_count": 1,
   "metadata": {},
   "outputs": [],
   "source": [
    "from ragas.testset import TestsetGenerator\n",
    "from langchain.document_loaders import PyPDFLoader\n",
    "from langchain.embeddings.openai import OpenAIEmbeddings\n",
    "from langchain.chat_models import ChatOpenAI\n",
    "from ragas.llms import LangchainLLM"
   ]
  },
  {
   "cell_type": "markdown",
   "metadata": {},
   "source": [
    "# Create Test set"
   ]
  },
  {
   "cell_type": "code",
   "execution_count": 2,
   "metadata": {},
   "outputs": [],
   "source": [
    "loader = PyPDFLoader(\"../data/Batman_wiki.pdf\")\n",
    "pages = loader.load()"
   ]
  },
  {
   "cell_type": "code",
   "execution_count": 3,
   "metadata": {},
   "outputs": [
    {
     "name": "stderr",
     "output_type": "stream",
     "text": [
      "/Users/chan.k.20/.local/lib/python3.11/site-packages/ragas/testset/testset_generator.py:314: UserWarning: Most documents are too short\n",
      "  warnings.warn(\"Most documents are too short\")\n",
      " 50%|█████     | 1/2 [00:42<00:42, 42.37s/it]/Users/chan.k.20/.local/lib/python3.11/site-packages/ragas/testset/testset_generator.py:264: UserWarning: No neighbors exists\n",
      "  warnings.warn(\"No neighbors exists\")\n",
      "3it [01:05, 21.84s/it]                       \n"
     ]
    },
    {
     "data": {
      "text/html": [
       "<div>\n",
       "<style scoped>\n",
       "    .dataframe tbody tr th:only-of-type {\n",
       "        vertical-align: middle;\n",
       "    }\n",
       "\n",
       "    .dataframe tbody tr th {\n",
       "        vertical-align: top;\n",
       "    }\n",
       "\n",
       "    .dataframe thead th {\n",
       "        text-align: right;\n",
       "    }\n",
       "</style>\n",
       "<table border=\"1\" class=\"dataframe\">\n",
       "  <thead>\n",
       "    <tr style=\"text-align: right;\">\n",
       "      <th></th>\n",
       "      <th>question</th>\n",
       "      <th>context</th>\n",
       "      <th>answer</th>\n",
       "      <th>question_type</th>\n",
       "      <th>episode_done</th>\n",
       "    </tr>\n",
       "  </thead>\n",
       "  <tbody>\n",
       "    <tr>\n",
       "      <th>0</th>\n",
       "      <td>Who is Batman's most enduring romance througho...</td>\n",
       "      <td>- While most of Batman's romantic relationship...</td>\n",
       "      <td>Catwoman is Batman's most enduring romance thr...</td>\n",
       "      <td>simple</td>\n",
       "      <td>True</td>\n",
       "    </tr>\n",
       "    <tr>\n",
       "      <th>1</th>\n",
       "      <td>Who created the character Batman and when did ...</td>\n",
       "      <td>The character was created by artist Bob Kane a...</td>\n",
       "      <td>The character Batman was created by artist Bob...</td>\n",
       "      <td>simple</td>\n",
       "      <td>True</td>\n",
       "    </tr>\n",
       "  </tbody>\n",
       "</table>\n",
       "</div>"
      ],
      "text/plain": [
       "                                            question  \\\n",
       "0  Who is Batman's most enduring romance througho...   \n",
       "1  Who created the character Batman and when did ...   \n",
       "\n",
       "                                             context  \\\n",
       "0  - While most of Batman's romantic relationship...   \n",
       "1  The character was created by artist Bob Kane a...   \n",
       "\n",
       "                                              answer question_type  \\\n",
       "0  Catwoman is Batman's most enduring romance thr...        simple   \n",
       "1  The character Batman was created by artist Bob...        simple   \n",
       "\n",
       "   episode_done  \n",
       "0          True  \n",
       "1          True  "
      ]
     },
     "execution_count": 3,
     "metadata": {},
     "output_type": "execute_result"
    }
   ],
   "source": [
    "# Add custom llms and embeddings\n",
    "generator_llm = LangchainLLM(ChatOpenAI(model=\"gpt-3.5-turbo\"))\n",
    "critic_llm = LangchainLLM(ChatOpenAI(model=\"gpt-4\"))\n",
    "embeddings_model = OpenAIEmbeddings()\n",
    "\n",
    "# Change resulting question type distribution\n",
    "testset_distribution = {\n",
    "    \"simple\": 1.0,\n",
    "    \"reasoning\": 0.0,\n",
    "    \"multi_context\": 0.0,\n",
    "    \"conditional\": 0.0,\n",
    "}\n",
    "\n",
    "# percentage of conversational question\n",
    "chat_qa = 0\n",
    "\n",
    "testset_generator = TestsetGenerator(\n",
    "    generator_llm,\n",
    "    critic_llm,\n",
    "    embeddings_model,\n",
    "    testset_distribution=testset_distribution,\n",
    "    chat_qa=chat_qa,\n",
    ")\n",
    "\n",
    "evalset = testset_generator.generate(pages, test_size=2)\n",
    "evalset_df = evalset.to_pandas()\n",
    "evalset_df.head()"
   ]
  },
  {
   "cell_type": "code",
   "execution_count": 4,
   "metadata": {},
   "outputs": [],
   "source": [
    "# testsetgenerator = TestsetGenerator.from_default()\n",
    "# test_size = 2\n",
    "# testset = testsetgenerator.generate(pages, test_size=test_size)\n",
    "# test_df = testset.to_pandas()\n",
    "# test_df.head()"
   ]
  },
  {
   "cell_type": "code",
   "execution_count": 5,
   "metadata": {},
   "outputs": [
    {
     "data": {
      "text/plain": [
       "question_type\n",
       "simple    2\n",
       "Name: count, dtype: int64"
      ]
     },
     "execution_count": 5,
     "metadata": {},
     "output_type": "execute_result"
    }
   ],
   "source": [
    "evalset_df['question_type'].value_counts()"
   ]
  },
  {
   "cell_type": "markdown",
   "metadata": {},
   "source": [
    "# Save test set"
   ]
  },
  {
   "cell_type": "code",
   "execution_count": 6,
   "metadata": {},
   "outputs": [],
   "source": [
    "# test_df.to_csv(\"../data/batman_eval_simple.csv\", index=False)"
   ]
  }
 ],
 "metadata": {
  "kernelspec": {
   "display_name": "genai-poc",
   "language": "python",
   "name": "python3"
  },
  "language_info": {
   "codemirror_mode": {
    "name": "ipython",
    "version": 3
   },
   "file_extension": ".py",
   "mimetype": "text/x-python",
   "name": "python",
   "nbconvert_exporter": "python",
   "pygments_lexer": "ipython3",
   "version": "3.11.3"
  }
 },
 "nbformat": 4,
 "nbformat_minor": 2
}

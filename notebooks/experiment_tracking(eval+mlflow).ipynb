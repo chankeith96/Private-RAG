{
 "cells": [
  {
   "cell_type": "code",
   "execution_count": 1,
   "metadata": {},
   "outputs": [],
   "source": [
    "from ragas.metrics import (\n",
    "    answer_relevancy,\n",
    "    faithfulness,\n",
    "    context_recall,\n",
    "    context_precision,\n",
    ")\n",
    "from ragas import evaluate\n",
    "from langchain.document_loaders import PyPDFLoader\n",
    "from langchain.text_splitter import RecursiveCharacterTextSplitter\n",
    "from langchain.embeddings.openai import OpenAIEmbeddings\n",
    "from langchain.chains import RetrievalQA\n",
    "import time\n",
    "from langchain.vectorstores import Chroma\n",
    "from langchain.chat_models import ChatOpenAI\n",
    "from langchain.text_splitter import TokenTextSplitter\n",
    "import pandas as pd\n",
    "from ragas.langchain.evalchain import RagasEvaluatorChain\n",
    "from mlflow import MlflowClient\n",
    "from pprint import pprint\n",
    "from langchain.llms import LlamaCpp\n"
   ]
  },
  {
   "cell_type": "markdown",
   "metadata": {},
   "source": [
    "# Configure MLflow Tracking Client\n",
    "\n",
    "From the terminal, start the MLflow server using command `mlflow server`"
   ]
  },
  {
   "cell_type": "code",
   "execution_count": 2,
   "metadata": {},
   "outputs": [],
   "source": [
    "client = MlflowClient(tracking_uri=\"http://127.0.0.1:5000\")"
   ]
  },
  {
   "cell_type": "code",
   "execution_count": 3,
   "metadata": {},
   "outputs": [],
   "source": [
    "# Create a new MLflow experiment\n",
    "experiment_description = (\n",
    "    \"This is the Local RAG project for Oral Care's Innovisor platform. \"\n",
    "    \"This experiment contains RAG architectures different components and parameters.\"\n",
    ")\n",
    "\n",
    "experiment_tags = {\n",
    "    \"project_name\": \"Local RAG\",\n",
    "    \"mlflow.note.content\": experiment_description,\n",
    "}\n",
    "\n",
    "# TODO Check if experiment name already exists\n",
    "# produce_experiment = client.create_experiment(name=\"RAG_Experiments\", tags=experiment_tags)"
   ]
  },
  {
   "cell_type": "code",
   "execution_count": 4,
   "metadata": {},
   "outputs": [],
   "source": [
    "import mlflow\n",
    "\n",
    "# Use the fluent API to set the tracking uri and the active experiment\n",
    "mlflow.set_tracking_uri(\"http://127.0.0.1:5000\")\n",
    "\n",
    "# Sets the current active experiment to the \"Apple_Models\" experiment and returns the Experiment metadata\n",
    "my_experiment = mlflow.set_experiment(\"RAG_Experiments\")\n",
    "\n",
    "# Define a run name for this iteration of training.\n",
    "# If this is not set, a unique name will be auto-generated for your run.\n",
    "run_name = \"first_test\"\n",
    "\n",
    "# Define an artifact path that the model will be saved to.\n",
    "artifact_path = \"rf_apples\""
   ]
  },
  {
   "cell_type": "markdown",
   "metadata": {},
   "source": [
    "# Evaluating Dataset"
   ]
  },
  {
   "cell_type": "code",
   "execution_count": 5,
   "metadata": {},
   "outputs": [],
   "source": [
    "# Ragas uses gpt3.5 by default - it's possible to change LLM for metrics \n",
    "faithfulness.llm.langchain_llm = ChatOpenAI(model=\"gpt-3.5-turbo\", request_timeout=120)\n",
    "context_precision.llm.langchain_llm = ChatOpenAI(model=\"gpt-3.5-turbo\", request_timeout=120)\n",
    "answer_relevancy.llm.langchain_llm = ChatOpenAI(model=\"gpt-3.5-turbo\", request_timeout=120)\n",
    "context_recall.llm.langchain_llm = ChatOpenAI(model=\"gpt-3.5-turbo\", request_timeout=120)"
   ]
  },
  {
   "cell_type": "markdown",
   "metadata": {},
   "source": [
    "# Testing RagasEvaluatorChain"
   ]
  },
  {
   "cell_type": "code",
   "execution_count": 6,
   "metadata": {},
   "outputs": [],
   "source": [
    "llm = ChatOpenAI(temperature=0, model_name=\"gpt-3.5-turbo\", request_timeout=120)\n",
    "\n",
    "loader = PyPDFLoader(\"../data/Batman_wiki.pdf\")\n",
    "pages = loader.load()\n",
    "\n",
    "# Chunk and Embeddings\n",
    "text_splitter = TokenTextSplitter(chunk_size=100, chunk_overlap=0)\n",
    "\n",
    "# text_splitter = RecursiveCharacterTextSplitter(\n",
    "#     chunk_size=600,\n",
    "#     chunk_overlap=300,\n",
    "#     separators=[\"\\n\\n\", \"\\n\", \" \", \"\"],  # adjust these as necessary\n",
    "# )\n",
    "\n",
    "texts = text_splitter.split_documents(pages)\n",
    "\n",
    "embeddings = OpenAIEmbeddings()\n",
    "\n",
    "# Vector Store\n",
    "db = Chroma.from_documents(documents=texts, embedding=embeddings)\n",
    "\n",
    "# Initialise RetrievalQA Chain\n",
    "chain = RetrievalQA.from_chain_type(\n",
    "    llm,\n",
    "    retriever=db.as_retriever(\n",
    "        search_kwargs={\"k\": 2}\n",
    "    ),  # search_type=\"mmr\"),#search_kwargs={\"k\":3}),\n",
    "    return_source_documents=True,\n",
    "    # chain_type_kwargs={\"prompt\": rag_prompt_selector.get_prompt(llm)},\n",
    ")"
   ]
  },
  {
   "cell_type": "code",
   "execution_count": 7,
   "metadata": {},
   "outputs": [],
   "source": [
    "df = pd.read_csv(\"../data/batman_eval_simple.csv\")\n",
    "df = df.head(2)\n",
    "eval_questions = df[\"question\"].values.tolist()\n",
    "eval_answers = df['answer'].values.tolist()"
   ]
  },
  {
   "cell_type": "code",
   "execution_count": 8,
   "metadata": {},
   "outputs": [
    {
     "data": {
      "text/plain": [
       "[\"Catwoman is Batman's most enduring romance throughout the years.\",\n",
       " 'The character Batman was created by artist Bob Kane and writer Bill Finger. He first appeared in Detective Comics on March 30, 1939.']"
      ]
     },
     "execution_count": 8,
     "metadata": {},
     "output_type": "execute_result"
    }
   ],
   "source": [
    "eval_answers"
   ]
  },
  {
   "cell_type": "code",
   "execution_count": 9,
   "metadata": {},
   "outputs": [
    {
     "name": "stdout",
     "output_type": "stream",
     "text": [
      "[{'query': \"Who is Batman's most enduring romance throughout the years?\", 'ground_truths': [\"Catwoman is Batman's most enduring romance throughout the years.\"]}, {'query': 'Who created the character Batman and when did he first appear in Detective Comics?', 'ground_truths': ['The character Batman was created by artist Bob Kane and writer Bill Finger. He first appeared in Detective Comics on March 30, 1939.']}]\n"
     ]
    }
   ],
   "source": [
    "# #In order to evaluate the qa system we generated a few relevant questions and answers\n",
    "# eval_questions = [\n",
    "#     \"I have persistent back pain since 4 weeks,I workouut but havent had any sports injury.What might be the cause of the back pain?\",\n",
    "#     \"I have shortness of breath and frequently feel nauseated and tired.What can be the possible cause?\",\n",
    "#     \"My 12 year old son has Poor coordination Unsteady walk and a tendency to stumble while walking and poor coordination between two hands.What might be the possible cuase?\",\n",
    "#     \"What is Baby acne ?\",\n",
    "#     \"What is Botulism ?\",\n",
    "# ]\n",
    "\n",
    "# eval_answers = [\n",
    "#     \"From the symptoms mentioned you might have a disloacted disk\",  # incorrect answer\n",
    "#     \"You might have asthama.\",  # incorrect answer\n",
    "#     \" Movement and coordination problems associated with cerebral palsy.Please consult a doctor for better diagnosis.\",\n",
    "#     \"Baby acne is small, inflamed bumps on a baby's face, neck, back or chest.\",\n",
    "#     \"Botulism is a rare and potentially fatal illness caused by a toxin produced by the bacterium Clostridium botulinum.\",\n",
    "# ]\n",
    "\n",
    "examples = [\n",
    "    {\"query\": q, \"ground_truths\": [eval_answers[i]]}\n",
    "    for i, q in enumerate(eval_questions)\n",
    "]\n",
    "print(examples)"
   ]
  },
  {
   "cell_type": "code",
   "execution_count": 10,
   "metadata": {},
   "outputs": [],
   "source": [
    "# create evaluation chains\n",
    "faithfulness_chain = RagasEvaluatorChain(metric=faithfulness)\n",
    "answer_relevancy_chain = RagasEvaluatorChain(metric=answer_relevancy)\n",
    "context_precision_chain = RagasEvaluatorChain(metric=context_precision)\n",
    "context_recall_chain = RagasEvaluatorChain(metric=context_recall)"
   ]
  },
  {
   "cell_type": "code",
   "execution_count": 11,
   "metadata": {},
   "outputs": [
    {
     "data": {
      "text/plain": [
       "[{'query': \"Who is Batman's most enduring romance throughout the years?\",\n",
       "  'ground_truths': [\"Catwoman is Batman's most enduring romance throughout the years.\"],\n",
       "  'result': \"Batman's most enduring romance throughout the years is with Catwoman, also known as Selina Kyle.\",\n",
       "  'source_documents': [Document(page_content=\"Main article: Catwoman While most of Batman's romantic relationships tend to be short in duration, Catwoman has been his most enduring romance throughout the years.[112] The attraction between Batman and Catwoman, whose real name is Selina Kyle, is present in nearly every version and medium in which the characters appear, including a love story between their two secret identities as early as in the 1966 film Batman. Although Catwoman is typically portrayed as a villain, Batman and Catwoman have worked together in achieving\", metadata={'page': 6, 'source': '../data/Batman_wiki.pdf'}),\n",
       "   Document(page_content=' reputation as a manufactured illusion to support his mission as Batman, while others have depicted Bruce Wayne as genuinely enjoying the benefits of being \"Gotham\\'s most eligible bachelor\". Bruce Wayne has been portrayed as being romantically linked with many women throughout his various incarnations. Batman\\'s first romantic interest was Julie Madison in Detective Comics #31 (September 1939); however, their romance was short-lived. Some of Batman\\'s romantic interests have been women with a respected status in society, such as Julie Madison,', metadata={'page': 5, 'source': '../data/Batman_wiki.pdf'})]},\n",
       " {'query': 'Who created the character Batman and when did he first appear in Detective Comics?',\n",
       "  'ground_truths': ['The character Batman was created by artist Bob Kane and writer Bill Finger. He first appeared in Detective Comics on March 30, 1939.'],\n",
       "  'result': 'The character Batman was created by artist Bob Kane and writer Bill Finger. He first appeared in Detective Comics #27, which was published on March 30, 1939.',\n",
       "  'source_documents': [Document(page_content=\"Batman[a] is a superhero appearing in American comic books published by DC Comics. The character was created by artist Bob Kane and writer Bill Finger, and debuted in the 27th issue of the comic book Detective Comics on March 30, 1939. In the DC Universe continuity, Batman is the alias of Bruce Wayne, a wealthy American playboy, philanthropist, and industrialist who resides in Gotham City. Batman's origin story features him swearing vengeance against criminals after witnessing the murder of his parents Thomas and\", metadata={'page': 0, 'source': '../data/Batman_wiki.pdf'}),\n",
       "   Document(page_content=\" early 1939 to capitalize on the popularity of DC's Superman; although Kane frequently claimed sole creation credit, Finger substantially developed the concept from a generic superhero into something more bat-like. The character received his own spin-off publication, Batman, in 1940. Batman was originally introduced as a ruthless vigilante who frequently killed or maimed criminals, but evolved into a character with a stringent moral code and strong sense of justice. Unlike most superheroes, Batman does not possess any superpowers, instead relying on his\", metadata={'page': 0, 'source': '../data/Batman_wiki.pdf'})]}]"
      ]
     },
     "execution_count": 11,
     "metadata": {},
     "output_type": "execute_result"
    }
   ],
   "source": [
    "predictions = chain.batch(examples)\n",
    "predictions"
   ]
  },
  {
   "cell_type": "code",
   "execution_count": null,
   "metadata": {},
   "outputs": [],
   "source": [
    "time_start = time.time()"
   ]
  },
  {
   "cell_type": "code",
   "execution_count": null,
   "metadata": {},
   "outputs": [],
   "source": [
    "faithfulness_scores = faithfulness_chain.evaluate(examples, predictions)\n",
    "faithfulness_scores"
   ]
  },
  {
   "cell_type": "code",
   "execution_count": null,
   "metadata": {},
   "outputs": [],
   "source": [
    "for i, score in enumerate(faithfulness_scores):\n",
    "    predictions[i].update(score)"
   ]
  },
  {
   "cell_type": "code",
   "execution_count": null,
   "metadata": {},
   "outputs": [],
   "source": [
    "context_precision_scores = context_precision_chain.evaluate(examples, predictions)\n",
    "context_precision_scores"
   ]
  },
  {
   "cell_type": "code",
   "execution_count": null,
   "metadata": {},
   "outputs": [],
   "source": [
    "for i, score in enumerate(context_precision_scores):\n",
    "    predictions[i].update(score)"
   ]
  },
  {
   "cell_type": "code",
   "execution_count": null,
   "metadata": {},
   "outputs": [],
   "source": [
    "answer_relevancy_scores = answer_relevancy_chain.evaluate(examples, predictions)\n",
    "answer_relevancy_scores"
   ]
  },
  {
   "cell_type": "code",
   "execution_count": null,
   "metadata": {},
   "outputs": [],
   "source": [
    "for i, score in enumerate(answer_relevancy_scores):\n",
    "    predictions[i].update(score)"
   ]
  },
  {
   "cell_type": "code",
   "execution_count": null,
   "metadata": {},
   "outputs": [],
   "source": [
    "context_recall_scores = context_recall_chain.evaluate(examples, predictions)\n",
    "context_recall_scores"
   ]
  },
  {
   "cell_type": "code",
   "execution_count": null,
   "metadata": {},
   "outputs": [],
   "source": [
    "for i, score in enumerate(context_recall_scores):\n",
    "    predictions[i].update(score)"
   ]
  },
  {
   "cell_type": "code",
   "execution_count": null,
   "metadata": {},
   "outputs": [],
   "source": [
    "df_scores = pd.DataFrame(predictions)\n",
    "df_scores"
   ]
  },
  {
   "cell_type": "code",
   "execution_count": null,
   "metadata": {},
   "outputs": [],
   "source": [
    "# Display average scores\n",
    "mean_faithfulness = df_scores['faithfulness_score'].mean()\n",
    "mean_context_precision = df_scores['context_precision_score'].mean()\n",
    "mean_answer_relevancy = df_scores['answer_relevancy_score'].mean()\n",
    "mean_context_recall = df_scores['context_recall_score'].mean()\n",
    "\n",
    "print(f\"mean_faithfulness: {mean_faithfulness}\")\n",
    "print(f\"mean_context_precision: {mean_context_precision}\")\n",
    "print(f\"mean_answer_relevancy: {mean_answer_relevancy}\")\n",
    "print(f\"mean_context_recall: {mean_context_recall}\")"
   ]
  },
  {
   "cell_type": "code",
   "execution_count": null,
   "metadata": {},
   "outputs": [],
   "source": [
    "time_to_evaluate = time.time() - time_start\n",
    "time_to_evaluate"
   ]
  },
  {
   "cell_type": "code",
   "execution_count": null,
   "metadata": {},
   "outputs": [],
   "source": [
    "params = {\n",
    "    \"Input document\": \"Batman_wiki.pdf\",\n",
    "    \"Evaluation questions\": \"batman_eval_simple.csv\",\n",
    "    \"summarization_llm\": \"gpt-3.5-turbo\"\n",
    "}\n",
    "\n",
    "metrics = {\"mean_faithfulness\": mean_faithfulness, \n",
    "           \"mean_context_precision\": mean_context_precision, \n",
    "           \"mean_answer_relevancy\": mean_answer_relevancy, \n",
    "           \"mean_context_recall\": mean_context_recall,\n",
    "           \"time_to_evaluate\": time_to_evaluate}"
   ]
  },
  {
   "cell_type": "code",
   "execution_count": null,
   "metadata": {},
   "outputs": [],
   "source": [
    "# Initiate the MLflow run context\n",
    "with mlflow.start_run(run_name=run_name) as run:\n",
    "    # Log the parameters used for the model fit\n",
    "    mlflow.log_params(params)\n",
    "\n",
    "    # Log the error metrics that were calculated during validation\n",
    "    mlflow.log_metrics(metrics)\n",
    "\n",
    "    # # Log an artifact (output file)\n",
    "    # if not os.path.exists(\"outputs\"):\n",
    "    #     os.makedirs(\"outputs\")\n",
    "    # with open(\"outputs/test.txt\", \"w\") as f:\n",
    "    #     f.write(\"hello world!\")\n",
    "    # mlflow.log_artifacts()"
   ]
  },
  {
   "cell_type": "markdown",
   "metadata": {},
   "source": [
    "# Notes\n",
    "- Multiple options for evaluation\n",
    "    1) Run RAG in a loop over each example question.\n",
    "    - store questions and ground truths (from testsetGenerator), and contexts and answers in separate lists\n",
    "    - Create Dataset from_dict like dataset = Dataset.from_dict(data_samples)\n",
    "    - run Ragas Evaluate(Dataset) \n",
    "    2) Langchain Integration: Use RagasEvaluatorChain directly on results of QA Chain "
   ]
  },
  {
   "cell_type": "markdown",
   "metadata": {},
   "source": [
    "# Scratch"
   ]
  },
  {
   "cell_type": "code",
   "execution_count": null,
   "metadata": {},
   "outputs": [],
   "source": [
    "from datasets import load_dataset\n",
    "dataset = load_dataset(\"csv\", data_files=\"../data/batman_eval_simple.csv\")\n",
    "dataset"
   ]
  },
  {
   "cell_type": "code",
   "execution_count": null,
   "metadata": {},
   "outputs": [],
   "source": [
    "fiqa_eval = load_dataset(\"explodinggradients/fiqa\", \"ragas_eval\")\n",
    "fiqa_eval"
   ]
  },
  {
   "cell_type": "code",
   "execution_count": null,
   "metadata": {},
   "outputs": [],
   "source": [
    "result = evaluate(\n",
    "    dataset['train'], # fiqa_eval[\"baseline\"].select(range(3)), # selecting only 3\n",
    "    metrics=[\n",
    "        context_precision,\n",
    "        faithfulness,\n",
    "        answer_relevancy,\n",
    "        # context_recall,\n",
    "    ],\n",
    ")\n",
    "\n",
    "result"
   ]
  },
  {
   "cell_type": "code",
   "execution_count": null,
   "metadata": {},
   "outputs": [],
   "source": [
    "df = result.to_pandas()\n",
    "df.head()"
   ]
  },
  {
   "cell_type": "markdown",
   "metadata": {},
   "source": []
  }
 ],
 "metadata": {
  "kernelspec": {
   "display_name": "genai-poc",
   "language": "python",
   "name": "python3"
  },
  "language_info": {
   "codemirror_mode": {
    "name": "ipython",
    "version": 3
   },
   "file_extension": ".py",
   "mimetype": "text/x-python",
   "name": "python",
   "nbconvert_exporter": "python",
   "pygments_lexer": "ipython3",
   "version": "3.11.3"
  },
  "orig_nbformat": 4
 },
 "nbformat": 4,
 "nbformat_minor": 2
}

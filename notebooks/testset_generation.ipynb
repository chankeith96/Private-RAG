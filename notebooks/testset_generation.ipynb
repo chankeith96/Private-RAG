{
 "cells": [
  {
   "cell_type": "code",
   "execution_count": null,
   "metadata": {},
   "outputs": [],
   "source": [
    "from ragas.testset import TestsetGenerator\n",
    "from langchain.document_loaders import PyPDFLoader\n",
    "from langchain.embeddings.openai import OpenAIEmbeddings\n",
    "from langchain.chat_models import ChatOpenAI\n",
    "from ragas.llms import LangchainLLM"
   ]
  },
  {
   "cell_type": "markdown",
   "metadata": {},
   "source": [
    "# Create Test set"
   ]
  },
  {
   "cell_type": "code",
   "execution_count": null,
   "metadata": {},
   "outputs": [],
   "source": [
    "loader = PyPDFLoader(\"../data/Batman_wiki.pdf\")\n",
    "pages = loader.load()"
   ]
  },
  {
   "cell_type": "code",
   "execution_count": null,
   "metadata": {},
   "outputs": [],
   "source": [
    "# Add custom llms and embeddings\n",
    "generator_llm = LangchainLLM(ChatOpenAI(model=\"gpt-3.5-turbo\"))\n",
    "critic_llm = LangchainLLM(ChatOpenAI(model=\"gpt-4\"))\n",
    "embeddings_model = OpenAIEmbeddings()\n",
    "\n",
    "# Change resulting question type distribution\n",
    "testset_distribution = {\n",
    "    \"simple\": 1.0,\n",
    "    \"reasoning\": 0.0,\n",
    "    \"multi_context\": 0.0,\n",
    "    \"conditional\": 0.0,\n",
    "}\n",
    "\n",
    "# percentage of conversational question\n",
    "chat_qa = 0\n",
    "\n",
    "testset_generator = TestsetGenerator(\n",
    "    generator_llm,\n",
    "    critic_llm,\n",
    "    embeddings_model,\n",
    "    testset_distribution=testset_distribution,\n",
    "    chat_qa=chat_qa,\n",
    ")\n",
    "\n",
    "evalset = testset_generator.generate(pages, test_size=10)\n",
    "evalset_df = evalset.to_pandas()\n",
    "evalset_df.head()"
   ]
  },
  {
   "cell_type": "code",
   "execution_count": null,
   "metadata": {},
   "outputs": [],
   "source": [
    "# testsetgenerator = TestsetGenerator.from_default()\n",
    "# test_size = 2\n",
    "# testset = testsetgenerator.generate(pages, test_size=test_size)\n",
    "# test_df = testset.to_pandas()\n",
    "# test_df.head()"
   ]
  },
  {
   "cell_type": "code",
   "execution_count": null,
   "metadata": {},
   "outputs": [],
   "source": [
    "evalset_df['question_type'].value_counts()"
   ]
  },
  {
   "cell_type": "markdown",
   "metadata": {},
   "source": [
    "# Save test set"
   ]
  },
  {
   "cell_type": "code",
   "execution_count": null,
   "metadata": {},
   "outputs": [],
   "source": [
    "# test_df.to_csv(\"../data/batman_eval_simple.csv\", index=False)"
   ]
  }
 ],
 "metadata": {
  "kernelspec": {
   "display_name": "genai-poc",
   "language": "python",
   "name": "python3"
  },
  "language_info": {
   "name": "python",
   "version": "3.11.3"
  }
 },
 "nbformat": 4,
 "nbformat_minor": 2
}

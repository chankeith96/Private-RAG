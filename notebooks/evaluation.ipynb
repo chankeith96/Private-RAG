{
 "cells": [
  {
   "cell_type": "code",
   "execution_count": 1,
   "metadata": {},
   "outputs": [],
   "source": [
    "from ragas.metrics import (\n",
    "    answer_relevancy,\n",
    "    faithfulness,\n",
    "    context_recall,\n",
    "    context_precision,\n",
    ")\n",
    "from ragas import evaluate\n",
    "from langchain.document_loaders import PyPDFLoader\n",
    "from langchain.text_splitter import RecursiveCharacterTextSplitter\n",
    "from langchain.embeddings.openai import OpenAIEmbeddings\n",
    "from langchain.chains import RetrievalQA\n",
    "import time\n",
    "from langchain.vectorstores import Chroma\n",
    "from langchain.chat_models import ChatOpenAI\n",
    "from langchain.text_splitter import TokenTextSplitter\n",
    "import pandas as pd\n",
    "from ragas.langchain.evalchain import RagasEvaluatorChain\n"
   ]
  },
  {
   "cell_type": "markdown",
   "metadata": {},
   "source": [
    "# Evaluating Dataset"
   ]
  },
  {
   "cell_type": "code",
   "execution_count": 2,
   "metadata": {},
   "outputs": [],
   "source": [
    "# Ragas uses gpt3.5 by default - it's possible to change LLM for metrics \n",
    "faithfulness.llm.langchain_llm = ChatOpenAI(model=\"gpt-3.5-turbo\", request_timeout=120)\n",
    "# context_precision.llm.langchain_llm = ChatOpenAI(model=\"gpt-3.5-turbo\")\n",
    "# answer_relevancy.llm.langchain_llm = ChatOpenAI(model=\"gpt-3.5-turbo\")\n",
    "context_recall.llm.langchain_llm = ChatOpenAI(model=\"gpt-3.5-turbo\", request_timeout=120)"
   ]
  },
  {
   "cell_type": "markdown",
   "metadata": {},
   "source": [
    "# Testing RagasEvaluatorChain"
   ]
  },
  {
   "cell_type": "code",
   "execution_count": 3,
   "metadata": {},
   "outputs": [],
   "source": [
    "llm = ChatOpenAI(temperature=0, model_name=\"gpt-3.5-turbo\", request_timeout=120)\n",
    "\n",
    "loader = PyPDFLoader(\"../data/Batman_wiki.pdf\")\n",
    "pages = loader.load()\n",
    "\n",
    "# Chunk and Embeddings\n",
    "text_splitter = TokenTextSplitter(chunk_size=100, chunk_overlap=0)\n",
    "\n",
    "# text_splitter = RecursiveCharacterTextSplitter(\n",
    "#     chunk_size=600,\n",
    "#     chunk_overlap=300,\n",
    "#     separators=[\"\\n\\n\", \"\\n\", \" \", \"\"],  # adjust these as necessary\n",
    "# )\n",
    "\n",
    "texts = text_splitter.split_documents(pages)\n",
    "\n",
    "embeddings = OpenAIEmbeddings()\n",
    "\n",
    "# Vector Store\n",
    "db = Chroma.from_documents(documents=texts, embedding=embeddings)\n",
    "\n",
    "# Initialise RetrievalQA Chain\n",
    "chain = RetrievalQA.from_chain_type(\n",
    "    llm,\n",
    "    retriever=db.as_retriever(\n",
    "        search_kwargs={\"k\": 2}\n",
    "    ),  # search_type=\"mmr\"),#search_kwargs={\"k\":3}),\n",
    "    return_source_documents=True,\n",
    "    # chain_type_kwargs={\"prompt\": rag_prompt_selector.get_prompt(llm)},\n",
    ")"
   ]
  },
  {
   "cell_type": "code",
   "execution_count": 4,
   "metadata": {},
   "outputs": [],
   "source": [
    "df = pd.read_csv(\"../data/batman_eval_simple.csv\")\n",
    "df = df.head(2)\n",
    "eval_questions = df[\"question\"].values.tolist()\n",
    "eval_answers = df['answer'].values.tolist()"
   ]
  },
  {
   "cell_type": "code",
   "execution_count": 5,
   "metadata": {},
   "outputs": [
    {
     "data": {
      "text/plain": [
       "[\"Catwoman is Batman's most enduring romance throughout the years.\",\n",
       " 'The character Batman was created by artist Bob Kane and writer Bill Finger. He first appeared in Detective Comics on March 30, 1939.']"
      ]
     },
     "execution_count": 5,
     "metadata": {},
     "output_type": "execute_result"
    }
   ],
   "source": [
    "eval_answers"
   ]
  },
  {
   "cell_type": "code",
   "execution_count": 6,
   "metadata": {},
   "outputs": [
    {
     "name": "stdout",
     "output_type": "stream",
     "text": [
      "[{'query': \"Who is Batman's most enduring romance throughout the years?\", 'ground_truths': [\"Catwoman is Batman's most enduring romance throughout the years.\"]}, {'query': 'Who created the character Batman and when did he first appear in Detective Comics?', 'ground_truths': ['The character Batman was created by artist Bob Kane and writer Bill Finger. He first appeared in Detective Comics on March 30, 1939.']}]\n"
     ]
    }
   ],
   "source": [
    "# #In order to evaluate the qa system we generated a few relevant questions and answers\n",
    "# eval_questions = [\n",
    "#     \"I have persistent back pain since 4 weeks,I workouut but havent had any sports injury.What might be the cause of the back pain?\",\n",
    "#     \"I have shortness of breath and frequently feel nauseated and tired.What can be the possible cause?\",\n",
    "#     \"My 12 year old son has Poor coordination Unsteady walk and a tendency to stumble while walking and poor coordination between two hands.What might be the possible cuase?\",\n",
    "#     \"What is Baby acne ?\",\n",
    "#     \"What is Botulism ?\",\n",
    "# ]\n",
    "\n",
    "# eval_answers = [\n",
    "#     \"From the symptoms mentioned you might have a disloacted disk\",  # incorrect answer\n",
    "#     \"You might have asthama.\",  # incorrect answer\n",
    "#     \" Movement and coordination problems associated with cerebral palsy.Please consult a doctor for better diagnosis.\",\n",
    "#     \"Baby acne is small, inflamed bumps on a baby's face, neck, back or chest.\",\n",
    "#     \"Botulism is a rare and potentially fatal illness caused by a toxin produced by the bacterium Clostridium botulinum.\",\n",
    "# ]\n",
    "\n",
    "examples = [\n",
    "    {\"query\": q, \"ground_truths\": [eval_answers[i]]}\n",
    "    for i, q in enumerate(eval_questions)\n",
    "]\n",
    "print(examples)"
   ]
  },
  {
   "cell_type": "code",
   "execution_count": 7,
   "metadata": {},
   "outputs": [],
   "source": [
    "# create evaluation chains\n",
    "faithfulness_chain = RagasEvaluatorChain(metric=faithfulness)\n",
    "answer_relevancy_chain = RagasEvaluatorChain(metric=answer_relevancy)\n",
    "context_precision_chain = RagasEvaluatorChain(metric=context_precision)\n",
    "context_recall_chain = RagasEvaluatorChain(metric=context_recall)"
   ]
  },
  {
   "cell_type": "code",
   "execution_count": 8,
   "metadata": {},
   "outputs": [
    {
     "data": {
      "text/plain": [
       "[{'query': \"Who is Batman's most enduring romance throughout the years?\",\n",
       "  'ground_truths': [\"Catwoman is Batman's most enduring romance throughout the years.\"],\n",
       "  'result': \"Batman's most enduring romance throughout the years is with Catwoman, also known as Selina Kyle.\",\n",
       "  'source_documents': [Document(page_content=\"Main article: Catwoman While most of Batman's romantic relationships tend to be short in duration, Catwoman has been his most enduring romance throughout the years.[112] The attraction between Batman and Catwoman, whose real name is Selina Kyle, is present in nearly every version and medium in which the characters appear, including a love story between their two secret identities as early as in the 1966 film Batman. Although Catwoman is typically portrayed as a villain, Batman and Catwoman have worked together in achieving\", metadata={'page': 6, 'source': '../data/Batman_wiki.pdf'}),\n",
       "   Document(page_content=' reputation as a manufactured illusion to support his mission as Batman, while others have depicted Bruce Wayne as genuinely enjoying the benefits of being \"Gotham\\'s most eligible bachelor\". Bruce Wayne has been portrayed as being romantically linked with many women throughout his various incarnations. Batman\\'s first romantic interest was Julie Madison in Detective Comics #31 (September 1939); however, their romance was short-lived. Some of Batman\\'s romantic interests have been women with a respected status in society, such as Julie Madison,', metadata={'page': 5, 'source': '../data/Batman_wiki.pdf'})]},\n",
       " {'query': 'Who created the character Batman and when did he first appear in Detective Comics?',\n",
       "  'ground_truths': ['The character Batman was created by artist Bob Kane and writer Bill Finger. He first appeared in Detective Comics on March 30, 1939.'],\n",
       "  'result': 'The character Batman was created by artist Bob Kane and writer Bill Finger. He first appeared in Detective Comics #27, which was published on March 30, 1939.',\n",
       "  'source_documents': [Document(page_content=\"Batman[a] is a superhero appearing in American comic books published by DC Comics. The character was created by artist Bob Kane and writer Bill Finger, and debuted in the 27th issue of the comic book Detective Comics on March 30, 1939. In the DC Universe continuity, Batman is the alias of Bruce Wayne, a wealthy American playboy, philanthropist, and industrialist who resides in Gotham City. Batman's origin story features him swearing vengeance against criminals after witnessing the murder of his parents Thomas and\", metadata={'page': 0, 'source': '../data/Batman_wiki.pdf'}),\n",
       "   Document(page_content=\" early 1939 to capitalize on the popularity of DC's Superman; although Kane frequently claimed sole creation credit, Finger substantially developed the concept from a generic superhero into something more bat-like. The character received his own spin-off publication, Batman, in 1940. Batman was originally introduced as a ruthless vigilante who frequently killed or maimed criminals, but evolved into a character with a stringent moral code and strong sense of justice. Unlike most superheroes, Batman does not possess any superpowers, instead relying on his\", metadata={'page': 0, 'source': '../data/Batman_wiki.pdf'})]}]"
      ]
     },
     "execution_count": 8,
     "metadata": {},
     "output_type": "execute_result"
    }
   ],
   "source": [
    "predictions = chain.batch(examples)\n",
    "predictions"
   ]
  },
  {
   "cell_type": "code",
   "execution_count": 9,
   "metadata": {},
   "outputs": [],
   "source": [
    "time_start = time.time()"
   ]
  },
  {
   "cell_type": "code",
   "execution_count": 10,
   "metadata": {},
   "outputs": [
    {
     "name": "stderr",
     "output_type": "stream",
     "text": [
      "100%|██████████| 1/1 [00:31<00:00, 31.34s/it]\n"
     ]
    },
    {
     "data": {
      "text/plain": [
       "[{'faithfulness_score': 1.0}, {'faithfulness_score': 1.0}]"
      ]
     },
     "execution_count": 10,
     "metadata": {},
     "output_type": "execute_result"
    }
   ],
   "source": [
    "faithfulness_scores = faithfulness_chain.evaluate(examples, predictions)\n",
    "faithfulness_scores"
   ]
  },
  {
   "cell_type": "code",
   "execution_count": 11,
   "metadata": {},
   "outputs": [],
   "source": [
    "for i, score in enumerate(faithfulness_scores):\n",
    "    predictions[i].update(score)"
   ]
  },
  {
   "cell_type": "code",
   "execution_count": 12,
   "metadata": {},
   "outputs": [
    {
     "name": "stderr",
     "output_type": "stream",
     "text": [
      "100%|██████████| 1/1 [00:05<00:00,  5.92s/it]\n"
     ]
    },
    {
     "data": {
      "text/plain": [
       "[{'context_precision_score': 0.14285714285714285},\n",
       " {'context_precision_score': 0.125}]"
      ]
     },
     "execution_count": 12,
     "metadata": {},
     "output_type": "execute_result"
    }
   ],
   "source": [
    "context_precision_scores = context_precision_chain.evaluate(examples, predictions)\n",
    "context_precision_scores"
   ]
  },
  {
   "cell_type": "code",
   "execution_count": 13,
   "metadata": {},
   "outputs": [],
   "source": [
    "for i, score in enumerate(context_precision_scores):\n",
    "    predictions[i].update(score)"
   ]
  },
  {
   "cell_type": "code",
   "execution_count": 14,
   "metadata": {},
   "outputs": [
    {
     "name": "stderr",
     "output_type": "stream",
     "text": [
      "100%|██████████| 1/1 [00:04<00:00,  4.52s/it]\n"
     ]
    },
    {
     "data": {
      "text/plain": [
       "[{'answer_relevancy_score': 0.952090879451938},\n",
       " {'answer_relevancy_score': 0.9846561788440309}]"
      ]
     },
     "execution_count": 14,
     "metadata": {},
     "output_type": "execute_result"
    }
   ],
   "source": [
    "answer_relevancy_scores = answer_relevancy_chain.evaluate(examples, predictions)\n",
    "answer_relevancy_scores"
   ]
  },
  {
   "cell_type": "code",
   "execution_count": 15,
   "metadata": {},
   "outputs": [],
   "source": [
    "for i, score in enumerate(answer_relevancy_scores):\n",
    "    predictions[i].update(score)"
   ]
  },
  {
   "cell_type": "code",
   "execution_count": 16,
   "metadata": {},
   "outputs": [
    {
     "name": "stderr",
     "output_type": "stream",
     "text": [
      "100%|██████████| 1/1 [00:09<00:00,  9.01s/it]\n"
     ]
    },
    {
     "data": {
      "text/plain": [
       "[{'context_recall_score': 1.0}, {'context_recall_score': 1.0}]"
      ]
     },
     "execution_count": 16,
     "metadata": {},
     "output_type": "execute_result"
    }
   ],
   "source": [
    "context_recall_scores = context_recall_chain.evaluate(examples, predictions)\n",
    "context_recall_scores"
   ]
  },
  {
   "cell_type": "code",
   "execution_count": 17,
   "metadata": {},
   "outputs": [],
   "source": [
    "for i, score in enumerate(context_recall_scores):\n",
    "    predictions[i].update(score)"
   ]
  },
  {
   "cell_type": "code",
   "execution_count": 18,
   "metadata": {},
   "outputs": [
    {
     "data": {
      "text/html": [
       "<div>\n",
       "<style scoped>\n",
       "    .dataframe tbody tr th:only-of-type {\n",
       "        vertical-align: middle;\n",
       "    }\n",
       "\n",
       "    .dataframe tbody tr th {\n",
       "        vertical-align: top;\n",
       "    }\n",
       "\n",
       "    .dataframe thead th {\n",
       "        text-align: right;\n",
       "    }\n",
       "</style>\n",
       "<table border=\"1\" class=\"dataframe\">\n",
       "  <thead>\n",
       "    <tr style=\"text-align: right;\">\n",
       "      <th></th>\n",
       "      <th>query</th>\n",
       "      <th>ground_truths</th>\n",
       "      <th>result</th>\n",
       "      <th>source_documents</th>\n",
       "      <th>faithfulness_score</th>\n",
       "      <th>context_precision_score</th>\n",
       "      <th>answer_relevancy_score</th>\n",
       "      <th>context_recall_score</th>\n",
       "    </tr>\n",
       "  </thead>\n",
       "  <tbody>\n",
       "    <tr>\n",
       "      <th>0</th>\n",
       "      <td>Who is Batman's most enduring romance througho...</td>\n",
       "      <td>[Catwoman is Batman's most enduring romance th...</td>\n",
       "      <td>Batman's most enduring romance throughout the ...</td>\n",
       "      <td>[page_content=\"Main article: Catwoman While mo...</td>\n",
       "      <td>1.0</td>\n",
       "      <td>0.142857</td>\n",
       "      <td>0.952091</td>\n",
       "      <td>1.0</td>\n",
       "    </tr>\n",
       "    <tr>\n",
       "      <th>1</th>\n",
       "      <td>Who created the character Batman and when did ...</td>\n",
       "      <td>[The character Batman was created by artist Bo...</td>\n",
       "      <td>The character Batman was created by artist Bob...</td>\n",
       "      <td>[page_content=\"Batman[a] is a superhero appear...</td>\n",
       "      <td>1.0</td>\n",
       "      <td>0.125000</td>\n",
       "      <td>0.984656</td>\n",
       "      <td>1.0</td>\n",
       "    </tr>\n",
       "  </tbody>\n",
       "</table>\n",
       "</div>"
      ],
      "text/plain": [
       "                                               query  \\\n",
       "0  Who is Batman's most enduring romance througho...   \n",
       "1  Who created the character Batman and when did ...   \n",
       "\n",
       "                                       ground_truths  \\\n",
       "0  [Catwoman is Batman's most enduring romance th...   \n",
       "1  [The character Batman was created by artist Bo...   \n",
       "\n",
       "                                              result  \\\n",
       "0  Batman's most enduring romance throughout the ...   \n",
       "1  The character Batman was created by artist Bob...   \n",
       "\n",
       "                                    source_documents  faithfulness_score  \\\n",
       "0  [page_content=\"Main article: Catwoman While mo...                 1.0   \n",
       "1  [page_content=\"Batman[a] is a superhero appear...                 1.0   \n",
       "\n",
       "   context_precision_score  answer_relevancy_score  context_recall_score  \n",
       "0                 0.142857                0.952091                   1.0  \n",
       "1                 0.125000                0.984656                   1.0  "
      ]
     },
     "execution_count": 18,
     "metadata": {},
     "output_type": "execute_result"
    }
   ],
   "source": [
    "df_scores = pd.DataFrame(predictions)\n",
    "df_scores"
   ]
  },
  {
   "cell_type": "code",
   "execution_count": 19,
   "metadata": {},
   "outputs": [
    {
     "name": "stdout",
     "output_type": "stream",
     "text": [
      "mean_faithfulness: 1.0\n",
      "mean_context_precision: 0.13392857142857142\n",
      "mean_answer_relevancy: 0.9683735291479845\n",
      "mean_context_recall: 1.0\n"
     ]
    }
   ],
   "source": [
    "# Display average scores\n",
    "mean_faithfulness = df_scores['faithfulness_score'].mean()\n",
    "mean_context_precision = df_scores['context_precision_score'].mean()\n",
    "mean_answer_relevancy = df_scores['answer_relevancy_score'].mean()\n",
    "mean_context_recall = df_scores['context_recall_score'].mean()\n",
    "\n",
    "print(f\"mean_faithfulness: {mean_faithfulness}\")\n",
    "print(f\"mean_context_precision: {mean_context_precision}\")\n",
    "print(f\"mean_answer_relevancy: {mean_answer_relevancy}\")\n",
    "print(f\"mean_context_recall: {mean_context_recall}\")"
   ]
  },
  {
   "cell_type": "code",
   "execution_count": 20,
   "metadata": {},
   "outputs": [
    {
     "data": {
      "text/plain": [
       "51.124900102615356"
      ]
     },
     "execution_count": 20,
     "metadata": {},
     "output_type": "execute_result"
    }
   ],
   "source": [
    "time_to_evaluate = time.time() - time_start\n",
    "time_to_evaluate"
   ]
  },
  {
   "cell_type": "markdown",
   "metadata": {},
   "source": [
    "# Notes\n",
    "- Multiple options for evaluation\n",
    "    1) Run RAG in a loop over each example question.\n",
    "    - store questions and ground truths (from testsetGenerator), and contexts and answers in separate lists\n",
    "    - Create Dataset from_dict like dataset = Dataset.from_dict(data_samples)\n",
    "    - run Ragas Evaluate(Dataset) \n",
    "    2) Langchain Integration: Use RagasEvaluatorChain directly on results of QA Chain "
   ]
  },
  {
   "cell_type": "markdown",
   "metadata": {},
   "source": [
    "# Scratch"
   ]
  },
  {
   "cell_type": "code",
   "execution_count": null,
   "metadata": {},
   "outputs": [
    {
     "data": {
      "application/vnd.jupyter.widget-view+json": {
       "model_id": "d059ff40c9034a23b398b5745ccdf0fd",
       "version_major": 2,
       "version_minor": 0
      },
      "text/plain": [
       "Downloading data files:   0%|          | 0/1 [00:00<?, ?it/s]"
      ]
     },
     "metadata": {},
     "output_type": "display_data"
    },
    {
     "data": {
      "application/vnd.jupyter.widget-view+json": {
       "model_id": "ec97461a26f5437dbd4b83becaa03bc4",
       "version_major": 2,
       "version_minor": 0
      },
      "text/plain": [
       "Extracting data files:   0%|          | 0/1 [00:00<?, ?it/s]"
      ]
     },
     "metadata": {},
     "output_type": "display_data"
    },
    {
     "data": {
      "application/vnd.jupyter.widget-view+json": {
       "model_id": "f9bd90f684434c40a704650fd9c003d7",
       "version_major": 2,
       "version_minor": 0
      },
      "text/plain": [
       "Generating train split: 0 examples [00:00, ? examples/s]"
      ]
     },
     "metadata": {},
     "output_type": "display_data"
    },
    {
     "data": {
      "text/plain": [
       "DatasetDict({\n",
       "    train: Dataset({\n",
       "        features: ['question', 'context', 'answer', 'question_type', 'episode_done'],\n",
       "        num_rows: 10\n",
       "    })\n",
       "})"
      ]
     },
     "metadata": {},
     "output_type": "display_data"
    }
   ],
   "source": [
    "from datasets import load_dataset\n",
    "dataset = load_dataset(\"csv\", data_files=\"../data/batman_eval_simple.csv\")\n",
    "dataset"
   ]
  },
  {
   "cell_type": "code",
   "execution_count": null,
   "metadata": {},
   "outputs": [
    {
     "data": {
      "text/plain": [
       "DatasetDict({\n",
       "    baseline: Dataset({\n",
       "        features: ['question', 'ground_truths', 'answer', 'contexts'],\n",
       "        num_rows: 30\n",
       "    })\n",
       "})"
      ]
     },
     "metadata": {},
     "output_type": "display_data"
    }
   ],
   "source": [
    "fiqa_eval = load_dataset(\"explodinggradients/fiqa\", \"ragas_eval\")\n",
    "fiqa_eval"
   ]
  },
  {
   "cell_type": "code",
   "execution_count": null,
   "metadata": {},
   "outputs": [
    {
     "ename": "ValueError",
     "evalue": "Dataset feature \"contexts\" should be of type Sequence[string], got <class 'datasets.features.features.Value'>",
     "output_type": "error",
     "traceback": [
      "\u001b[0;31m---------------------------------------------------------------------------\u001b[0m\n",
      "\u001b[0;31mValueError\u001b[0m                                Traceback (most recent call last)\n",
      "\u001b[1;32m/Users/chan.k.20/git/RAG-Implementation/notebooks/evaluation.ipynb Cell 11\u001b[0m line \u001b[0;36m1\n",
      "\u001b[1;32m      <a href='vscode-notebook-cell:/Users/chan.k.20/git/RAG-Implementation/notebooks/evaluation.ipynb#W2sZmlsZQ%3D%3D?line=0'>1</a>\u001b[0m \u001b[39m# result = evaluate(\u001b[39;00m\n",
      "\u001b[1;32m      <a href='vscode-notebook-cell:/Users/chan.k.20/git/RAG-Implementation/notebooks/evaluation.ipynb#W2sZmlsZQ%3D%3D?line=1'>2</a>\u001b[0m \u001b[39m#     fiqa_eval[\"baseline\"].select(range(3)), # selecting only 3\u001b[39;00m\n",
      "\u001b[1;32m      <a href='vscode-notebook-cell:/Users/chan.k.20/git/RAG-Implementation/notebooks/evaluation.ipynb#W2sZmlsZQ%3D%3D?line=2'>3</a>\u001b[0m \u001b[39m#     metrics=[\u001b[39;00m\n",
      "\u001b[0;32m   (...)\u001b[0m\n",
      "\u001b[1;32m      <a href='vscode-notebook-cell:/Users/chan.k.20/git/RAG-Implementation/notebooks/evaluation.ipynb#W2sZmlsZQ%3D%3D?line=7'>8</a>\u001b[0m \u001b[39m#     ],\u001b[39;00m\n",
      "\u001b[1;32m      <a href='vscode-notebook-cell:/Users/chan.k.20/git/RAG-Implementation/notebooks/evaluation.ipynb#W2sZmlsZQ%3D%3D?line=8'>9</a>\u001b[0m \u001b[39m# )\u001b[39;00m\n",
      "\u001b[0;32m---> <a href='vscode-notebook-cell:/Users/chan.k.20/git/RAG-Implementation/notebooks/evaluation.ipynb#W2sZmlsZQ%3D%3D?line=10'>11</a>\u001b[0m result \u001b[39m=\u001b[39m evaluate(\n",
      "\u001b[1;32m     <a href='vscode-notebook-cell:/Users/chan.k.20/git/RAG-Implementation/notebooks/evaluation.ipynb#W2sZmlsZQ%3D%3D?line=11'>12</a>\u001b[0m     dataset2[\u001b[39m'\u001b[39m\u001b[39mtrain\u001b[39m\u001b[39m'\u001b[39m],\n",
      "\u001b[1;32m     <a href='vscode-notebook-cell:/Users/chan.k.20/git/RAG-Implementation/notebooks/evaluation.ipynb#W2sZmlsZQ%3D%3D?line=12'>13</a>\u001b[0m     metrics\u001b[39m=\u001b[39m[\n",
      "\u001b[1;32m     <a href='vscode-notebook-cell:/Users/chan.k.20/git/RAG-Implementation/notebooks/evaluation.ipynb#W2sZmlsZQ%3D%3D?line=13'>14</a>\u001b[0m         context_precision,\n",
      "\u001b[1;32m     <a href='vscode-notebook-cell:/Users/chan.k.20/git/RAG-Implementation/notebooks/evaluation.ipynb#W2sZmlsZQ%3D%3D?line=14'>15</a>\u001b[0m         faithfulness,\n",
      "\u001b[1;32m     <a href='vscode-notebook-cell:/Users/chan.k.20/git/RAG-Implementation/notebooks/evaluation.ipynb#W2sZmlsZQ%3D%3D?line=15'>16</a>\u001b[0m         answer_relevancy,\n",
      "\u001b[1;32m     <a href='vscode-notebook-cell:/Users/chan.k.20/git/RAG-Implementation/notebooks/evaluation.ipynb#W2sZmlsZQ%3D%3D?line=16'>17</a>\u001b[0m         \u001b[39m# context_recall,\u001b[39;00m\n",
      "\u001b[1;32m     <a href='vscode-notebook-cell:/Users/chan.k.20/git/RAG-Implementation/notebooks/evaluation.ipynb#W2sZmlsZQ%3D%3D?line=17'>18</a>\u001b[0m     ],\n",
      "\u001b[1;32m     <a href='vscode-notebook-cell:/Users/chan.k.20/git/RAG-Implementation/notebooks/evaluation.ipynb#W2sZmlsZQ%3D%3D?line=18'>19</a>\u001b[0m )\n",
      "\u001b[1;32m     <a href='vscode-notebook-cell:/Users/chan.k.20/git/RAG-Implementation/notebooks/evaluation.ipynb#W2sZmlsZQ%3D%3D?line=20'>21</a>\u001b[0m result\n",
      "\n",
      "File \u001b[0;32m~/.local/lib/python3.11/site-packages/ragas/evaluation.py:93\u001b[0m, in \u001b[0;36mevaluate\u001b[0;34m(dataset, metrics, column_map)\u001b[0m\n",
      "\u001b[1;32m     91\u001b[0m \u001b[39m# validation\u001b[39;00m\n",
      "\u001b[1;32m     92\u001b[0m validate_evaluation_modes(dataset, metrics)\n",
      "\u001b[0;32m---> 93\u001b[0m validate_column_dtypes(dataset)\n",
      "\u001b[1;32m     95\u001b[0m \u001b[39m# run the evaluation on dataset with different metrics\u001b[39;00m\n",
      "\u001b[1;32m     96\u001b[0m \u001b[39m# initialize all the models in the metrics\u001b[39;00m\n",
      "\u001b[1;32m     97\u001b[0m [m\u001b[39m.\u001b[39minit_model() \u001b[39mfor\u001b[39;00m m \u001b[39min\u001b[39;00m metrics]\n",
      "\n",
      "File \u001b[0;32m~/.local/lib/python3.11/site-packages/ragas/validation.py:33\u001b[0m, in \u001b[0;36mvalidate_column_dtypes\u001b[0;34m(ds)\u001b[0m\n",
      "\u001b[1;32m     28\u001b[0m \u001b[39mif\u001b[39;00m column_names \u001b[39min\u001b[39;00m ds\u001b[39m.\u001b[39mfeatures:\n",
      "\u001b[1;32m     29\u001b[0m     \u001b[39mif\u001b[39;00m \u001b[39mnot\u001b[39;00m (\n",
      "\u001b[1;32m     30\u001b[0m         \u001b[39misinstance\u001b[39m(ds\u001b[39m.\u001b[39mfeatures[column_names], Sequence)\n",
      "\u001b[1;32m     31\u001b[0m         \u001b[39mand\u001b[39;00m ds\u001b[39m.\u001b[39mfeatures[column_names]\u001b[39m.\u001b[39mfeature\u001b[39m.\u001b[39mdtype \u001b[39m==\u001b[39m \u001b[39m\"\u001b[39m\u001b[39mstring\u001b[39m\u001b[39m\"\u001b[39m\n",
      "\u001b[1;32m     32\u001b[0m     ):\n",
      "\u001b[0;32m---> 33\u001b[0m         \u001b[39mraise\u001b[39;00m \u001b[39mValueError\u001b[39;00m(\n",
      "\u001b[1;32m     34\u001b[0m             \u001b[39mf\u001b[39m\u001b[39m'\u001b[39m\u001b[39mDataset feature \u001b[39m\u001b[39m\"\u001b[39m\u001b[39m{\u001b[39;00mcolumn_names\u001b[39m}\u001b[39;00m\u001b[39m\"\u001b[39m\u001b[39m should be of type\u001b[39m\u001b[39m'\u001b[39m\n",
      "\u001b[1;32m     35\u001b[0m             \u001b[39mf\u001b[39m\u001b[39m\"\u001b[39m\u001b[39m Sequence[string], got \u001b[39m\u001b[39m{\u001b[39;00m\u001b[39mtype\u001b[39m(ds\u001b[39m.\u001b[39mfeatures[column_names])\u001b[39m}\u001b[39;00m\u001b[39m\"\u001b[39m\n",
      "\u001b[1;32m     36\u001b[0m         )\n",
      "\n",
      "\u001b[0;31mValueError\u001b[0m: Dataset feature \"contexts\" should be of type Sequence[string], got <class 'datasets.features.features.Value'>"
     ]
    }
   ],
   "source": [
    "result = evaluate(\n",
    "    dataset['train'], # fiqa_eval[\"baseline\"].select(range(3)), # selecting only 3\n",
    "    metrics=[\n",
    "        context_precision,\n",
    "        faithfulness,\n",
    "        answer_relevancy,\n",
    "        # context_recall,\n",
    "    ],\n",
    ")\n",
    "\n",
    "result"
   ]
  },
  {
   "cell_type": "code",
   "execution_count": null,
   "metadata": {},
   "outputs": [
    {
     "data": {
      "text/html": [
       "<div>\n",
       "<style scoped>\n",
       "    .dataframe tbody tr th:only-of-type {\n",
       "        vertical-align: middle;\n",
       "    }\n",
       "\n",
       "    .dataframe tbody tr th {\n",
       "        vertical-align: top;\n",
       "    }\n",
       "\n",
       "    .dataframe thead th {\n",
       "        text-align: right;\n",
       "    }\n",
       "</style>\n",
       "<table border=\"1\" class=\"dataframe\">\n",
       "  <thead>\n",
       "    <tr style=\"text-align: right;\">\n",
       "      <th></th>\n",
       "      <th>question</th>\n",
       "      <th>contexts</th>\n",
       "      <th>answer</th>\n",
       "      <th>ground_truths</th>\n",
       "      <th>context_precision</th>\n",
       "      <th>faithfulness</th>\n",
       "      <th>answer_relevancy</th>\n",
       "      <th>context_recall</th>\n",
       "    </tr>\n",
       "  </thead>\n",
       "  <tbody>\n",
       "    <tr>\n",
       "      <th>0</th>\n",
       "      <td>How to deposit a cheque issued to an associate...</td>\n",
       "      <td>[Just have the associate sign the back and the...</td>\n",
       "      <td>\\nThe best way to deposit a cheque issued to a...</td>\n",
       "      <td>[Have the check reissued to the proper payee.J...</td>\n",
       "      <td>0.411765</td>\n",
       "      <td>0.666667</td>\n",
       "      <td>0.977489</td>\n",
       "      <td>0.111111</td>\n",
       "    </tr>\n",
       "    <tr>\n",
       "      <th>1</th>\n",
       "      <td>Can I send a money order from USPS as a business?</td>\n",
       "      <td>[Sure you can.  You can fill in whatever you w...</td>\n",
       "      <td>\\nYes, you can send a money order from USPS as...</td>\n",
       "      <td>[Sure you can.  You can fill in whatever you w...</td>\n",
       "      <td>0.285714</td>\n",
       "      <td>1.000000</td>\n",
       "      <td>0.884017</td>\n",
       "      <td>0.800000</td>\n",
       "    </tr>\n",
       "    <tr>\n",
       "      <th>2</th>\n",
       "      <td>1 EIN doing business under multiple business n...</td>\n",
       "      <td>[You're confusing a lot of things here. Compan...</td>\n",
       "      <td>\\nYes, it is possible to have one EIN doing bu...</td>\n",
       "      <td>[You're confusing a lot of things here. Compan...</td>\n",
       "      <td>0.250000</td>\n",
       "      <td>1.000000</td>\n",
       "      <td>0.927708</td>\n",
       "      <td>1.000000</td>\n",
       "    </tr>\n",
       "  </tbody>\n",
       "</table>\n",
       "</div>"
      ],
      "text/plain": [
       "                                            question  \\\n",
       "0  How to deposit a cheque issued to an associate...   \n",
       "1  Can I send a money order from USPS as a business?   \n",
       "2  1 EIN doing business under multiple business n...   \n",
       "\n",
       "                                            contexts  \\\n",
       "0  [Just have the associate sign the back and the...   \n",
       "1  [Sure you can.  You can fill in whatever you w...   \n",
       "2  [You're confusing a lot of things here. Compan...   \n",
       "\n",
       "                                              answer  \\\n",
       "0  \\nThe best way to deposit a cheque issued to a...   \n",
       "1  \\nYes, you can send a money order from USPS as...   \n",
       "2  \\nYes, it is possible to have one EIN doing bu...   \n",
       "\n",
       "                                       ground_truths  context_precision  \\\n",
       "0  [Have the check reissued to the proper payee.J...           0.411765   \n",
       "1  [Sure you can.  You can fill in whatever you w...           0.285714   \n",
       "2  [You're confusing a lot of things here. Compan...           0.250000   \n",
       "\n",
       "   faithfulness  answer_relevancy  context_recall  \n",
       "0      0.666667          0.977489        0.111111  \n",
       "1      1.000000          0.884017        0.800000  \n",
       "2      1.000000          0.927708        1.000000  "
      ]
     },
     "metadata": {},
     "output_type": "display_data"
    }
   ],
   "source": [
    "df = result.to_pandas()\n",
    "df.head()"
   ]
  },
  {
   "cell_type": "markdown",
   "metadata": {},
   "source": []
  }
 ],
 "metadata": {
  "kernelspec": {
   "display_name": "genai-poc",
   "language": "python",
   "name": "python3"
  },
  "language_info": {
   "codemirror_mode": {
    "name": "ipython",
    "version": 3
   },
   "file_extension": ".py",
   "mimetype": "text/x-python",
   "name": "python",
   "nbconvert_exporter": "python",
   "pygments_lexer": "ipython3",
   "version": "3.11.3"
  },
  "orig_nbformat": 4
 },
 "nbformat": 4,
 "nbformat_minor": 2
}

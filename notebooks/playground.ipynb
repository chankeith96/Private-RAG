{
 "cells": [
  {
   "cell_type": "code",
   "execution_count": 1,
   "id": "61ba6d85",
   "metadata": {},
   "outputs": [],
   "source": [
    "\n",
    "import os\n",
    "from dotenv import load_dotenv\n",
    "from pathlib import Path\n"
   ]
  },
  {
   "cell_type": "code",
   "execution_count": 2,
   "id": "6d190bbd",
   "metadata": {},
   "outputs": [],
   "source": [
    "# Load environment variables\n",
    "dotenv_path = Path('../.env')\n",
    "\n",
    "if not load_dotenv(dotenv_path):\n",
    "    print(\"Could not load .env file or it is empty. Please check if it exists and is readable.\")\n",
    "    exit(1)\n",
    "\n",
    "\n",
    "OPENAI_API_KEY = os.environ.get(\"OPENAI_API_KEY\")\n"
   ]
  },
  {
   "cell_type": "markdown",
   "id": "7819837b",
   "metadata": {},
   "source": [
    "# Load Documents"
   ]
  },
  {
   "cell_type": "code",
   "execution_count": 25,
   "id": "694e6dc0",
   "metadata": {},
   "outputs": [],
   "source": [
    "from langchain.document_loaders import PyPDFLoader # also look into UnstructuredPDFLoader"
   ]
  },
  {
   "cell_type": "code",
   "execution_count": 26,
   "id": "5c1e1f9d",
   "metadata": {},
   "outputs": [
    {
     "name": "stdout",
     "output_type": "stream",
     "text": [
      "10\n",
      "Batman[a] is a superhero appearing in American comic books published by DC Comics. The character was created by artist Bob Kane and writer Bill Finger, and debuted in the 27th issue of the comic book Detective Comics on March 30, 1939. In the DC Universe continuity, Batman is the alias of Bruce Wayne, a wealthy American playboy, philanthropist, and industrialist who resides in Gotham City. Batman's origin story features him swearing vengeance against criminals after witnessing the murder of his \n",
      "{'source': '../data/Batman_wiki.pdf', 'page': 0}\n"
     ]
    }
   ],
   "source": [
    "loader = PyPDFLoader(\"../data/Batman_wiki.pdf\")\n",
    "\n",
    "# Load the document by calling loader.load()\n",
    "pages = loader.load()\n",
    "\n",
    "print(len(pages))\n",
    "print(pages[0].page_content[0:500])\n",
    "\n",
    "print(pages[0].metadata)"
   ]
  },
  {
   "cell_type": "code",
   "execution_count": 6,
   "id": "c264ef83",
   "metadata": {},
   "outputs": [],
   "source": [
    "#To load multiple PDFs (Source: https://www.youtube.com/watch?v=wrD-fZvT6UI&ab_channel=PromptEngineering)\n",
    "# data_file_path = \"../data\" \n",
    "# os.listdir(data_file_path) # TODO: maybe use glob or FilePath instead?\n",
    "\n",
    "# loaders = [PyPDFLoader(os.path.join(data_file_path, filename)) for filename in os.listdir(data_file_path)]\n",
    "# pages = []\n",
    "# for loader in loaders:\n",
    "#     pages.extend(loader.load())"
   ]
  },
  {
   "cell_type": "code",
   "execution_count": 7,
   "id": "de73b7ee",
   "metadata": {},
   "outputs": [],
   "source": [
    "# To load in directories with multiple file types\n",
    "# # source: https://www.linkedin.com/pulse/build-qa-bot-over-private-data-openai-langchain-leo-wang\n",
    "# from langchain.document_loaders import DirectoryLoader\n",
    "\n",
    "# pdf_loader = DirectoryLoader('./Reports/', glob=\"**/*.pdf\")\n",
    "# txt_loader = DirectoryLoader('./Reports/', glob=\"**/*.txt\")\n",
    "# word_loader = DirectoryLoader('./Reports/', glob=\"**/*.docx\")\n",
    "\n",
    "# loaders = [pdf_loader, txt_loader, word_loader]\n",
    "# documents = []\n",
    "# for loader in loaders:\n",
    "#     documents.extend(loader.load())\n",
    "\n",
    "# print(f\"Total number of documents: {len(documents)}\")"
   ]
  },
  {
   "cell_type": "markdown",
   "id": "c49c2730",
   "metadata": {},
   "source": [
    "# Chunk Documents"
   ]
  },
  {
   "cell_type": "code",
   "execution_count": 27,
   "id": "98e2da2b",
   "metadata": {},
   "outputs": [],
   "source": [
    "from langchain.text_splitter import RecursiveCharacterTextSplitter, CharacterTextSplitter"
   ]
  },
  {
   "cell_type": "code",
   "execution_count": 28,
   "id": "33740174",
   "metadata": {},
   "outputs": [],
   "source": [
    "# text_splitter = CharacterTextSplitter(separator='\\n') #CharacterTextSplitter does not use chunk_size and chunk_overlap params\n",
    "# texts = text_splitter.split_documents(pages)"
   ]
  },
  {
   "cell_type": "code",
   "execution_count": 34,
   "id": "f6c2ed52",
   "metadata": {},
   "outputs": [],
   "source": [
    "# Define the Text Splitter \n",
    "text_splitter = RecursiveCharacterTextSplitter(\n",
    "    chunk_size = 600,\n",
    "    chunk_overlap = 300,\n",
    "    separators=[\"\\n\\n\", \"\\n\", \" \", \"\"] #adjust these as necessary\n",
    ")\n",
    "\n",
    "#Create a split of the document using the text splitter\n",
    "texts = text_splitter.split_documents(pages)"
   ]
  },
  {
   "cell_type": "code",
   "execution_count": 35,
   "id": "f3372615",
   "metadata": {},
   "outputs": [
    {
     "data": {
      "text/plain": [
       "[Document(page_content=\"Batman[a] is a superhero appearing in American comic books published by DC Comics. The character was created by artist Bob Kane and writer Bill Finger, and debuted in the 27th issue of the comic book Detective Comics on March 30, 1939. In the DC Universe continuity, Batman is the alias of Bruce Wayne, a wealthy American playboy, philanthropist, and industrialist who resides in Gotham City. Batman's origin story features him swearing vengeance against criminals after witnessing the murder of his parents Thomas and Martha as a child, a vendetta tempered with the ideal of justice. He trains\", metadata={'source': '../data/Batman_wiki.pdf', 'page': 0}),\n",
       " Document(page_content=\"Wayne, a wealthy American playboy, philanthropist, and industrialist who resides in Gotham City. Batman's origin story features him swearing vengeance against criminals after witnessing the murder of his parents Thomas and Martha as a child, a vendetta tempered with the ideal of justice. He trains himself physically and intellectually, crafts a bat-inspired persona, and monitors the Gotham streets at night. Kane, Finger, and other creators accompanied Batman with supporting characters, including his sidekicks Robin and Batgirl; allies Alfred Pennyworth, James Gordon, and Catwoman; and foes\", metadata={'source': '../data/Batman_wiki.pdf', 'page': 0}),\n",
       " Document(page_content=\"himself physically and intellectually, crafts a bat-inspired persona, and monitors the Gotham streets at night. Kane, Finger, and other creators accompanied Batman with supporting characters, including his sidekicks Robin and Batgirl; allies Alfred Pennyworth, James Gordon, and Catwoman; and foes such as the Penguin, the Riddler, Two-Face, and his archenemy, the Joker. Kane conceived Batman in early 1939 to capitalize on the popularity of DC's Superman; although Kane frequently claimed sole creation credit, Finger substantially developed the concept from a generic superhero into something\", metadata={'source': '../data/Batman_wiki.pdf', 'page': 0}),\n",
       " Document(page_content=\"such as the Penguin, the Riddler, Two-Face, and his archenemy, the Joker. Kane conceived Batman in early 1939 to capitalize on the popularity of DC's Superman; although Kane frequently claimed sole creation credit, Finger substantially developed the concept from a generic superhero into something more bat-like. The character received his own spin-off publication, Batman, in 1940. Batman was originally introduced as a ruthless vigilante who frequently killed or maimed criminals, but evolved into a character with a stringent moral code and strong sense of justice. Unlike most superheroes,\", metadata={'source': '../data/Batman_wiki.pdf', 'page': 0}),\n",
       " Document(page_content='more bat-like. The character received his own spin-off publication, Batman, in 1940. Batman was originally introduced as a ruthless vigilante who frequently killed or maimed criminals, but evolved into a character with a stringent moral code and strong sense of justice. Unlike most superheroes, Batman does not possess any superpowers, instead relying on his intellect, fighting skills, and wealth. The 1960s Batman television series used a camp aesthetic, which continued to be associated with the character for years after the show ended. Various creators worked to return the character to his', metadata={'source': '../data/Batman_wiki.pdf', 'page': 0}),\n",
       " Document(page_content='does not possess any superpowers, instead relying on his intellect, fighting skills, and wealth. The 1960s Batman television series used a camp aesthetic, which continued to be associated with the character for years after the show ended. Various creators worked to return the character to his darker roots in the 1970s and 1980s, culminating with the 1986 miniseries The Dark Knight Returns by Frank Miller. DC has featured Batman in many comic books, including comics published under its imprints such as Vertigo and Black Label. The longest-running Batman comic, Detective Comics, is the', metadata={'source': '../data/Batman_wiki.pdf', 'page': 0}),\n",
       " Document(page_content='darker roots in the 1970s and 1980s, culminating with the 1986 miniseries The Dark Knight Returns by Frank Miller. DC has featured Batman in many comic books, including comics published under its imprints such as Vertigo and Black Label. The longest-running Batman comic, Detective Comics, is the longest-running comic book in the United States. Batman is frequently depicted alongside other DC superheroes, such as Superman and Wonder Woman, as a member of organizations such as the Justice League and the Outsiders. In addition to Bruce Wayne, other characters have taken on the Batman persona on', metadata={'source': '../data/Batman_wiki.pdf', 'page': 0}),\n",
       " Document(page_content='comic book in the United States. Batman is frequently depicted alongside other DC superheroes, such as Superman and Wonder Woman, as a member of organizations such as the Justice League and the Outsiders. In addition to Bruce Wayne, other characters have taken on the Batman persona on different occasions, such as Jean-Paul Valley / Azrael in the 1993–1994 \"Knightfall\" story arc; Dick Grayson, the first Robin, from 2009 to 2011; and Jace Fox, son of Wayne\\'s ally Lucius, as of 2021.[4] DC has also published comics featuring alternate versions of Batman, including the incarnation seen in The', metadata={'source': '../data/Batman_wiki.pdf', 'page': 0}),\n",
       " Document(page_content='occasions, such as Jean-Paul Valley / Azrael in the 1993–1994 \"Knightfall\" story arc; Dick Grayson, the first Robin, from 2009 to 2011; and Jace Fox, son of Wayne\\'s ally Lucius, as of 2021.[4] DC has also published comics featuring alternate versions of Batman, including the incarnation seen in The Dark Knight Returns and its successors, the incarnation from the Flashpoint (2011) event, and numerous interpretations from Elseworlds stories. One of the most iconic characters in popular culture, Batman has been listed among the greatest comic book superheroes and fictional characters ever', metadata={'source': '../data/Batman_wiki.pdf', 'page': 0}),\n",
       " Document(page_content='in The Dark Knight Returns and its successors, the incarnation from the Flashpoint (2011) event, and numerous interpretations from Elseworlds stories. One of the most iconic characters in popular culture, Batman has been listed among the greatest comic book superheroes and fictional characters ever created. He is one of the most commercially successful superheroes, and his likeness has been licensed and featured in various media and merchandise sold around the world; this includes toy lines such as Lego Batman and video games like the Batman: Arkham series. Batman has been adapted in', metadata={'source': '../data/Batman_wiki.pdf', 'page': 0}),\n",
       " Document(page_content='ever created. He is one of the most commercially successful superheroes, and his likeness has been licensed and featured in various media and merchandise sold around the world; this includes toy lines such as Lego Batman and video games like the Batman: Arkham series. Batman has been adapted in live-action and animated incarnations, including the 1960s Batman television series played by Adam West and in film by Michael Keaton in Batman (1989), Batman Returns (1992), and The Flash (2023), Val Kilmer in Batman Forever (1995), George Clooney in Batman & Robin (1997), Christian Bale in The Dark', metadata={'source': '../data/Batman_wiki.pdf', 'page': 0}),\n",
       " Document(page_content='and animated incarnations, including the 1960s Batman television series played by Adam West and in film by Michael Keaton in Batman (1989), Batman Returns (1992), and The Flash (2023), Val Kilmer in Batman Forever (1995), George Clooney in Batman & Robin (1997), Christian Bale in The Dark Knight trilogy (2005–2012), Ben Affleck in the DC Extended Universe (2016–present), and Robert Pattinson in The Batman (2022). Kevin Conroy, Diedrich Bader, Jensen Ackles, Troy Baker, and Will Arnett, among others, have provided the character\\'s voice. Bruce Wayne \"Bruce Wayne\" redirects here. For other uses,', metadata={'source': '../data/Batman_wiki.pdf', 'page': 0}),\n",
       " Document(page_content='(2005–2012), Ben Affleck in the DC Extended Universe (2016–present), and Robert Pattinson in The Batman (2022). Kevin Conroy, Diedrich Bader, Jensen Ackles, Troy Baker, and Will Arnett, among others, have provided the character\\'s voice. Bruce Wayne \"Bruce Wayne\" redirects here. For other uses, see Bruce Wayne (disambiguation).', metadata={'source': '../data/Batman_wiki.pdf', 'page': 0}),\n",
       " Document(page_content=\"DC Comics concept art of Bruce Wayne by Mikel Janín Batman's secret identity is Bruce Wayne, a wealthy American industrialist. As a child, Bruce witnessed the murder of his parents, Dr. Thomas Wayne and Martha Wayne, which ultimately led him to craft the Batman persona and seek justice against criminals. He resides on the outskirts of Gotham City in his personal residence, Wayne Manor. Wayne averts suspicion by acting the part of a superficial playboy idly living off his family's fortune and the profits of Wayne Enterprises, his inherited conglomerate.[75][76] He supports philanthropic causes\", metadata={'source': '../data/Batman_wiki.pdf', 'page': 1}),\n",
       " Document(page_content=\"He resides on the outskirts of Gotham City in his personal residence, Wayne Manor. Wayne averts suspicion by acting the part of a superficial playboy idly living off his family's fortune and the profits of Wayne Enterprises, his inherited conglomerate.[75][76] He supports philanthropic causes through his nonprofit Wayne Foundation, which in part addresses social issues encouraging crime as well as assisting victims of it, but is more widely known as a celebrity socialite.[77] In public, he frequently appears in the company of high-status women, which encourages tabloid gossip while feigning\", metadata={'source': '../data/Batman_wiki.pdf', 'page': 1}),\n",
       " Document(page_content='his nonprofit Wayne Foundation, which in part addresses social issues encouraging crime as well as assisting victims of it, but is more widely known as a celebrity socialite.[77] In public, he frequently appears in the company of high-status women, which encourages tabloid gossip while feigning near-drunkenness with consuming large quantities of disguised ginger ale since Wayne is actually a strict teetotaler to maintain his physical and mental prowess.[78] Although Bruce Wayne leads an active romantic life, his vigilante activities as Batman account for most of his time.[79] Various modern', metadata={'source': '../data/Batman_wiki.pdf', 'page': 1}),\n",
       " Document(page_content='with consuming large quantities of disguised ginger ale since Wayne is actually a strict teetotaler to maintain his physical and mental prowess.[78] Although Bruce Wayne leads an active romantic life, his vigilante activities as Batman account for most of his time.[79] Various modern stories have portrayed the extravagant, playboy image of Bruce Wayne as a facade.[80] This is in contrast to the Post-Crisis Superman, whose Clark Kent persona is the true identity, while the Superman persona is the facade.[81][82] In Batman Unmasked, a television documentary about the psychology of the', metadata={'source': '../data/Batman_wiki.pdf', 'page': 1}),\n",
       " Document(page_content='have portrayed the extravagant, playboy image of Bruce Wayne as a facade.[80] This is in contrast to the Post-Crisis Superman, whose Clark Kent persona is the true identity, while the Superman persona is the facade.[81][82] In Batman Unmasked, a television documentary about the psychology of the character, behavioral scientist Benjamin Karney notes that Batman\\'s personality is driven by Bruce Wayne\\'s inherent humanity; that \"Batman, for all its benefits and for all of the time Bruce Wayne devotes to it, is ultimately a tool for Bruce Wayne\\'s efforts to make the world better\". Bruce Wayne\\'s', metadata={'source': '../data/Batman_wiki.pdf', 'page': 1}),\n",
       " Document(page_content='character, behavioral scientist Benjamin Karney notes that Batman\\'s personality is driven by Bruce Wayne\\'s inherent humanity; that \"Batman, for all its benefits and for all of the time Bruce Wayne devotes to it, is ultimately a tool for Bruce Wayne\\'s efforts to make the world better\". Bruce Wayne\\'s principles include the desire to prevent future harm and a vow not to kill. Bruce Wayne believes that our actions define us, we fail for a reason and anything is possible.[83] Writers of Batman and Superman stories have often compared and contrasted the two. Interpretations vary depending on the', metadata={'source': '../data/Batman_wiki.pdf', 'page': 1}),\n",
       " Document(page_content='principles include the desire to prevent future harm and a vow not to kill. Bruce Wayne believes that our actions define us, we fail for a reason and anything is possible.[83] Writers of Batman and Superman stories have often compared and contrasted the two. Interpretations vary depending on the writer, the story, and the timing. Grant Morrison[84] notes that both heroes \"believe in the same kind of things\" despite the day/night contrast their heroic roles display. Morrison notes an equally stark contrast in their real identities. Bruce Wayne and Clark Kent belong to different social classes:', metadata={'source': '../data/Batman_wiki.pdf', 'page': 1}),\n",
       " Document(page_content='the story, and the timing. Grant Morrison[84] notes that both heroes \"believe in the same kind of things\" despite the day/night contrast their heroic roles display. Morrison notes an equally stark contrast in their real identities. Bruce Wayne and Clark Kent belong to different social classes: \"Bruce has a butler, Clark has a boss.\" T. James Musler\\'s book Unleashing the Superhero in Us All explores the extent to which Bruce Wayne\\'s vast personal wealth is important in his life story, and the crucial role it plays in his efforts as Batman.[85] Will Brooker notes in his book Batman Unmasked', metadata={'source': '../data/Batman_wiki.pdf', 'page': 1}),\n",
       " Document(page_content='has a butler, Clark has a boss.\" T. James Musler\\'s book Unleashing the Superhero in Us All explores the extent to which Bruce Wayne\\'s vast personal wealth is important in his life story, and the crucial role it plays in his efforts as Batman.[85] Will Brooker notes in his book Batman Unmasked that \"the confirmation of the Batman\\'s identity lies with the young audience ...he doesn\\'t have to be Bruce Wayne; he just needs the suit and gadgets, the abilities, and most importantly the morality, the humanity. There\\'s just a sense about him: \\'they trust him ...and they\\'re never wrong.\"[86]', metadata={'source': '../data/Batman_wiki.pdf', 'page': 1}),\n",
       " Document(page_content='that \"the confirmation of the Batman\\'s identity lies with the young audience ...he doesn\\'t have to be Bruce Wayne; he just needs the suit and gadgets, the abilities, and most importantly the morality, the humanity. There\\'s just a sense about him: \\'they trust him ...and they\\'re never wrong.\"[86] Personality Batman\\'s primary character traits can be summarized as \"wealth; physical prowess; deductive abilities and obsession\".[87] The details and tone of Batman comic books have varied over the years with different creative teams. Dennis O\\'Neil noted that character consistency was not a major', metadata={'source': '../data/Batman_wiki.pdf', 'page': 1}),\n",
       " Document(page_content='Personality Batman\\'s primary character traits can be summarized as \"wealth; physical prowess; deductive abilities and obsession\".[87] The details and tone of Batman comic books have varied over the years with different creative teams. Dennis O\\'Neil noted that character consistency was not a major concern during early editorial regimes: \"Julie Schwartz did a Batman in Batman and Detective and Murray Boltinoff did a Batman in the Brave and the Bold and apart', metadata={'source': '../data/Batman_wiki.pdf', 'page': 1}),\n",
       " Document(page_content='from the costume they bore very little resemblance to each other. Julie and Murray did not want to coordinate their efforts, nor were they asked to do so. Continuity was not important in those days.\"[88] The driving force behind Bruce Wayne\\'s character is his parents\\' murder and their absence. Bob Kane and Bill Finger discussed Batman\\'s background and decided that \"there\\'s nothing more traumatic than having your parents murdered before your eyes\".[89] Despite his trauma, he sets his mind on studying to become a scientist[90][91] and to train his body into physical perfection[90][91] to fight', metadata={'source': '../data/Batman_wiki.pdf', 'page': 2}),\n",
       " Document(page_content='Kane and Bill Finger discussed Batman\\'s background and decided that \"there\\'s nothing more traumatic than having your parents murdered before your eyes\".[89] Despite his trauma, he sets his mind on studying to become a scientist[90][91] and to train his body into physical perfection[90][91] to fight crime in Gotham City as Batman, an inspired idea from Wayne\\'s insight into the criminal mind.[90][91] He also speaks over 40 different languages.[92] Another of Batman\\'s characterizations is that of a vigilante; in order to stop evil that started with the death of his parents, he must sometimes', metadata={'source': '../data/Batman_wiki.pdf', 'page': 2}),\n",
       " Document(page_content='crime in Gotham City as Batman, an inspired idea from Wayne\\'s insight into the criminal mind.[90][91] He also speaks over 40 different languages.[92] Another of Batman\\'s characterizations is that of a vigilante; in order to stop evil that started with the death of his parents, he must sometimes break the law himself. Although manifested differently by being re-told by different artists, it is nevertheless that the details and the prime components of Batman\\'s origin have never varied at all in the comic books, the \"reiteration of the basic origin events holds together otherwise divergent', metadata={'source': '../data/Batman_wiki.pdf', 'page': 2}),\n",
       " Document(page_content='break the law himself. Although manifested differently by being re-told by different artists, it is nevertheless that the details and the prime components of Batman\\'s origin have never varied at all in the comic books, the \"reiteration of the basic origin events holds together otherwise divergent expressions\".[93] The origin is the source of the character\\'s traits and attributes, which play out in many of the character\\'s adventures.[87] Batman is often treated as a vigilante by other characters in his stories. Frank Miller views the character as \"a dionysian figure, a force for anarchy that', metadata={'source': '../data/Batman_wiki.pdf', 'page': 2}),\n",
       " Document(page_content='expressions\".[93] The origin is the source of the character\\'s traits and attributes, which play out in many of the character\\'s adventures.[87] Batman is often treated as a vigilante by other characters in his stories. Frank Miller views the character as \"a dionysian figure, a force for anarchy that imposes an individual order\".[94] Dressed as a bat, Batman deliberately cultivates a frightening persona in order to aid him in crime-fighting,[95] a fear that originates from the criminals\\' own guilty conscience.[96] Miller is often credited with reintroducing anti-heroic traits into Batman\\'s', metadata={'source': '../data/Batman_wiki.pdf', 'page': 2}),\n",
       " Document(page_content='that imposes an individual order\".[94] Dressed as a bat, Batman deliberately cultivates a frightening persona in order to aid him in crime-fighting,[95] a fear that originates from the criminals\\' own guilty conscience.[96] Miller is often credited with reintroducing anti-heroic traits into Batman\\'s characterization,[97] such as his brooding personality, willingness to use violence and torture, and increasingly alienated behavior. Batman, shortly a year after his debut and the introduction of Robin, was changed in 1940 after DC editor Whitney Ellsworth felt the character would be tainted by', metadata={'source': '../data/Batman_wiki.pdf', 'page': 2}),\n",
       " Document(page_content=\"characterization,[97] such as his brooding personality, willingness to use violence and torture, and increasingly alienated behavior. Batman, shortly a year after his debut and the introduction of Robin, was changed in 1940 after DC editor Whitney Ellsworth felt the character would be tainted by his lethal methods and DC established their own ethical code, subsequently he was retconned to have a stringent moral code,[33][98] which has stayed with the character of Batman ever since. Miller's Batman was closer to the original pre-Robin version, who was willing to kill criminals if\", metadata={'source': '../data/Batman_wiki.pdf', 'page': 2}),\n",
       " Document(page_content=\"tainted by his lethal methods and DC established their own ethical code, subsequently he was retconned to have a stringent moral code,[33][98] which has stayed with the character of Batman ever since. Miller's Batman was closer to the original pre-Robin version, who was willing to kill criminals if necessary.[99] Others On several occasions former Robin Dick Grayson has served as Batman; most notably in 2009 while Wayne was believed dead, and served as a second Batman even after Wayne returned in 2010.[59] As part of DC's 2011 continuity relaunch, Grayson returned to being Nightwing following\", metadata={'source': '../data/Batman_wiki.pdf', 'page': 2}),\n",
       " Document(page_content='necessary.[99] Others On several occasions former Robin Dick Grayson has served as Batman; most notably in 2009 while Wayne was believed dead, and served as a second Batman even after Wayne returned in 2010.[59] As part of DC\\'s 2011 continuity relaunch, Grayson returned to being Nightwing following the Flashpoint crossover event. In an interview with IGN, Morrison detailed that having Dick Grayson as Batman and Damian Wayne as Robin represented a \"reverse\" of the normal dynamic between Batman and Robin, with, \"a more light-hearted and spontaneous Batman and a scowling, badass Robin\". Morrison', metadata={'source': '../data/Batman_wiki.pdf', 'page': 2}),\n",
       " Document(page_content='the Flashpoint crossover event. In an interview with IGN, Morrison detailed that having Dick Grayson as Batman and Damian Wayne as Robin represented a \"reverse\" of the normal dynamic between Batman and Robin, with, \"a more light-hearted and spontaneous Batman and a scowling, badass Robin\". Morrison explained their intentions for the new characterization of Batman: \"Dick Grayson is kind of this consummate superhero. The guy has been Batman\\'s partner since he was a kid, he\\'s led the Teen Titans, and he\\'s trained with everybody in the DC Universe. So he\\'s a very different kind of Batman. He\\'s a', metadata={'source': '../data/Batman_wiki.pdf', 'page': 2}),\n",
       " Document(page_content='explained their intentions for the new characterization of Batman: \"Dick Grayson is kind of this consummate superhero. The guy has been Batman\\'s partner since he was a kid, he\\'s led the Teen Titans, and he\\'s trained with everybody in the DC Universe. So he\\'s a very different kind of Batman. He\\'s a lot easier; He\\'s a lot looser and more relaxed.\"[64] Over the years, there have been numerous others to assume the name of Batman, or to officially take over for Bruce during his leaves of absence. Jean-Paul Valley, also known as Azrael, assumed the cowl after the events of the Knightfall saga.[59]', metadata={'source': '../data/Batman_wiki.pdf', 'page': 2}),\n",
       " Document(page_content='lot easier; He\\'s a lot looser and more relaxed.\"[64] Over the years, there have been numerous others to assume the name of Batman, or to officially take over for Bruce during his leaves of absence. Jean-Paul Valley, also known as Azrael, assumed the cowl after the events of the Knightfall saga.[59] Jim Gordon donned a mecha-suit after the events of Batman: Endgame, and served as Batman in 2015 and 2016. In 2021, as part of the Fear State crossover event, Lucius Fox\\'s son Jace Fox succeeds Bruce as Batman in a 2021 storyline, depicted in the series I Am Batman, after Batman was declared dead.', metadata={'source': '../data/Batman_wiki.pdf', 'page': 2}),\n",
       " Document(page_content=\"Jim Gordon donned a mecha-suit after the events of Batman: Endgame, and served as Batman in 2015 and 2016. In 2021, as part of the Fear State crossover event, Lucius Fox's son Jace Fox succeeds Bruce as Batman in a 2021 storyline, depicted in the series I Am Batman, after Batman was declared dead. Additionally, members of the group Batman Incorporated, Bruce Wayne's experiment at franchising his brand of vigilantism, have at times stood in as the official Batman in cities around the world.[59] Various others have also taken up the role of Batman in stories set in alternative universes and\", metadata={'source': '../data/Batman_wiki.pdf', 'page': 2}),\n",
       " Document(page_content=\"Additionally, members of the group Batman Incorporated, Bruce Wayne's experiment at franchising his brand of vigilantism, have at times stood in as the official Batman in cities around the world.[59] Various others have also taken up the role of Batman in stories set in alternative universes and possible futures, including, among them, various former proteges of Bruce Wayne.\", metadata={'source': '../data/Batman_wiki.pdf', 'page': 2}),\n",
       " Document(page_content='Supporting characters Main article: List of Batman supporting characters Batman\\'s interactions with both villains and cohorts have, over time, developed a strong supporting cast of characters.[87] Enemies Main article: List of Batman family enemies Batman faces a variety of foes ranging from common criminals to outlandish supervillains. Many of them mirror aspects of the Batman\\'s character and development, often having tragic origin stories that lead them to a life of crime.[100] These foes are commonly referred to as Batman\\'s rogues gallery. Batman\\'s \"most implacable foe\" is the Joker, a', metadata={'source': '../data/Batman_wiki.pdf', 'page': 3}),\n",
       " Document(page_content='criminals to outlandish supervillains. Many of them mirror aspects of the Batman\\'s character and development, often having tragic origin stories that lead them to a life of crime.[100] These foes are commonly referred to as Batman\\'s rogues gallery. Batman\\'s \"most implacable foe\" is the Joker, a homicidal maniac with a clown-like appearance. The Joker is considered by critics to be his perfect adversary, since he is the antithesis of Batman in personality and appearance; the Joker has a maniacal demeanor with a colorful appearance, while Batman has a serious and resolute demeanor with a dark', metadata={'source': '../data/Batman_wiki.pdf', 'page': 3}),\n",
       " Document(page_content='maniac with a clown-like appearance. The Joker is considered by critics to be his perfect adversary, since he is the antithesis of Batman in personality and appearance; the Joker has a maniacal demeanor with a colorful appearance, while Batman has a serious and resolute demeanor with a dark appearance. As a \"personification of the irrational\", the Joker represents \"everything Batman [opposes]\".[34] Other long-time recurring foes that are part of Batman\\'s rogues gallery include Catwoman (a cat burglar anti-heroine who is variously an ally and romantic interest), the Penguin, Ra\\'s al Ghul,', metadata={'source': '../data/Batman_wiki.pdf', 'page': 3}),\n",
       " Document(page_content='As a \"personification of the irrational\", the Joker represents \"everything Batman [opposes]\".[34] Other long-time recurring foes that are part of Batman\\'s rogues gallery include Catwoman (a cat burglar anti-heroine who is variously an ally and romantic interest), the Penguin, Ra\\'s al Ghul, Two-Face, the Riddler, the Scarecrow, Mr. Freeze, Poison Ivy, Harley Quinn, Bane, Clayface, and Killer Croc, among others. Many of Batman\\'s adversaries are often psychiatric patients at Arkham Asylum. Allies Alfred Main article: Alfred Pennyworth Batman\\'s butler, Alfred Pennyworth, first appeared in Batman', metadata={'source': '../data/Batman_wiki.pdf', 'page': 3}),\n",
       " Document(page_content=\"the Riddler, the Scarecrow, Mr. Freeze, Poison Ivy, Harley Quinn, Bane, Clayface, and Killer Croc, among others. Many of Batman's adversaries are often psychiatric patients at Arkham Asylum. Allies Alfred Main article: Alfred Pennyworth Batman's butler, Alfred Pennyworth, first appeared in Batman #16 (1943). He serves as Bruce Wayne's loyal father figure and is one of the few persons to know his secret identity. Alfred raised Bruce after his parents' death and knows him on a very personal level. He is sometimes portrayed as a sidekick to Batman and the only other resident of Wayne Manor aside\", metadata={'source': '../data/Batman_wiki.pdf', 'page': 3}),\n",
       " Document(page_content='(1943). He serves as Bruce Wayne\\'s loyal father figure and is one of the few persons to know his secret identity. Alfred raised Bruce after his parents\\' death and knows him on a very personal level. He is sometimes portrayed as a sidekick to Batman and the only other resident of Wayne Manor aside from Bruce. The character \"[lends] a homely touch to Batman\\'s environs and [is] ever ready to provide a steadying and reassuring hand\" to the hero and his sidekick.[100] \"Batman family\" The informal name \"Batman family\" is used for a group of characters closely allied with Batman, generally masked', metadata={'source': '../data/Batman_wiki.pdf', 'page': 3}),\n",
       " Document(page_content='from Bruce. The character \"[lends] a homely touch to Batman\\'s environs and [is] ever ready to provide a steadying and reassuring hand\" to the hero and his sidekick.[100] \"Batman family\" The informal name \"Batman family\" is used for a group of characters closely allied with Batman, generally masked vigilantes who either have been trained by Batman or operate in Gotham City with his tacit approval. Currently, the Batfamily consists of Jean-Paul Valley/Azrael, Michael Lane/Azrael, Barbara Gordon/Batgirl/Oracle, Cassandra Cain/Batgirl/Orphan, Stephanie Brown/Batgirl/Spoiler, Luke Fox/Batwing,', metadata={'source': '../data/Batman_wiki.pdf', 'page': 3}),\n",
       " Document(page_content=\"vigilantes who either have been trained by Batman or operate in Gotham City with his tacit approval. Currently, the Batfamily consists of Jean-Paul Valley/Azrael, Michael Lane/Azrael, Barbara Gordon/Batgirl/Oracle, Cassandra Cain/Batgirl/Orphan, Stephanie Brown/Batgirl/Spoiler, Luke Fox/Batwing, Kate Kane/Batwoman, Harper Row/Bluebird, Selina Kyle/Catwoman, Minkhoa Khan/Ghost-Maker, Harleen Quinzel/Harley Quinn, Dick Grayson/Nightwing, Jason Todd/Red Hood, Damian Wayne/Robin, Tim Drake/Robin, and Duke Thomas/The Signal. Civilians Lucius Fox, a technology specialist and Bruce Wayne's business\", metadata={'source': '../data/Batman_wiki.pdf', 'page': 3}),\n",
       " Document(page_content=\"Kane/Batwoman, Harper Row/Bluebird, Selina Kyle/Catwoman, Minkhoa Khan/Ghost-Maker, Harleen Quinzel/Harley Quinn, Dick Grayson/Nightwing, Jason Todd/Red Hood, Damian Wayne/Robin, Tim Drake/Robin, and Duke Thomas/The Signal. Civilians Lucius Fox, a technology specialist and Bruce Wayne's business manager who is well aware of his employer's clandestine vigilante activities (Lucius' son Luke would later become aware of Bruce's secret identity and adopt the superhero mantle of Batwing as well as become a member of the Justice League); Dr. Leslie Thompkins, a family friend who like Alfred became a\", metadata={'source': '../data/Batman_wiki.pdf', 'page': 3}),\n",
       " Document(page_content=\"who is well aware of his employer's clandestine vigilante activities (Lucius' son Luke would later become aware of Bruce's secret identity and adopt the superhero mantle of Batwing as well as become a member of the Justice League); Dr. Leslie Thompkins, a family friend who like Alfred became a surrogate parental figure to Bruce Wayne after the deaths of his parents, and is also aware of his secret identity; Vicki Vale, an investigative journalist who often reports on Batman's activities for the Gotham Gazette; Ace the Bat-Hound, Batman's canine partner who was mainly active in the 1950s and\", metadata={'source': '../data/Batman_wiki.pdf', 'page': 3}),\n",
       " Document(page_content=\"parental figure to Bruce Wayne after the deaths of his parents, and is also aware of his secret identity; Vicki Vale, an investigative journalist who often reports on Batman's activities for the Gotham Gazette; Ace the Bat-Hound, Batman's canine partner who was mainly active in the 1950s and 1960s;[101] and Bat-Mite, an extra-dimensional imp mostly active in the 1960s who idolizes Batman.[101] GCPD Main article: Gotham City Police Department\", metadata={'source': '../data/Batman_wiki.pdf', 'page': 3}),\n",
       " Document(page_content='As Batman\\'s ally in the Gotham City police, Commissioner James \"Jim\" Gordon debuted along with Batman in Detective Comics #27 and has been a consistent presence ever since. As a crime-fighting everyman, he shares Batman\\'s goals while offering, much as the character of Dr. Watson does in Sherlock Holmes stories, a normal person\\'s perspective on the work of Batman\\'s extraordinary genius. Justice League Main article: Justice League Batman is at times a member of superhero teams such as the Justice League of America and the Outsiders. Batman has often been paired in adventures with his Justice', metadata={'source': '../data/Batman_wiki.pdf', 'page': 4}),\n",
       " Document(page_content=\"Holmes stories, a normal person's perspective on the work of Batman's extraordinary genius. Justice League Main article: Justice League Batman is at times a member of superhero teams such as the Justice League of America and the Outsiders. Batman has often been paired in adventures with his Justice League teammate Superman, notably as the co-stars of World's Finest Comics and Superman/Batman series. In Pre-Crisis continuity, the two are depicted as close friends; however, in current continuity, they are still close friends but an uneasy relationship, with an emphasis on their differing views\", metadata={'source': '../data/Batman_wiki.pdf', 'page': 4}),\n",
       " Document(page_content='League teammate Superman, notably as the co-stars of World\\'s Finest Comics and Superman/Batman series. In Pre-Crisis continuity, the two are depicted as close friends; however, in current continuity, they are still close friends but an uneasy relationship, with an emphasis on their differing views on crime-fighting and justice. In Superman/Batman #3 (December 2003), Superman observes, \"Sometimes, I admit, I think of Bruce as a man in a costume. Then, with some gadget from his utility belt, he reminds me that he has an extraordinarily inventive mind. And how lucky I am to be able to call on', metadata={'source': '../data/Batman_wiki.pdf', 'page': 4}),\n",
       " Document(page_content='on crime-fighting and justice. In Superman/Batman #3 (December 2003), Superman observes, \"Sometimes, I admit, I think of Bruce as a man in a costume. Then, with some gadget from his utility belt, he reminds me that he has an extraordinarily inventive mind. And how lucky I am to be able to call on him.\"[102] Robin Main article: Robin (character)', metadata={'source': '../data/Batman_wiki.pdf', 'page': 4}),\n",
       " Document(page_content='Batman and Robin, art by Jack Burnley Robin, Batman\\'s vigilante partner, has been a widely recognized supporting character for many years; each iteration of the Robin character, of which there have been five in the mainstream continuity, function as members of the Batman family, but additionally, as Batman\\'s \"central\" sidekick in various media.[103] Bill Finger stated that he wanted to include Robin because \"Batman didn\\'t have anyone to talk to, and it got a little tiresome always having him thinking.\"[104] The first Robin, Dick Grayson, was introduced in 1940. In the 1970s he finally grew', metadata={'source': '../data/Batman_wiki.pdf', 'page': 4}),\n",
       " Document(page_content='as Batman\\'s \"central\" sidekick in various media.[103] Bill Finger stated that he wanted to include Robin because \"Batman didn\\'t have anyone to talk to, and it got a little tiresome always having him thinking.\"[104] The first Robin, Dick Grayson, was introduced in 1940. In the 1970s he finally grew up, went off to college and became the hero Nightwing. A second Robin, Jason Todd, appeared in the 1980s. In the stories he was eventually badly beaten and then killed in an explosion set by the Joker, but was later revived. He used the Joker\\'s old persona, the Red Hood, and became an antihero', metadata={'source': '../data/Batman_wiki.pdf', 'page': 4}),\n",
       " Document(page_content=\"grew up, went off to college and became the hero Nightwing. A second Robin, Jason Todd, appeared in the 1980s. In the stories he was eventually badly beaten and then killed in an explosion set by the Joker, but was later revived. He used the Joker's old persona, the Red Hood, and became an antihero vigilante with no qualms about using firearms or deadly force. Carrie Kelley, the first female Robin to appear in Batman stories, was the final Robin in the continuity of Frank Miller's graphic novels The Dark Knight Returns and The Dark Knight Strikes Again, fighting alongside an aging Batman in\", metadata={'source': '../data/Batman_wiki.pdf', 'page': 4}),\n",
       " Document(page_content=\"vigilante with no qualms about using firearms or deadly force. Carrie Kelley, the first female Robin to appear in Batman stories, was the final Robin in the continuity of Frank Miller's graphic novels The Dark Knight Returns and The Dark Knight Strikes Again, fighting alongside an aging Batman in stories set out of the mainstream continuity.\", metadata={'source': '../data/Batman_wiki.pdf', 'page': 4}),\n",
       " Document(page_content=\"The third Robin in the mainstream comics is Tim Drake, who first appeared in 1989. He went on to star in his own comic series, and currently goes by the Red Robin, a variation on the traditional Robin persona. In the first decade of the new millennium, Stephanie Brown served as the fourth in-universe Robin between stints as her self-made vigilante identity the Spoiler, and later as Batgirl.[105] After Brown's apparent death, Drake resumed the role of Robin for a time. The role eventually passed to Damian Wayne, the 10-year-old son of Bruce Wayne and Talia al Ghul, in the late 2000s.[106]\", metadata={'source': '../data/Batman_wiki.pdf', 'page': 5}),\n",
       " Document(page_content=\"Robin between stints as her self-made vigilante identity the Spoiler, and later as Batgirl.[105] After Brown's apparent death, Drake resumed the role of Robin for a time. The role eventually passed to Damian Wayne, the 10-year-old son of Bruce Wayne and Talia al Ghul, in the late 2000s.[106] Damian's tenure as du jour Robin ended when the character was killed off in the pages of Batman Incorporated in 2013.[107] Batman's next young sidekick is Harper Row, a streetwise young woman who avoids the name Robin but followed the ornithological theme nonetheless; she debuted the codename and identity\", metadata={'source': '../data/Batman_wiki.pdf', 'page': 5}),\n",
       " Document(page_content=\"tenure as du jour Robin ended when the character was killed off in the pages of Batman Incorporated in 2013.[107] Batman's next young sidekick is Harper Row, a streetwise young woman who avoids the name Robin but followed the ornithological theme nonetheless; she debuted the codename and identity of the Bluebird in 2014. Unlike the Robins, the Bluebird is willing and permitted to use a gun, albeit non-lethal; her weapon of choice is a modified rifle that fires taser rounds.[108] In 2015, a new series began titled We Are...Robin, focused on a group of teenagers using the Robin persona to fight\", metadata={'source': '../data/Batman_wiki.pdf', 'page': 5}),\n",
       " Document(page_content=\"the Bluebird in 2014. Unlike the Robins, the Bluebird is willing and permitted to use a gun, albeit non-lethal; her weapon of choice is a modified rifle that fires taser rounds.[108] In 2015, a new series began titled We Are...Robin, focused on a group of teenagers using the Robin persona to fight crime in Gotham City. The most prominent of these, Duke Thomas, later becomes Batman's crimefighting partner as The Signal. Relationships Children Throughout the character's history, Batman has had numerous adopted and biological children throughout the character's various interpretations and\", metadata={'source': '../data/Batman_wiki.pdf', 'page': 5}),\n",
       " Document(page_content=\"fight crime in Gotham City. The most prominent of these, Duke Thomas, later becomes Batman's crimefighting partner as The Signal. Relationships Children Throughout the character's history, Batman has had numerous adopted and biological children throughout the character's various interpretations and iterations. In the mainline DC Universe, Bruce is the adoptive father of Dick Grayson, Jason Todd, Tim Drake, and Cassandra Cain, and the biological father of Damian Wayne, who is Bruce's son with his old lover Talia Al Ghul (the daughter of Bruce's ex-mentor and League of Assassins head Ra's al\", metadata={'source': '../data/Batman_wiki.pdf', 'page': 5}),\n",
       " Document(page_content=\"iterations. In the mainline DC Universe, Bruce is the adoptive father of Dick Grayson, Jason Todd, Tim Drake, and Cassandra Cain, and the biological father of Damian Wayne, who is Bruce's son with his old lover Talia Al Ghul (the daughter of Bruce's ex-mentor and League of Assassins head Ra's al Ghul, thus making Ra's Damian's grandfather), all of whom Bruce trained to become and have followed his path as crimefighters. In addition to them, Bruce has also served as a surrogate father to and taken in his proteges Duke Thomas and Stephanie Brown. Notable alternate universe biological children\", metadata={'source': '../data/Batman_wiki.pdf', 'page': 5}),\n",
       " Document(page_content=\"thus making Ra's Damian's grandfather), all of whom Bruce trained to become and have followed his path as crimefighters. In addition to them, Bruce has also served as a surrogate father to and taken in his proteges Duke Thomas and Stephanie Brown. Notable alternate universe biological children of Bruce's include Helena Wayne, the biological daughter of the Golden Age/Earth 2's Bruce Wayne and that universe's Selina Kyle, Terry and Matt McGuiness from the DC Animated Universe, and Ibn al Xu'ffasch from the Kingdom Come universe. Damian Wayne is the biological son of Bruce Wayne and Talia al\", metadata={'source': '../data/Batman_wiki.pdf', 'page': 5}),\n",
       " Document(page_content=\"Bruce's include Helena Wayne, the biological daughter of the Golden Age/Earth 2's Bruce Wayne and that universe's Selina Kyle, Terry and Matt McGuiness from the DC Animated Universe, and Ibn al Xu'ffasch from the Kingdom Come universe. Damian Wayne is the biological son of Bruce Wayne and Talia al Ghul,[64][109][110] and thus the grandson of Ra's al Ghul. Terry and Matt McGuiness were the result of an experiment created by the DCAU's Amanda Waller to create a new Batman to create Bruce by copying his genetic material and having Terry and Matt's father Warren McGuiness alter his reproductive\", metadata={'source': '../data/Batman_wiki.pdf', 'page': 5}),\n",
       " Document(page_content=\"Ghul,[64][109][110] and thus the grandson of Ra's al Ghul. Terry and Matt McGuiness were the result of an experiment created by the DCAU's Amanda Waller to create a new Batman to create Bruce by copying his genetic material and having Terry and Matt's father Warren McGuiness alter his reproductive system to be identical to Batman's, which led to Terry and Matt genetically being Bruce's sons and Terry eventually becoming Bruce's successor as Batman during the events of the TV show Batman Beyond (though he didn't discover his relation to Bruce until 15 years after meeting them). Much like\", metadata={'source': '../data/Batman_wiki.pdf', 'page': 5}),\n",
       " Document(page_content='system to be identical to Batman\\'s, which led to Terry and Matt genetically being Bruce\\'s sons and Terry eventually becoming Bruce\\'s successor as Batman during the events of the TV show Batman Beyond (though he didn\\'t discover his relation to Bruce until 15 years after meeting them). Much like Damian, Ibn al Xu\\'ffasch is Bruce\\'s son with Talia al Ghul, but unlike Damian, al Xu\\'ffasch didn\\'t learn about his connection to Bruce until adulthood. Romantic interests Writers have varied in the approach over the years to the \"playboy\" aspect of Bruce Wayne\\'s persona. Some writers show his playboy', metadata={'source': '../data/Batman_wiki.pdf', 'page': 5}),\n",
       " Document(page_content='Ibn al Xu\\'ffasch is Bruce\\'s son with Talia al Ghul, but unlike Damian, al Xu\\'ffasch didn\\'t learn about his connection to Bruce until adulthood. Romantic interests Writers have varied in the approach over the years to the \"playboy\" aspect of Bruce Wayne\\'s persona. Some writers show his playboy reputation as a manufactured illusion to support his mission as Batman, while others have depicted Bruce Wayne as genuinely enjoying the benefits of being \"Gotham\\'s most eligible bachelor\". Bruce Wayne has been portrayed as being romantically linked with many women throughout his various incarnations.', metadata={'source': '../data/Batman_wiki.pdf', 'page': 5}),\n",
       " Document(page_content='as a manufactured illusion to support his mission as Batman, while others have depicted Bruce Wayne as genuinely enjoying the benefits of being \"Gotham\\'s most eligible bachelor\". Bruce Wayne has been portrayed as being romantically linked with many women throughout his various incarnations. Batman\\'s first romantic interest was Julie Madison in Detective Comics #31 (September 1939); however, their romance was short-lived. Some of Batman\\'s romantic interests have been women with a respected status in society, such as Julie Madison, Vicki Vale, and Silver St. Cloud. Batman has also been', metadata={'source': '../data/Batman_wiki.pdf', 'page': 5}),\n",
       " Document(page_content=\"Batman's first romantic interest was Julie Madison in Detective Comics #31 (September 1939); however, their romance was short-lived. Some of Batman's romantic interests have been women with a respected status in society, such as Julie Madison, Vicki Vale, and Silver St. Cloud. Batman has also been romantically involved with allies and enemies such as Kathy Kane (Batwoman), Sasha Bordeaux, Zatanna, Wonder Woman, and Pamela Isley (Poison Ivy). His most significant relationships occurred with Selina Kyle (Catwoman)[111] and Talia al Ghul; both women bore his biological offsprings, Helena Wayne\", metadata={'source': '../data/Batman_wiki.pdf', 'page': 5}),\n",
       " Document(page_content='romantically involved with allies and enemies such as Kathy Kane (Batwoman), Sasha Bordeaux, Zatanna, Wonder Woman, and Pamela Isley (Poison Ivy). His most significant relationships occurred with Selina Kyle (Catwoman)[111] and Talia al Ghul; both women bore his biological offsprings, Helena Wayne and Damian Wayne, respectively. Catwoman', metadata={'source': '../data/Batman_wiki.pdf', 'page': 5}),\n",
       " Document(page_content=\"Main article: Catwoman While most of Batman's romantic relationships tend to be short in duration, Catwoman has been his most enduring romance throughout the years.[112] The attraction between Batman and Catwoman, whose real name is Selina Kyle, is present in nearly every version and medium in which the characters appear, including a love story between their two secret identities as early as in the 1966 film Batman. Although Catwoman is typically portrayed as a villain, Batman and Catwoman have worked together in achieving common goals and are usually depicted as having a romantic connection.\", metadata={'source': '../data/Batman_wiki.pdf', 'page': 6}),\n",
       " Document(page_content='the characters appear, including a love story between their two secret identities as early as in the 1966 film Batman. Although Catwoman is typically portrayed as a villain, Batman and Catwoman have worked together in achieving common goals and are usually depicted as having a romantic connection. In an early 1980s storyline, Selina Kyle and Bruce Wayne develop a relationship, in which the closing panel of the final story shows her referring to Batman as \"Bruce\". However, a change in the editorial team brought a swift end to that storyline and, apparently, all that transpired during the story', metadata={'source': '../data/Batman_wiki.pdf', 'page': 6}),\n",
       " Document(page_content='an early 1980s storyline, Selina Kyle and Bruce Wayne develop a relationship, in which the closing panel of the final story shows her referring to Batman as \"Bruce\". However, a change in the editorial team brought a swift end to that storyline and, apparently, all that transpired during the story arc. Out of costume, Bruce and Selina develop a romantic relationship during The Long Halloween. The story shows Selina saving Bruce from Poison Ivy. However, the relationship ends when Bruce rejects her advances twice; once as Bruce and once as Batman. In Batman: Dark Victory, he stands her up on', metadata={'source': '../data/Batman_wiki.pdf', 'page': 6}),\n",
       " Document(page_content='arc. Out of costume, Bruce and Selina develop a romantic relationship during The Long Halloween. The story shows Selina saving Bruce from Poison Ivy. However, the relationship ends when Bruce rejects her advances twice; once as Bruce and once as Batman. In Batman: Dark Victory, he stands her up on two holidays, causing her to leave him for good and to leave Gotham City for a while. When the two meet at an opera many years later, during the events of the 12-issue story arc called \"Hush\", Bruce comments that the two no longer have a relationship as Bruce and Selina. However, \"Hush\" sees Batman', metadata={'source': '../data/Batman_wiki.pdf', 'page': 6}),\n",
       " Document(page_content='two holidays, causing her to leave him for good and to leave Gotham City for a while. When the two meet at an opera many years later, during the events of the 12-issue story arc called \"Hush\", Bruce comments that the two no longer have a relationship as Bruce and Selina. However, \"Hush\" sees Batman and Catwoman allied against the entire rogues gallery and rekindling their romantic relationship. In \"Hush\", Batman reveals his true identity to Catwoman. The Earth-Two Batman, a character from a parallel world, partners with and marries the reformed Earth-Two Selina Kyle, as shown in Superman', metadata={'source': '../data/Batman_wiki.pdf', 'page': 6}),\n",
       " Document(page_content='and Catwoman allied against the entire rogues gallery and rekindling their romantic relationship. In \"Hush\", Batman reveals his true identity to Catwoman. The Earth-Two Batman, a character from a parallel world, partners with and marries the reformed Earth-Two Selina Kyle, as shown in Superman Family #211. They have a daughter named Helena Wayne, who becomes the Huntress. Along with Dick Grayson, the Earth-Two Robin, the Huntress takes the role as Gotham\\'s protector once Bruce Wayne retires to become police commissioner, a position he occupies until he is killed during one final adventure as', metadata={'source': '../data/Batman_wiki.pdf', 'page': 6}),\n",
       " Document(page_content=\"#211. They have a daughter named Helena Wayne, who becomes the Huntress. Along with Dick Grayson, the Earth-Two Robin, the Huntress takes the role as Gotham's protector once Bruce Wayne retires to become police commissioner, a position he occupies until he is killed during one final adventure as Batman. Batman and Catwoman are shown having a sexual encounter on the roof of a building in Catwoman vol. 4 #1 (2011); the same issue implies that the two have an ongoing sexual relationship.[113] Following the 2016 DC Rebirth continuity reboot, the two once again have a sexual encounter on top of a\", metadata={'source': '../data/Batman_wiki.pdf', 'page': 6}),\n",
       " Document(page_content='Batman and Catwoman are shown having a sexual encounter on the roof of a building in Catwoman vol. 4 #1 (2011); the same issue implies that the two have an ongoing sexual relationship.[113] Following the 2016 DC Rebirth continuity reboot, the two once again have a sexual encounter on top of a building in Batman vol. 3 #14 (2017).[114] Following the 2016 DC Rebirth continuity reboot, Batman and Catwoman work together in the third volume of Batman. The two also have a romantic relationship, in which they are shown having a sexual encounter on a rooftop and sleeping together.[114][115][116]', metadata={'source': '../data/Batman_wiki.pdf', 'page': 6}),\n",
       " Document(page_content='in Batman vol. 3 #14 (2017).[114] Following the 2016 DC Rebirth continuity reboot, Batman and Catwoman work together in the third volume of Batman. The two also have a romantic relationship, in which they are shown having a sexual encounter on a rooftop and sleeping together.[114][115][116] Bruce proposes to Selina in Batman vol. 3 #24 (2017),[117] and in issue #32, Selina asks Bruce to propose to her again. When he does so, she says, \"Yes.\"[116] Batman vol. 3 Annual #2 (January 2018) centers on a romantic storyline between Batman and Catwoman. Towards the end, the story is flash-forwarded to', metadata={'source': '../data/Batman_wiki.pdf', 'page': 6}),\n",
       " Document(page_content='to Selina in Batman vol. 3 #24 (2017),[117] and in issue #32, Selina asks Bruce to propose to her again. When he does so, she says, \"Yes.\"[116] Batman vol. 3 Annual #2 (January 2018) centers on a romantic storyline between Batman and Catwoman. Towards the end, the story is flash-forwarded to the future, in which Bruce Wayne and Selina Kyle are a married couple in their golden years. Bruce receives a terminal medical diagnosis, and Selina cares for him until his death.[116] Abilities Skills and training Batman has no inherent superhuman powers; he relies on \"his own scientific knowledge,', metadata={'source': '../data/Batman_wiki.pdf', 'page': 6}),\n",
       " Document(page_content='future, in which Bruce Wayne and Selina Kyle are a married couple in their golden years. Bruce receives a terminal medical diagnosis, and Selina cares for him until his death.[116] Abilities Skills and training Batman has no inherent superhuman powers; he relies on \"his own scientific knowledge, detective skills, and athletic prowess\".[28] Batman\\'s inexhaustible wealth gives him access to advanced technologies, and as a proficient scientist, he is able to use and modify these technologies to his advantage. In the stories, Batman is regarded as one of the world\\'s greatest detectives, if not', metadata={'source': '../data/Batman_wiki.pdf', 'page': 6}),\n",
       " Document(page_content='detective skills, and athletic prowess\".[28] Batman\\'s inexhaustible wealth gives him access to advanced technologies, and as a proficient scientist, he is able to use and modify these technologies to his advantage. In the stories, Batman is regarded as one of the world\\'s greatest detectives, if not the world\\'s greatest crime solver.[118] Batman has been repeatedly described as having a genius-level intellect, being one of the greatest martial artists in the DC Universe, and having peak human physical and mental conditioning.[119] As a polymath, his knowledge and expertise in countless', metadata={'source': '../data/Batman_wiki.pdf', 'page': 6}),\n",
       " Document(page_content=\"if not the world's greatest crime solver.[118] Batman has been repeatedly described as having a genius-level intellect, being one of the greatest martial artists in the DC Universe, and having peak human physical and mental conditioning.[119] As a polymath, his knowledge and expertise in countless disciplines is nearly unparalleled by any other character in the DC Universe. He has shown prowess\", metadata={'source': '../data/Batman_wiki.pdf', 'page': 6}),\n",
       " Document(page_content='in assorted fields such as mathematics, biology, physics, chemistry, and several levels of engineering.[120] He has traveled the world acquiring the skills needed to aid him in his endeavors as Batman. In the Superman: Doomed story arc, Superman considers Batman to be one of the most brilliant minds on the planet.[121] Batman has trained extensively in various different fighting styles, making him one of the best hand-to-hand fighters in the DC Universe. He has fully utilized his photographic memory to master a total of 127 different forms of martial arts including, but not limited to, Aikido,', metadata={'source': '../data/Batman_wiki.pdf', 'page': 7}),\n",
       " Document(page_content='on the planet.[121] Batman has trained extensively in various different fighting styles, making him one of the best hand-to-hand fighters in the DC Universe. He has fully utilized his photographic memory to master a total of 127 different forms of martial arts including, but not limited to, Aikido, boxing, Brazilian jiu-jitsu, Capoeira, Eskrima, fencing, Gatka, Hapkido, Jeet Kune Do, Judo, Kalaripayattu, Karate, Kenjutsu, Kenpo, kickboxing, Kobudo, Krav Maga, Kyudo, Bōjutsu, Muay Thai, Ninjutsu, Pankration, Sambo, Savate, Silat, Taekwondo, wrestling, numerous different styles of Wushu (Kung', metadata={'source': '../data/Batman_wiki.pdf', 'page': 7}),\n",
       " Document(page_content='boxing, Brazilian jiu-jitsu, Capoeira, Eskrima, fencing, Gatka, Hapkido, Jeet Kune Do, Judo, Kalaripayattu, Karate, Kenjutsu, Kenpo, kickboxing, Kobudo, Krav Maga, Kyudo, Bōjutsu, Muay Thai, Ninjutsu, Pankration, Sambo, Savate, Silat, Taekwondo, wrestling, numerous different styles of Wushu (Kung Fu) (such as Baguazhang, Chin Na, Hung Ga, Shaolinquan, Tai Chi, Wing Chun), and Yaw-Yan.[122] In terms of his physical condition, Batman is described as peak human and far beyond an Olympic-athlete-level condition, able to perform feats such as easily running across rooftops in a Parkour-esque', metadata={'source': '../data/Batman_wiki.pdf', 'page': 7}),\n",
       " Document(page_content='Fu) (such as Baguazhang, Chin Na, Hung Ga, Shaolinquan, Tai Chi, Wing Chun), and Yaw-Yan.[122] In terms of his physical condition, Batman is described as peak human and far beyond an Olympic-athlete-level condition, able to perform feats such as easily running across rooftops in a Parkour-esque fashion, pressing thousands of pounds regularly, and even bench pressing six hundred pounds of soil and coffin in a poisoned and starved state. Superman describes Batman as \"the most dangerous man on Earth\", able to defeat an entire team of superpowered extraterrestrials by himself in order to rescue', metadata={'source': '../data/Batman_wiki.pdf', 'page': 7}),\n",
       " Document(page_content='pressing thousands of pounds regularly, and even bench pressing six hundred pounds of soil and coffin in a poisoned and starved state. Superman describes Batman as \"the most dangerous man on Earth\", able to defeat an entire team of superpowered extraterrestrials by himself in order to rescue his imprisoned teammates in Grant Morrison\\'s first storyline in JLA. Batman is strongly disciplined, and he has the ability to function under great physical pain and resist most forms of telepathy and mind control. He is a master of disguise, multilingual, and an expert in espionage, often gathering', metadata={'source': '../data/Batman_wiki.pdf', 'page': 7}),\n",
       " Document(page_content=\"imprisoned teammates in Grant Morrison's first storyline in JLA. Batman is strongly disciplined, and he has the ability to function under great physical pain and resist most forms of telepathy and mind control. He is a master of disguise, multilingual, and an expert in espionage, often gathering information under the identity of a notorious gangster named Matches Malone. Batman is highly skilled in stealth movement and escapology, which allows him to appear and disappear at will and to break free of nearly inescapable deathtraps with little to no harm. He is also a master strategist,\", metadata={'source': '../data/Batman_wiki.pdf', 'page': 7}),\n",
       " Document(page_content='information under the identity of a notorious gangster named Matches Malone. Batman is highly skilled in stealth movement and escapology, which allows him to appear and disappear at will and to break free of nearly inescapable deathtraps with little to no harm. He is also a master strategist, considered DC’s greatest tactician, with numerous plans in preparation for almost any eventuality. Batman is an expert in interrogation techniques and his intimidating and frightening appearance alone is often all that is needed in getting information from suspects. Despite having the potential to harm', metadata={'source': '../data/Batman_wiki.pdf', 'page': 7}),\n",
       " Document(page_content=\"DC’s greatest tactician, with numerous plans in preparation for almost any eventuality. Batman is an expert in interrogation techniques and his intimidating and frightening appearance alone is often all that is needed in getting information from suspects. Despite having the potential to harm his enemies, Batman's most defining characteristic is his strong commitment to justice and his reluctance to take a life. This unyielding moral rectitude has earned him the respect of several heroes in the DC Universe, most notably that of Superman and Wonder Woman. Among physical and other crime fighting\", metadata={'source': '../data/Batman_wiki.pdf', 'page': 7}),\n",
       " Document(page_content=\"Batman's most defining characteristic is his strong commitment to justice and his reluctance to take a life. This unyielding moral rectitude has earned him the respect of several heroes in the DC Universe, most notably that of Superman and Wonder Woman. Among physical and other crime fighting related training, he is also proficient at other types of skills. Some of these include being a licensed pilot (in order to operate the Batplane), as well as being able to operate other types of machinery. In some publications, he even underwent some magician training. Technology Batman utilizes a vast\", metadata={'source': '../data/Batman_wiki.pdf', 'page': 7}),\n",
       " Document(page_content=\"training, he is also proficient at other types of skills. Some of these include being a licensed pilot (in order to operate the Batplane), as well as being able to operate other types of machinery. In some publications, he even underwent some magician training. Technology Batman utilizes a vast arsenal of specialized, high-tech vehicles and gadgets in his war against crime, the designs of which usually share a bat motif. Batman historian Les Daniels credits Gardner Fox with creating the concept of Batman's arsenal with the introduction of the utility belt in Detective Comics #29 (July 1939)\", metadata={'source': '../data/Batman_wiki.pdf', 'page': 7}),\n",
       " Document(page_content='of specialized, high-tech vehicles and gadgets in his war against crime, the designs of which usually share a bat motif. Batman historian Les Daniels credits Gardner Fox with creating the concept of Batman\\'s arsenal with the introduction of the utility belt in Detective Comics #29 (July 1939) and the first bat-themed weapons the batarang and the \"Batgyro\" in Detective Comics #31 and 32 (Sept. and October 1939).[24] Personal armor Main article: Batsuit Batman\\'s batsuit aids in his combat against enemies, having the properties of both Kevlar and Nomex. It protects him from gunfire and other', metadata={'source': '../data/Batman_wiki.pdf', 'page': 7}),\n",
       " Document(page_content='the first bat-themed weapons the batarang and the \"Batgyro\" in Detective Comics #31 and 32 (Sept. and October 1939).[24] Personal armor Main article: Batsuit Batman\\'s batsuit aids in his combat against enemies, having the properties of both Kevlar and Nomex. It protects him from gunfire and other significant impacts, and incorporates the imagery of a bat in order to frighten criminals.[123] The details of the Batman costume change repeatedly through various decades, stories, media and artists\\' interpretations, but the most distinctive elements remain consistent: a scallop-hem cape; a', metadata={'source': '../data/Batman_wiki.pdf', 'page': 7}),\n",
       " Document(page_content='cowl covering most of the face; a pair of bat-like ears; a stylized bat emblem on the chest; and the ever-present utility belt. His gloves typically feature three scallops that protrude from long, gauntlet-like cuffs, although in his earliest appearances he wore short, plain gloves without the scallops.[124] The overall look of the character, particularly the length of the cowl\\'s ears and of the cape, varies greatly depending on the artist. Dennis O\\'Neil said, \"We now say that Batman has two hundred suits hanging in the Batcave so they don\\'t have to look the same ...Everybody loves to draw', metadata={'source': '../data/Batman_wiki.pdf', 'page': 8}),\n",
       " Document(page_content='The overall look of the character, particularly the length of the cowl\\'s ears and of the cape, varies greatly depending on the artist. Dennis O\\'Neil said, \"We now say that Batman has two hundred suits hanging in the Batcave so they don\\'t have to look the same ...Everybody loves to draw Batman, and everybody wants to put their own spin on it.\"[125] Finger and Kane originally conceptualized Batman as having a black cape and cowl and grey suit, but conventions in coloring called for black to be highlighted with blue.[123] Hence, the costume\\'s colors have appeared in the comics as dark blue and', metadata={'source': '../data/Batman_wiki.pdf', 'page': 8}),\n",
       " Document(page_content='everybody wants to put their own spin on it.\"[125] Finger and Kane originally conceptualized Batman as having a black cape and cowl and grey suit, but conventions in coloring called for black to be highlighted with blue.[123] Hence, the costume\\'s colors have appeared in the comics as dark blue and grey;[123] as well as black and grey. In the Tim Burton\\'s Batman and Batman Returns films, Batman has been depicted as completely black with a bat in the middle surrounded by a yellow background. Christopher Nolan\\'s The Dark Knight Trilogy depicted Batman wearing high-tech gear painted completely', metadata={'source': '../data/Batman_wiki.pdf', 'page': 8}),\n",
       " Document(page_content=\"grey;[123] as well as black and grey. In the Tim Burton's Batman and Batman Returns films, Batman has been depicted as completely black with a bat in the middle surrounded by a yellow background. Christopher Nolan's The Dark Knight Trilogy depicted Batman wearing high-tech gear painted completely black with a black bat in the middle. Ben Affleck's Batman in the DC Extended Universe films wears a suit grey in color with a black cowl, cape, and bat symbol. Batmobile Main article: Batmobile\", metadata={'source': '../data/Batman_wiki.pdf', 'page': 8}),\n",
       " Document(page_content='The 1966 television Batmobile, built by George Barris from a Lincoln Futura concept car Batman\\'s primary vehicle is the Batmobile, which is usually depicted as an imposing black car, often with tailfins that suggest a bat\\'s wings. Batman also has an aircraft called the Batplane (originally a relatively traditionally, but bat-motifed plane, later seen as the much more unique \"Batwing\" starting in the 1989 film), along with various other means of transportation. In proper practice, the \"bat\" prefix (as in Batmobile or batarang) is rarely used by Batman himself when referring to his equipment,', metadata={'source': '../data/Batman_wiki.pdf', 'page': 8}),\n",
       " Document(page_content='traditionally, but bat-motifed plane, later seen as the much more unique \"Batwing\" starting in the 1989 film), along with various other means of transportation. In proper practice, the \"bat\" prefix (as in Batmobile or batarang) is rarely used by Batman himself when referring to his equipment, particularly after some portrayals (primarily the 1960s Batman live-action television show and the Super Friends animated series) stretched the practice to campy proportions. For example, the 1960s television show depicted a Batboat, Bat-Sub, and Batcycle, among other bat-themed vehicles. The 1960s', metadata={'source': '../data/Batman_wiki.pdf', 'page': 8}),\n",
       " Document(page_content='particularly after some portrayals (primarily the 1960s Batman live-action television show and the Super Friends animated series) stretched the practice to campy proportions. For example, the 1960s television show depicted a Batboat, Bat-Sub, and Batcycle, among other bat-themed vehicles. The 1960s television series Batman has an arsenal that includes such \"bat-\" names as the Bat-computer, Bat-scanner, bat-radar, bat-cuffs, bat-pontoons, bat-drinking water dispenser, bat-camera with polarized bat-filter, bat-shark repellent bat-spray, and Bat-rope. The storyline \"A Death in the Family\"', metadata={'source': '../data/Batman_wiki.pdf', 'page': 8}),\n",
       " Document(page_content='1960s television series Batman has an arsenal that includes such \"bat-\" names as the Bat-computer, Bat-scanner, bat-radar, bat-cuffs, bat-pontoons, bat-drinking water dispenser, bat-camera with polarized bat-filter, bat-shark repellent bat-spray, and Bat-rope. The storyline \"A Death in the Family\" suggests that given Batman\\'s grim nature, he is unlikely to have adopted the \"bat\" prefix on his own. In The Dark Knight Returns, Batman tells Carrie Kelley that the original Robin came up with the name \"Batmobile\" when he was young, since that is what a kid would call Batman\\'s vehicle.', metadata={'source': '../data/Batman_wiki.pdf', 'page': 8}),\n",
       " Document(page_content=\"The Batmobile, which was before frequently depicted to resemble a sports car, was redesigned in 2011 when DC Comics relaunched its entire line of comic books, with the Batmobile being given heavier armor and new aesthetics. Utility belt Main article: Batman's utility belt Batman keeps most of his field equipment in his utility belt. Over the years it has shown to contain an assortment of crime-fighting tools, weapons, and investigative and technological instruments. Different versions of the belt have these items stored in compartments, often as pouches or hard cylinders attached evenly around\", metadata={'source': '../data/Batman_wiki.pdf', 'page': 9}),\n",
       " Document(page_content='equipment in his utility belt. Over the years it has shown to contain an assortment of crime-fighting tools, weapons, and investigative and technological instruments. Different versions of the belt have these items stored in compartments, often as pouches or hard cylinders attached evenly around it. Since the 1989 film, Batman is often depicted as carrying a projectile which shoots a retractable grappling hook attached to a cable (before this, a he employed a traditionally thrown grappling hook.) This allows him to attach to distant objects, be propelled into the air, and thus swing from the', metadata={'source': '../data/Batman_wiki.pdf', 'page': 9}),\n",
       " Document(page_content=\"Since the 1989 film, Batman is often depicted as carrying a projectile which shoots a retractable grappling hook attached to a cable (before this, a he employed a traditionally thrown grappling hook.) This allows him to attach to distant objects, be propelled into the air, and thus swing from the rooftops of Gotham City. An exception to the range of Batman's equipment are hand guns, which he refuses to use on principle, since a gun was used in his parents' murder. In modern stories in terms of his vehicles, Batman compromises on that principle to install weapon systems on them for the purpose\", metadata={'source': '../data/Batman_wiki.pdf', 'page': 9}),\n",
       " Document(page_content=\"of Gotham City. An exception to the range of Batman's equipment are hand guns, which he refuses to use on principle, since a gun was used in his parents' murder. In modern stories in terms of his vehicles, Batman compromises on that principle to install weapon systems on them for the purpose of non-lethally disabling other vehicles, forcing entry into locations and attacking dangerous targets too large to defeat by other means. Bat-Signal Main article: Bat-Signal When Batman is needed, the Gotham City police activate a searchlight with a bat-shaped insignia over the lens called the\", metadata={'source': '../data/Batman_wiki.pdf', 'page': 9}),\n",
       " Document(page_content='of non-lethally disabling other vehicles, forcing entry into locations and attacking dangerous targets too large to defeat by other means. Bat-Signal Main article: Bat-Signal When Batman is needed, the Gotham City police activate a searchlight with a bat-shaped insignia over the lens called the Bat-Signal, which shines into the night sky, creating a bat-symbol on a passing cloud which can be seen from any point in Gotham. The origin of the signal varies, depending on the continuity and medium. In various incarnations, most notably the 1960s Batman TV series, Commissioner Gordon also has a', metadata={'source': '../data/Batman_wiki.pdf', 'page': 9}),\n",
       " Document(page_content=\"Bat-Signal, which shines into the night sky, creating a bat-symbol on a passing cloud which can be seen from any point in Gotham. The origin of the signal varies, depending on the continuity and medium. In various incarnations, most notably the 1960s Batman TV series, Commissioner Gordon also has a dedicated phone line, dubbed the Bat-Phone, connected to a bright red telephone (in the TV series) which sits on a wooden base and has a transparent top. The line connects directly to Batman's residence, Wayne Manor, specifically both to a similar phone sitting on the desk in Bruce Wayne's study\", metadata={'source': '../data/Batman_wiki.pdf', 'page': 9}),\n",
       " Document(page_content=\"a dedicated phone line, dubbed the Bat-Phone, connected to a bright red telephone (in the TV series) which sits on a wooden base and has a transparent top. The line connects directly to Batman's residence, Wayne Manor, specifically both to a similar phone sitting on the desk in Bruce Wayne's study and the extension phone in the Batcave. Batcave Main article: Batcave The Batcave is Batman's secret headquarters, consisting of a series of caves beneath his mansion, Wayne Manor. As his command center, the Batcave serves multiple purposes; supercomputer, surveillance, redundant power-generators,\", metadata={'source': '../data/Batman_wiki.pdf', 'page': 9}),\n",
       " Document(page_content=\"and the extension phone in the Batcave. Batcave Main article: Batcave The Batcave is Batman's secret headquarters, consisting of a series of caves beneath his mansion, Wayne Manor. As his command center, the Batcave serves multiple purposes; supercomputer, surveillance, redundant power-generators, forensics lab, medical infirmary, private study, training dojo, fabrication workshop, arsenal, hangar and garage. It houses the vehicles and equipment Batman uses in his campaign to fight crime. It is also a trophy room and storage facility for Batman's unique memorabilia collected over the years\", metadata={'source': '../data/Batman_wiki.pdf', 'page': 9}),\n",
       " Document(page_content=\"forensics lab, medical infirmary, private study, training dojo, fabrication workshop, arsenal, hangar and garage. It houses the vehicles and equipment Batman uses in his campaign to fight crime. It is also a trophy room and storage facility for Batman's unique memorabilia collected over the years from various cases he has worked on. In both the comic book Batman: Shadow of the Bat #45 and the 2005 film Batman Begins, the cave is said to have been part of the Underground Railroad\", metadata={'source': '../data/Batman_wiki.pdf', 'page': 9})]"
      ]
     },
     "execution_count": 35,
     "metadata": {},
     "output_type": "execute_result"
    }
   ],
   "source": [
    "texts"
   ]
  },
  {
   "cell_type": "code",
   "execution_count": 11,
   "id": "ff8a5092",
   "metadata": {},
   "outputs": [],
   "source": [
    "# Splitting by tokens requires tiktoken, which is OpenAI\n",
    "from langchain.text_splitter import TokenTextSplitter\n",
    "\n",
    "text_splitter = TokenTextSplitter(chunk_size=100, chunk_overlap=0)\n",
    "texts = text_splitter.split_documents(pages)"
   ]
  },
  {
   "cell_type": "code",
   "execution_count": 12,
   "id": "115d026c",
   "metadata": {},
   "outputs": [
    {
     "data": {
      "text/plain": [
       "15"
      ]
     },
     "execution_count": 12,
     "metadata": {},
     "output_type": "execute_result"
    }
   ],
   "source": [
    "len(pages)"
   ]
  },
  {
   "cell_type": "code",
   "execution_count": 13,
   "id": "fdd7a15f",
   "metadata": {},
   "outputs": [
    {
     "data": {
      "text/plain": [
       "85"
      ]
     },
     "execution_count": 13,
     "metadata": {},
     "output_type": "execute_result"
    }
   ],
   "source": [
    "len(texts)"
   ]
  },
  {
   "cell_type": "markdown",
   "id": "eb3b249e",
   "metadata": {},
   "source": [
    "# Embedding"
   ]
  },
  {
   "cell_type": "markdown",
   "id": "4a4f4acb",
   "metadata": {},
   "source": [
    "## LlamaCpp Embeddings"
   ]
  },
  {
   "cell_type": "code",
   "execution_count": 14,
   "id": "27f30d44",
   "metadata": {},
   "outputs": [],
   "source": [
    "from langchain.embeddings import LlamaCppEmbeddings"
   ]
  },
  {
   "cell_type": "code",
   "execution_count": 15,
   "id": "9196701a",
   "metadata": {},
   "outputs": [],
   "source": [
    "# embeddings = LlamaCppEmbeddings(model_path=\"../models/llama-2-7b-chat.Q4_K_M.gguf\")"
   ]
  },
  {
   "cell_type": "code",
   "execution_count": 16,
   "id": "7ee967c0",
   "metadata": {},
   "outputs": [],
   "source": [
    "_texts = []\n",
    "for i in range(len(texts)):\n",
    "    _texts.append(texts[i].page_content)"
   ]
  },
  {
   "cell_type": "code",
   "execution_count": 17,
   "id": "70be8b76",
   "metadata": {},
   "outputs": [],
   "source": [
    "# embedded_texts = embeddings.embed_documents(_texts) # Don't really need this code anymore. Most vector stores embed docs for you\n",
    "# len(embedded_texts), len(embedded_texts[0])"
   ]
  },
  {
   "cell_type": "code",
   "execution_count": null,
   "id": "c238dbf4",
   "metadata": {},
   "outputs": [],
   "source": []
  },
  {
   "cell_type": "markdown",
   "id": "b8471e07",
   "metadata": {},
   "source": [
    "## OpenAI Embeddings"
   ]
  },
  {
   "cell_type": "code",
   "execution_count": 18,
   "id": "37346256",
   "metadata": {},
   "outputs": [],
   "source": [
    "from langchain.embeddings.openai import OpenAIEmbeddings"
   ]
  },
  {
   "cell_type": "code",
   "execution_count": 19,
   "id": "af418216",
   "metadata": {},
   "outputs": [],
   "source": [
    "embeddings = OpenAIEmbeddings(openai_api_key=OPENAI_API_KEY)"
   ]
  },
  {
   "cell_type": "markdown",
   "id": "4eb8d223",
   "metadata": {},
   "source": [
    "## HuggingFace Embeddings"
   ]
  },
  {
   "cell_type": "code",
   "execution_count": 20,
   "id": "919ec76d",
   "metadata": {},
   "outputs": [],
   "source": [
    "# from langchain.embeddings import HuggingFaceEmbeddings\n",
    "# from langchain.vectorstores import FAISS\n",
    "\n",
    "# model_name = \"sentence-transformers/all-mpnet-base-v2\"\n",
    "# model_kwargs = {\"device\": \"cuda\"}\n",
    "\n",
    "# embeddings = HuggingFaceEmbeddings(model_name=model_name, model_kwargs=model_kwargs) #TODO: Look into cache_folder param for caching embeddings\n",
    "\n",
    "# # storing embeddings in the vector store\n",
    "# vectorstore = FAISS.from_documents(texts, embeddings)"
   ]
  },
  {
   "cell_type": "code",
   "execution_count": null,
   "id": "1e06f367",
   "metadata": {},
   "outputs": [],
   "source": []
  },
  {
   "cell_type": "code",
   "execution_count": null,
   "id": "26aa881a",
   "metadata": {},
   "outputs": [],
   "source": []
  },
  {
   "cell_type": "markdown",
   "id": "5f6affd5",
   "metadata": {},
   "source": [
    "# Vector Store"
   ]
  },
  {
   "cell_type": "code",
   "execution_count": 21,
   "id": "2bf894dc",
   "metadata": {},
   "outputs": [],
   "source": [
    "from langchain.vectorstores import Chroma\n",
    "# Also look into langchain.indexes import VectorstoreIndexCreator"
   ]
  },
  {
   "cell_type": "code",
   "execution_count": 22,
   "id": "1b01ccbd",
   "metadata": {},
   "outputs": [],
   "source": [
    "# persist_directory = 'docs/chroma/' # Option to save vector store in a persistent directory so that we can use it in future.\n",
    "db = Chroma.from_documents(documents=texts, embedding=embeddings)#, persist_directory=persist_directory)\n",
    "# db.persist()"
   ]
  },
  {
   "cell_type": "markdown",
   "id": "888523f5",
   "metadata": {},
   "source": [
    "# Retrieval"
   ]
  },
  {
   "cell_type": "code",
   "execution_count": 40,
   "id": "3036b944",
   "metadata": {},
   "outputs": [],
   "source": [
    "from langchain.llms import OpenAI #No longer supported, use ChatOpenAI instead\n",
    "from langchain.chat_models import ChatOpenAI\n",
    "from langchain.chains import ConversationalRetrievalChain\n",
    "\n",
    "# llm = OpenAI(model_name=\"gpt-3.5-turbo\")\n",
    "llm = ChatOpenAI(temperature=0, model_name=\"gpt-3.5-turbo\")\n",
    "chain = ConversationalRetrievalChain.from_llm(llm, db.as_retriever(), return_source_documents=True)\n",
    "\n",
    "response = chain({\"question\": \"summarize the information\", \"chat_history\": []})"
   ]
  },
  {
   "cell_type": "code",
   "execution_count": 41,
   "id": "9025b2f6",
   "metadata": {},
   "outputs": [
    {
     "data": {
      "text/plain": [
       "{'question': 'summarize the information',\n",
       " 'chat_history': [],\n",
       " 'answer': 'The information provided discusses various risks and challenges that a company may face in its operations. These include risks associated with third-party relationships, information and technology systems, political conditions, competition, customer relationships, reputation and brand equity, financial and legal matters, and costs of labor and resources. The company also emphasizes the importance of innovation, intellectual property protection, and staying competitive in sales channels.',\n",
       " 'source_documents': [Document(page_content='ational and operational risk \\nassociated with third-party relationships, such as our suppliers, contract manufacturers, distributors, \\ncontractors and external business partners; (11) the ability to rely on and maintain key company and third-\\nparty information and operational technology systems, networks and services and maintain the security \\nand functionality of such systems, networks and services and the data contained therein; (12) the ability to \\nsuccessfully manage uncertainties related to changing political conditions and potential implications such ', metadata={'page': 5, 'source': '../data/FY2223-Q3-JFM-8-K-Final.pdf'}),\n",
       "  Document(page_content=' used by management in making operating decisions, allocating financial resources and for \\nbudget planning purposes. This measure is also used in assessing the achievement of management goals \\nfor at-risk compensation. ', metadata={'page': 12, 'source': '../data/FY2223-Q3-JFM-8-K-Final.pdf'}),\n",
       "  Document(page_content='successfully responding to competitive factors such as prices, promotional incentives and trade terms for \\nproducts; (8) the ability to manage and maintain key customer relationships; (9) the ability to protect our \\nreputation and brand equity by successfully managing real or perceived issues, including concerns about \\nsafety, quality, ingredients, efficacy, packaging content, supply chain practices or similar matters that may \\narise; (10) the ability to successfully manage the financial, legal, reput', metadata={'page': 5, 'source': '../data/FY2223-Q3-JFM-8-K-Final.pdf'}),\n",
       "  Document(page_content=' and costs of labor, transportation, energy, pension and healthcare; (6) the \\nability to stay on the leading edge of innovation, obtain necessary intellectual property protections and \\nsuccessfully respond to changing consumer habits, evolving digital marketing and selling platform \\nrequirements and technological advances attained by, and patents granted to, competitors; (7) the ability to \\ncompete with our local and global competitors in new and existing sales channels, including by ', metadata={'page': 4, 'source': '../data/FY2223-Q3-JFM-8-K-Final.pdf'})]}"
      ]
     },
     "execution_count": 41,
     "metadata": {},
     "output_type": "execute_result"
    }
   ],
   "source": [
    "response"
   ]
  },
  {
   "cell_type": "code",
   "execution_count": null,
   "id": "d5a5bd2d",
   "metadata": {},
   "outputs": [],
   "source": []
  },
  {
   "cell_type": "markdown",
   "id": "f4fad0c9",
   "metadata": {},
   "source": [
    "# Scratch Work: Calling LLMs"
   ]
  },
  {
   "cell_type": "code",
   "execution_count": 5,
   "id": "6d9bc6f8",
   "metadata": {},
   "outputs": [
    {
     "name": "stderr",
     "output_type": "stream",
     "text": [
      "llama_model_loader: loaded meta data with 19 key-value pairs and 363 tensors from ../models/llama-2-13b-chat.Q5_K_M.gguf (version GGUF V2 (latest))\n",
      "llama_model_loader: - tensor    0:                token_embd.weight q5_K     [  5120, 32000,     1,     1 ]\n",
      "llama_model_loader: - tensor    1:           blk.0.attn_norm.weight f32      [  5120,     1,     1,     1 ]\n",
      "llama_model_loader: - tensor    2:            blk.0.ffn_down.weight q6_K     [ 13824,  5120,     1,     1 ]\n",
      "llama_model_loader: - tensor    3:            blk.0.ffn_gate.weight q5_K     [  5120, 13824,     1,     1 ]\n",
      "llama_model_loader: - tensor    4:              blk.0.ffn_up.weight q5_K     [  5120, 13824,     1,     1 ]\n",
      "llama_model_loader: - tensor    5:            blk.0.ffn_norm.weight f32      [  5120,     1,     1,     1 ]\n",
      "llama_model_loader: - tensor    6:              blk.0.attn_k.weight q5_K     [  5120,  5120,     1,     1 ]\n",
      "llama_model_loader: - tensor    7:         blk.0.attn_output.weight q5_K     [  5120,  5120,     1,     1 ]\n",
      "llama_model_loader: - tensor    8:              blk.0.attn_q.weight q5_K     [  5120,  5120,     1,     1 ]\n",
      "llama_model_loader: - tensor    9:              blk.0.attn_v.weight q6_K     [  5120,  5120,     1,     1 ]\n",
      "llama_model_loader: - tensor   10:           blk.1.attn_norm.weight f32      [  5120,     1,     1,     1 ]\n",
      "llama_model_loader: - tensor   11:            blk.1.ffn_down.weight q6_K     [ 13824,  5120,     1,     1 ]\n",
      "llama_model_loader: - tensor   12:            blk.1.ffn_gate.weight q5_K     [  5120, 13824,     1,     1 ]\n",
      "llama_model_loader: - tensor   13:              blk.1.ffn_up.weight q5_K     [  5120, 13824,     1,     1 ]\n",
      "llama_model_loader: - tensor   14:            blk.1.ffn_norm.weight f32      [  5120,     1,     1,     1 ]\n",
      "llama_model_loader: - tensor   15:              blk.1.attn_k.weight q5_K     [  5120,  5120,     1,     1 ]\n",
      "llama_model_loader: - tensor   16:         blk.1.attn_output.weight q5_K     [  5120,  5120,     1,     1 ]\n",
      "llama_model_loader: - tensor   17:              blk.1.attn_q.weight q5_K     [  5120,  5120,     1,     1 ]\n",
      "llama_model_loader: - tensor   18:              blk.1.attn_v.weight q6_K     [  5120,  5120,     1,     1 ]\n",
      "llama_model_loader: - tensor   19:          blk.10.attn_norm.weight f32      [  5120,     1,     1,     1 ]\n",
      "llama_model_loader: - tensor   20:           blk.10.ffn_down.weight q6_K     [ 13824,  5120,     1,     1 ]\n",
      "llama_model_loader: - tensor   21:           blk.10.ffn_gate.weight q5_K     [  5120, 13824,     1,     1 ]\n",
      "llama_model_loader: - tensor   22:             blk.10.ffn_up.weight q5_K     [  5120, 13824,     1,     1 ]\n",
      "llama_model_loader: - tensor   23:           blk.10.ffn_norm.weight f32      [  5120,     1,     1,     1 ]\n",
      "llama_model_loader: - tensor   24:             blk.10.attn_k.weight q5_K     [  5120,  5120,     1,     1 ]\n",
      "llama_model_loader: - tensor   25:        blk.10.attn_output.weight q5_K     [  5120,  5120,     1,     1 ]\n",
      "llama_model_loader: - tensor   26:             blk.10.attn_q.weight q5_K     [  5120,  5120,     1,     1 ]\n",
      "llama_model_loader: - tensor   27:             blk.10.attn_v.weight q6_K     [  5120,  5120,     1,     1 ]\n",
      "llama_model_loader: - tensor   28:          blk.11.attn_norm.weight f32      [  5120,     1,     1,     1 ]\n",
      "llama_model_loader: - tensor   29:           blk.11.ffn_down.weight q6_K     [ 13824,  5120,     1,     1 ]\n",
      "llama_model_loader: - tensor   30:           blk.11.ffn_gate.weight q5_K     [  5120, 13824,     1,     1 ]\n",
      "llama_model_loader: - tensor   31:             blk.11.ffn_up.weight q5_K     [  5120, 13824,     1,     1 ]\n",
      "llama_model_loader: - tensor   32:           blk.11.ffn_norm.weight f32      [  5120,     1,     1,     1 ]\n",
      "llama_model_loader: - tensor   33:             blk.11.attn_k.weight q5_K     [  5120,  5120,     1,     1 ]\n",
      "llama_model_loader: - tensor   34:        blk.11.attn_output.weight q5_K     [  5120,  5120,     1,     1 ]\n",
      "llama_model_loader: - tensor   35:             blk.11.attn_q.weight q5_K     [  5120,  5120,     1,     1 ]\n",
      "llama_model_loader: - tensor   36:             blk.11.attn_v.weight q6_K     [  5120,  5120,     1,     1 ]\n",
      "llama_model_loader: - tensor   37:          blk.12.attn_norm.weight f32      [  5120,     1,     1,     1 ]\n",
      "llama_model_loader: - tensor   38:           blk.12.ffn_down.weight q6_K     [ 13824,  5120,     1,     1 ]\n",
      "llama_model_loader: - tensor   39:           blk.12.ffn_gate.weight q5_K     [  5120, 13824,     1,     1 ]\n",
      "llama_model_loader: - tensor   40:             blk.12.ffn_up.weight q5_K     [  5120, 13824,     1,     1 ]\n",
      "llama_model_loader: - tensor   41:           blk.12.ffn_norm.weight f32      [  5120,     1,     1,     1 ]\n",
      "llama_model_loader: - tensor   42:             blk.12.attn_k.weight q5_K     [  5120,  5120,     1,     1 ]\n",
      "llama_model_loader: - tensor   43:        blk.12.attn_output.weight q5_K     [  5120,  5120,     1,     1 ]\n",
      "llama_model_loader: - tensor   44:             blk.12.attn_q.weight q5_K     [  5120,  5120,     1,     1 ]\n",
      "llama_model_loader: - tensor   45:             blk.12.attn_v.weight q6_K     [  5120,  5120,     1,     1 ]\n",
      "llama_model_loader: - tensor   46:          blk.13.attn_norm.weight f32      [  5120,     1,     1,     1 ]\n",
      "llama_model_loader: - tensor   47:           blk.13.ffn_down.weight q5_K     [ 13824,  5120,     1,     1 ]\n",
      "llama_model_loader: - tensor   48:           blk.13.ffn_gate.weight q5_K     [  5120, 13824,     1,     1 ]\n",
      "llama_model_loader: - tensor   49:             blk.13.ffn_up.weight q5_K     [  5120, 13824,     1,     1 ]\n",
      "llama_model_loader: - tensor   50:           blk.13.ffn_norm.weight f32      [  5120,     1,     1,     1 ]\n",
      "llama_model_loader: - tensor   51:             blk.13.attn_k.weight q5_K     [  5120,  5120,     1,     1 ]\n",
      "llama_model_loader: - tensor   52:        blk.13.attn_output.weight q5_K     [  5120,  5120,     1,     1 ]\n",
      "llama_model_loader: - tensor   53:             blk.13.attn_q.weight q5_K     [  5120,  5120,     1,     1 ]\n",
      "llama_model_loader: - tensor   54:             blk.13.attn_v.weight q5_K     [  5120,  5120,     1,     1 ]\n",
      "llama_model_loader: - tensor   55:          blk.14.attn_norm.weight f32      [  5120,     1,     1,     1 ]\n",
      "llama_model_loader: - tensor   56:           blk.14.ffn_down.weight q5_K     [ 13824,  5120,     1,     1 ]\n",
      "llama_model_loader: - tensor   57:           blk.14.ffn_gate.weight q5_K     [  5120, 13824,     1,     1 ]\n",
      "llama_model_loader: - tensor   58:             blk.14.ffn_up.weight q5_K     [  5120, 13824,     1,     1 ]\n",
      "llama_model_loader: - tensor   59:           blk.14.ffn_norm.weight f32      [  5120,     1,     1,     1 ]\n",
      "llama_model_loader: - tensor   60:             blk.14.attn_k.weight q5_K     [  5120,  5120,     1,     1 ]\n",
      "llama_model_loader: - tensor   61:        blk.14.attn_output.weight q5_K     [  5120,  5120,     1,     1 ]\n",
      "llama_model_loader: - tensor   62:             blk.14.attn_q.weight q5_K     [  5120,  5120,     1,     1 ]\n",
      "llama_model_loader: - tensor   63:             blk.14.attn_v.weight q5_K     [  5120,  5120,     1,     1 ]\n",
      "llama_model_loader: - tensor   64:             blk.15.attn_k.weight q5_K     [  5120,  5120,     1,     1 ]\n",
      "llama_model_loader: - tensor   65:             blk.15.attn_q.weight q5_K     [  5120,  5120,     1,     1 ]\n",
      "llama_model_loader: - tensor   66:           blk.2.attn_norm.weight f32      [  5120,     1,     1,     1 ]\n",
      "llama_model_loader: - tensor   67:            blk.2.ffn_down.weight q6_K     [ 13824,  5120,     1,     1 ]\n",
      "llama_model_loader: - tensor   68:            blk.2.ffn_gate.weight q5_K     [  5120, 13824,     1,     1 ]\n",
      "llama_model_loader: - tensor   69:              blk.2.ffn_up.weight q5_K     [  5120, 13824,     1,     1 ]\n",
      "llama_model_loader: - tensor   70:            blk.2.ffn_norm.weight f32      [  5120,     1,     1,     1 ]\n",
      "llama_model_loader: - tensor   71:              blk.2.attn_k.weight q5_K     [  5120,  5120,     1,     1 ]\n",
      "llama_model_loader: - tensor   72:         blk.2.attn_output.weight q5_K     [  5120,  5120,     1,     1 ]\n",
      "llama_model_loader: - tensor   73:              blk.2.attn_q.weight q5_K     [  5120,  5120,     1,     1 ]\n",
      "llama_model_loader: - tensor   74:              blk.2.attn_v.weight q6_K     [  5120,  5120,     1,     1 ]\n",
      "llama_model_loader: - tensor   75:           blk.3.attn_norm.weight f32      [  5120,     1,     1,     1 ]\n",
      "llama_model_loader: - tensor   76:            blk.3.ffn_down.weight q5_K     [ 13824,  5120,     1,     1 ]\n",
      "llama_model_loader: - tensor   77:            blk.3.ffn_gate.weight q5_K     [  5120, 13824,     1,     1 ]\n",
      "llama_model_loader: - tensor   78:              blk.3.ffn_up.weight q5_K     [  5120, 13824,     1,     1 ]\n",
      "llama_model_loader: - tensor   79:            blk.3.ffn_norm.weight f32      [  5120,     1,     1,     1 ]\n",
      "llama_model_loader: - tensor   80:              blk.3.attn_k.weight q5_K     [  5120,  5120,     1,     1 ]\n",
      "llama_model_loader: - tensor   81:         blk.3.attn_output.weight q5_K     [  5120,  5120,     1,     1 ]\n",
      "llama_model_loader: - tensor   82:              blk.3.attn_q.weight q5_K     [  5120,  5120,     1,     1 ]\n",
      "llama_model_loader: - tensor   83:              blk.3.attn_v.weight q5_K     [  5120,  5120,     1,     1 ]\n",
      "llama_model_loader: - tensor   84:           blk.4.attn_norm.weight f32      [  5120,     1,     1,     1 ]\n",
      "llama_model_loader: - tensor   85:            blk.4.ffn_down.weight q5_K     [ 13824,  5120,     1,     1 ]\n",
      "llama_model_loader: - tensor   86:            blk.4.ffn_gate.weight q5_K     [  5120, 13824,     1,     1 ]\n",
      "llama_model_loader: - tensor   87:              blk.4.ffn_up.weight q5_K     [  5120, 13824,     1,     1 ]\n",
      "llama_model_loader: - tensor   88:            blk.4.ffn_norm.weight f32      [  5120,     1,     1,     1 ]\n",
      "llama_model_loader: - tensor   89:              blk.4.attn_k.weight q5_K     [  5120,  5120,     1,     1 ]\n",
      "llama_model_loader: - tensor   90:         blk.4.attn_output.weight q5_K     [  5120,  5120,     1,     1 ]\n",
      "llama_model_loader: - tensor   91:              blk.4.attn_q.weight q5_K     [  5120,  5120,     1,     1 ]\n",
      "llama_model_loader: - tensor   92:              blk.4.attn_v.weight q5_K     [  5120,  5120,     1,     1 ]\n",
      "llama_model_loader: - tensor   93:           blk.5.attn_norm.weight f32      [  5120,     1,     1,     1 ]\n",
      "llama_model_loader: - tensor   94:            blk.5.ffn_down.weight q6_K     [ 13824,  5120,     1,     1 ]\n",
      "llama_model_loader: - tensor   95:            blk.5.ffn_gate.weight q5_K     [  5120, 13824,     1,     1 ]\n",
      "llama_model_loader: - tensor   96:              blk.5.ffn_up.weight q5_K     [  5120, 13824,     1,     1 ]\n",
      "llama_model_loader: - tensor   97:            blk.5.ffn_norm.weight f32      [  5120,     1,     1,     1 ]\n",
      "llama_model_loader: - tensor   98:              blk.5.attn_k.weight q5_K     [  5120,  5120,     1,     1 ]\n",
      "llama_model_loader: - tensor   99:         blk.5.attn_output.weight q5_K     [  5120,  5120,     1,     1 ]\n",
      "llama_model_loader: - tensor  100:              blk.5.attn_q.weight q5_K     [  5120,  5120,     1,     1 ]\n",
      "llama_model_loader: - tensor  101:              blk.5.attn_v.weight q6_K     [  5120,  5120,     1,     1 ]\n",
      "llama_model_loader: - tensor  102:           blk.6.attn_norm.weight f32      [  5120,     1,     1,     1 ]\n",
      "llama_model_loader: - tensor  103:            blk.6.ffn_down.weight q5_K     [ 13824,  5120,     1,     1 ]\n",
      "llama_model_loader: - tensor  104:            blk.6.ffn_gate.weight q5_K     [  5120, 13824,     1,     1 ]\n",
      "llama_model_loader: - tensor  105:              blk.6.ffn_up.weight q5_K     [  5120, 13824,     1,     1 ]\n",
      "llama_model_loader: - tensor  106:            blk.6.ffn_norm.weight f32      [  5120,     1,     1,     1 ]\n",
      "llama_model_loader: - tensor  107:              blk.6.attn_k.weight q5_K     [  5120,  5120,     1,     1 ]\n",
      "llama_model_loader: - tensor  108:         blk.6.attn_output.weight q5_K     [  5120,  5120,     1,     1 ]\n",
      "llama_model_loader: - tensor  109:              blk.6.attn_q.weight q5_K     [  5120,  5120,     1,     1 ]\n",
      "llama_model_loader: - tensor  110:              blk.6.attn_v.weight q5_K     [  5120,  5120,     1,     1 ]\n",
      "llama_model_loader: - tensor  111:           blk.7.attn_norm.weight f32      [  5120,     1,     1,     1 ]\n",
      "llama_model_loader: - tensor  112:            blk.7.ffn_down.weight q5_K     [ 13824,  5120,     1,     1 ]\n",
      "llama_model_loader: - tensor  113:            blk.7.ffn_gate.weight q5_K     [  5120, 13824,     1,     1 ]\n",
      "llama_model_loader: - tensor  114:              blk.7.ffn_up.weight q5_K     [  5120, 13824,     1,     1 ]\n",
      "llama_model_loader: - tensor  115:            blk.7.ffn_norm.weight f32      [  5120,     1,     1,     1 ]\n",
      "llama_model_loader: - tensor  116:              blk.7.attn_k.weight q5_K     [  5120,  5120,     1,     1 ]\n",
      "llama_model_loader: - tensor  117:         blk.7.attn_output.weight q5_K     [  5120,  5120,     1,     1 ]\n",
      "llama_model_loader: - tensor  118:              blk.7.attn_q.weight q5_K     [  5120,  5120,     1,     1 ]\n",
      "llama_model_loader: - tensor  119:              blk.7.attn_v.weight q5_K     [  5120,  5120,     1,     1 ]\n",
      "llama_model_loader: - tensor  120:           blk.8.attn_norm.weight f32      [  5120,     1,     1,     1 ]\n",
      "llama_model_loader: - tensor  121:            blk.8.ffn_down.weight q6_K     [ 13824,  5120,     1,     1 ]\n",
      "llama_model_loader: - tensor  122:            blk.8.ffn_gate.weight q5_K     [  5120, 13824,     1,     1 ]\n",
      "llama_model_loader: - tensor  123:              blk.8.ffn_up.weight q5_K     [  5120, 13824,     1,     1 ]\n",
      "llama_model_loader: - tensor  124:            blk.8.ffn_norm.weight f32      [  5120,     1,     1,     1 ]\n",
      "llama_model_loader: - tensor  125:              blk.8.attn_k.weight q5_K     [  5120,  5120,     1,     1 ]\n",
      "llama_model_loader: - tensor  126:         blk.8.attn_output.weight q5_K     [  5120,  5120,     1,     1 ]\n",
      "llama_model_loader: - tensor  127:              blk.8.attn_q.weight q5_K     [  5120,  5120,     1,     1 ]\n",
      "llama_model_loader: - tensor  128:              blk.8.attn_v.weight q6_K     [  5120,  5120,     1,     1 ]\n",
      "llama_model_loader: - tensor  129:           blk.9.attn_norm.weight f32      [  5120,     1,     1,     1 ]\n",
      "llama_model_loader: - tensor  130:            blk.9.ffn_down.weight q5_K     [ 13824,  5120,     1,     1 ]\n",
      "llama_model_loader: - tensor  131:            blk.9.ffn_gate.weight q5_K     [  5120, 13824,     1,     1 ]\n",
      "llama_model_loader: - tensor  132:              blk.9.ffn_up.weight q5_K     [  5120, 13824,     1,     1 ]\n",
      "llama_model_loader: - tensor  133:            blk.9.ffn_norm.weight f32      [  5120,     1,     1,     1 ]\n",
      "llama_model_loader: - tensor  134:              blk.9.attn_k.weight q5_K     [  5120,  5120,     1,     1 ]\n",
      "llama_model_loader: - tensor  135:         blk.9.attn_output.weight q5_K     [  5120,  5120,     1,     1 ]\n",
      "llama_model_loader: - tensor  136:              blk.9.attn_q.weight q5_K     [  5120,  5120,     1,     1 ]\n",
      "llama_model_loader: - tensor  137:              blk.9.attn_v.weight q5_K     [  5120,  5120,     1,     1 ]\n",
      "llama_model_loader: - tensor  138:          blk.15.attn_norm.weight f32      [  5120,     1,     1,     1 ]\n",
      "llama_model_loader: - tensor  139:           blk.15.ffn_down.weight q5_K     [ 13824,  5120,     1,     1 ]\n",
      "llama_model_loader: - tensor  140:           blk.15.ffn_gate.weight q5_K     [  5120, 13824,     1,     1 ]\n",
      "llama_model_loader: - tensor  141:             blk.15.ffn_up.weight q5_K     [  5120, 13824,     1,     1 ]\n",
      "llama_model_loader: - tensor  142:           blk.15.ffn_norm.weight f32      [  5120,     1,     1,     1 ]\n",
      "llama_model_loader: - tensor  143:        blk.15.attn_output.weight q5_K     [  5120,  5120,     1,     1 ]\n",
      "llama_model_loader: - tensor  144:             blk.15.attn_v.weight q5_K     [  5120,  5120,     1,     1 ]\n",
      "llama_model_loader: - tensor  145:          blk.16.attn_norm.weight f32      [  5120,     1,     1,     1 ]\n",
      "llama_model_loader: - tensor  146:           blk.16.ffn_down.weight q6_K     [ 13824,  5120,     1,     1 ]\n",
      "llama_model_loader: - tensor  147:           blk.16.ffn_gate.weight q5_K     [  5120, 13824,     1,     1 ]\n",
      "llama_model_loader: - tensor  148:             blk.16.ffn_up.weight q5_K     [  5120, 13824,     1,     1 ]\n",
      "llama_model_loader: - tensor  149:           blk.16.ffn_norm.weight f32      [  5120,     1,     1,     1 ]\n",
      "llama_model_loader: - tensor  150:             blk.16.attn_k.weight q5_K     [  5120,  5120,     1,     1 ]\n",
      "llama_model_loader: - tensor  151:        blk.16.attn_output.weight q5_K     [  5120,  5120,     1,     1 ]\n",
      "llama_model_loader: - tensor  152:             blk.16.attn_q.weight q5_K     [  5120,  5120,     1,     1 ]\n",
      "llama_model_loader: - tensor  153:             blk.16.attn_v.weight q6_K     [  5120,  5120,     1,     1 ]\n",
      "llama_model_loader: - tensor  154:          blk.17.attn_norm.weight f32      [  5120,     1,     1,     1 ]\n",
      "llama_model_loader: - tensor  155:           blk.17.ffn_down.weight q5_K     [ 13824,  5120,     1,     1 ]\n",
      "llama_model_loader: - tensor  156:           blk.17.ffn_gate.weight q5_K     [  5120, 13824,     1,     1 ]\n",
      "llama_model_loader: - tensor  157:             blk.17.ffn_up.weight q5_K     [  5120, 13824,     1,     1 ]\n",
      "llama_model_loader: - tensor  158:           blk.17.ffn_norm.weight f32      [  5120,     1,     1,     1 ]\n",
      "llama_model_loader: - tensor  159:             blk.17.attn_k.weight q5_K     [  5120,  5120,     1,     1 ]\n",
      "llama_model_loader: - tensor  160:        blk.17.attn_output.weight q5_K     [  5120,  5120,     1,     1 ]\n",
      "llama_model_loader: - tensor  161:             blk.17.attn_q.weight q5_K     [  5120,  5120,     1,     1 ]\n",
      "llama_model_loader: - tensor  162:             blk.17.attn_v.weight q5_K     [  5120,  5120,     1,     1 ]\n",
      "llama_model_loader: - tensor  163:          blk.18.attn_norm.weight f32      [  5120,     1,     1,     1 ]\n",
      "llama_model_loader: - tensor  164:           blk.18.ffn_down.weight q5_K     [ 13824,  5120,     1,     1 ]\n",
      "llama_model_loader: - tensor  165:           blk.18.ffn_gate.weight q5_K     [  5120, 13824,     1,     1 ]\n",
      "llama_model_loader: - tensor  166:             blk.18.ffn_up.weight q5_K     [  5120, 13824,     1,     1 ]\n",
      "llama_model_loader: - tensor  167:           blk.18.ffn_norm.weight f32      [  5120,     1,     1,     1 ]\n",
      "llama_model_loader: - tensor  168:             blk.18.attn_k.weight q5_K     [  5120,  5120,     1,     1 ]\n",
      "llama_model_loader: - tensor  169:        blk.18.attn_output.weight q5_K     [  5120,  5120,     1,     1 ]\n",
      "llama_model_loader: - tensor  170:             blk.18.attn_q.weight q5_K     [  5120,  5120,     1,     1 ]\n",
      "llama_model_loader: - tensor  171:             blk.18.attn_v.weight q5_K     [  5120,  5120,     1,     1 ]\n",
      "llama_model_loader: - tensor  172:          blk.19.attn_norm.weight f32      [  5120,     1,     1,     1 ]\n",
      "llama_model_loader: - tensor  173:           blk.19.ffn_down.weight q6_K     [ 13824,  5120,     1,     1 ]\n",
      "llama_model_loader: - tensor  174:           blk.19.ffn_gate.weight q5_K     [  5120, 13824,     1,     1 ]\n",
      "llama_model_loader: - tensor  175:             blk.19.ffn_up.weight q5_K     [  5120, 13824,     1,     1 ]\n",
      "llama_model_loader: - tensor  176:           blk.19.ffn_norm.weight f32      [  5120,     1,     1,     1 ]\n",
      "llama_model_loader: - tensor  177:             blk.19.attn_k.weight q5_K     [  5120,  5120,     1,     1 ]\n",
      "llama_model_loader: - tensor  178:        blk.19.attn_output.weight q5_K     [  5120,  5120,     1,     1 ]\n",
      "llama_model_loader: - tensor  179:             blk.19.attn_q.weight q5_K     [  5120,  5120,     1,     1 ]\n",
      "llama_model_loader: - tensor  180:             blk.19.attn_v.weight q6_K     [  5120,  5120,     1,     1 ]\n",
      "llama_model_loader: - tensor  181:          blk.20.attn_norm.weight f32      [  5120,     1,     1,     1 ]\n",
      "llama_model_loader: - tensor  182:           blk.20.ffn_down.weight q5_K     [ 13824,  5120,     1,     1 ]\n",
      "llama_model_loader: - tensor  183:           blk.20.ffn_gate.weight q5_K     [  5120, 13824,     1,     1 ]\n",
      "llama_model_loader: - tensor  184:             blk.20.ffn_up.weight q5_K     [  5120, 13824,     1,     1 ]\n",
      "llama_model_loader: - tensor  185:           blk.20.ffn_norm.weight f32      [  5120,     1,     1,     1 ]\n",
      "llama_model_loader: - tensor  186:             blk.20.attn_k.weight q5_K     [  5120,  5120,     1,     1 ]\n",
      "llama_model_loader: - tensor  187:        blk.20.attn_output.weight q5_K     [  5120,  5120,     1,     1 ]\n",
      "llama_model_loader: - tensor  188:             blk.20.attn_q.weight q5_K     [  5120,  5120,     1,     1 ]\n",
      "llama_model_loader: - tensor  189:             blk.20.attn_v.weight q5_K     [  5120,  5120,     1,     1 ]\n",
      "llama_model_loader: - tensor  190:          blk.21.attn_norm.weight f32      [  5120,     1,     1,     1 ]\n",
      "llama_model_loader: - tensor  191:           blk.21.ffn_down.weight q5_K     [ 13824,  5120,     1,     1 ]\n",
      "llama_model_loader: - tensor  192:           blk.21.ffn_gate.weight q5_K     [  5120, 13824,     1,     1 ]\n",
      "llama_model_loader: - tensor  193:             blk.21.ffn_up.weight q5_K     [  5120, 13824,     1,     1 ]\n",
      "llama_model_loader: - tensor  194:           blk.21.ffn_norm.weight f32      [  5120,     1,     1,     1 ]\n",
      "llama_model_loader: - tensor  195:             blk.21.attn_k.weight q5_K     [  5120,  5120,     1,     1 ]\n",
      "llama_model_loader: - tensor  196:        blk.21.attn_output.weight q5_K     [  5120,  5120,     1,     1 ]\n",
      "llama_model_loader: - tensor  197:             blk.21.attn_q.weight q5_K     [  5120,  5120,     1,     1 ]\n",
      "llama_model_loader: - tensor  198:             blk.21.attn_v.weight q5_K     [  5120,  5120,     1,     1 ]\n",
      "llama_model_loader: - tensor  199:          blk.22.attn_norm.weight f32      [  5120,     1,     1,     1 ]\n",
      "llama_model_loader: - tensor  200:           blk.22.ffn_down.weight q6_K     [ 13824,  5120,     1,     1 ]\n",
      "llama_model_loader: - tensor  201:           blk.22.ffn_gate.weight q5_K     [  5120, 13824,     1,     1 ]\n",
      "llama_model_loader: - tensor  202:             blk.22.ffn_up.weight q5_K     [  5120, 13824,     1,     1 ]\n",
      "llama_model_loader: - tensor  203:           blk.22.ffn_norm.weight f32      [  5120,     1,     1,     1 ]\n",
      "llama_model_loader: - tensor  204:             blk.22.attn_k.weight q5_K     [  5120,  5120,     1,     1 ]\n",
      "llama_model_loader: - tensor  205:        blk.22.attn_output.weight q5_K     [  5120,  5120,     1,     1 ]\n",
      "llama_model_loader: - tensor  206:             blk.22.attn_q.weight q5_K     [  5120,  5120,     1,     1 ]\n",
      "llama_model_loader: - tensor  207:             blk.22.attn_v.weight q6_K     [  5120,  5120,     1,     1 ]\n",
      "llama_model_loader: - tensor  208:          blk.23.attn_norm.weight f32      [  5120,     1,     1,     1 ]\n",
      "llama_model_loader: - tensor  209:           blk.23.ffn_down.weight q5_K     [ 13824,  5120,     1,     1 ]\n",
      "llama_model_loader: - tensor  210:           blk.23.ffn_gate.weight q5_K     [  5120, 13824,     1,     1 ]\n",
      "llama_model_loader: - tensor  211:             blk.23.ffn_up.weight q5_K     [  5120, 13824,     1,     1 ]\n",
      "llama_model_loader: - tensor  212:           blk.23.ffn_norm.weight f32      [  5120,     1,     1,     1 ]\n",
      "llama_model_loader: - tensor  213:             blk.23.attn_k.weight q5_K     [  5120,  5120,     1,     1 ]\n",
      "llama_model_loader: - tensor  214:        blk.23.attn_output.weight q5_K     [  5120,  5120,     1,     1 ]\n",
      "llama_model_loader: - tensor  215:             blk.23.attn_q.weight q5_K     [  5120,  5120,     1,     1 ]\n",
      "llama_model_loader: - tensor  216:             blk.23.attn_v.weight q5_K     [  5120,  5120,     1,     1 ]\n",
      "llama_model_loader: - tensor  217:          blk.24.attn_norm.weight f32      [  5120,     1,     1,     1 ]\n",
      "llama_model_loader: - tensor  218:           blk.24.ffn_down.weight q5_K     [ 13824,  5120,     1,     1 ]\n",
      "llama_model_loader: - tensor  219:           blk.24.ffn_gate.weight q5_K     [  5120, 13824,     1,     1 ]\n",
      "llama_model_loader: - tensor  220:             blk.24.ffn_up.weight q5_K     [  5120, 13824,     1,     1 ]\n",
      "llama_model_loader: - tensor  221:           blk.24.ffn_norm.weight f32      [  5120,     1,     1,     1 ]\n",
      "llama_model_loader: - tensor  222:             blk.24.attn_k.weight q5_K     [  5120,  5120,     1,     1 ]\n",
      "llama_model_loader: - tensor  223:        blk.24.attn_output.weight q5_K     [  5120,  5120,     1,     1 ]\n",
      "llama_model_loader: - tensor  224:             blk.24.attn_q.weight q5_K     [  5120,  5120,     1,     1 ]\n",
      "llama_model_loader: - tensor  225:             blk.24.attn_v.weight q5_K     [  5120,  5120,     1,     1 ]\n",
      "llama_model_loader: - tensor  226:          blk.25.attn_norm.weight f32      [  5120,     1,     1,     1 ]\n",
      "llama_model_loader: - tensor  227:           blk.25.ffn_down.weight q6_K     [ 13824,  5120,     1,     1 ]\n",
      "llama_model_loader: - tensor  228:           blk.25.ffn_gate.weight q5_K     [  5120, 13824,     1,     1 ]\n",
      "llama_model_loader: - tensor  229:             blk.25.ffn_up.weight q5_K     [  5120, 13824,     1,     1 ]\n",
      "llama_model_loader: - tensor  230:           blk.25.ffn_norm.weight f32      [  5120,     1,     1,     1 ]\n",
      "llama_model_loader: - tensor  231:             blk.25.attn_k.weight q5_K     [  5120,  5120,     1,     1 ]\n",
      "llama_model_loader: - tensor  232:        blk.25.attn_output.weight q5_K     [  5120,  5120,     1,     1 ]\n",
      "llama_model_loader: - tensor  233:             blk.25.attn_q.weight q5_K     [  5120,  5120,     1,     1 ]\n",
      "llama_model_loader: - tensor  234:             blk.25.attn_v.weight q6_K     [  5120,  5120,     1,     1 ]\n",
      "llama_model_loader: - tensor  235:          blk.26.attn_norm.weight f32      [  5120,     1,     1,     1 ]\n",
      "llama_model_loader: - tensor  236:           blk.26.ffn_down.weight q5_K     [ 13824,  5120,     1,     1 ]\n",
      "llama_model_loader: - tensor  237:           blk.26.ffn_gate.weight q5_K     [  5120, 13824,     1,     1 ]\n",
      "llama_model_loader: - tensor  238:             blk.26.ffn_up.weight q5_K     [  5120, 13824,     1,     1 ]\n",
      "llama_model_loader: - tensor  239:           blk.26.ffn_norm.weight f32      [  5120,     1,     1,     1 ]\n",
      "llama_model_loader: - tensor  240:             blk.26.attn_k.weight q5_K     [  5120,  5120,     1,     1 ]\n",
      "llama_model_loader: - tensor  241:        blk.26.attn_output.weight q5_K     [  5120,  5120,     1,     1 ]\n",
      "llama_model_loader: - tensor  242:             blk.26.attn_q.weight q5_K     [  5120,  5120,     1,     1 ]\n",
      "llama_model_loader: - tensor  243:             blk.26.attn_v.weight q5_K     [  5120,  5120,     1,     1 ]\n",
      "llama_model_loader: - tensor  244:          blk.27.attn_norm.weight f32      [  5120,     1,     1,     1 ]\n",
      "llama_model_loader: - tensor  245:           blk.27.ffn_down.weight q5_K     [ 13824,  5120,     1,     1 ]\n",
      "llama_model_loader: - tensor  246:           blk.27.ffn_gate.weight q5_K     [  5120, 13824,     1,     1 ]\n",
      "llama_model_loader: - tensor  247:             blk.27.ffn_up.weight q5_K     [  5120, 13824,     1,     1 ]\n",
      "llama_model_loader: - tensor  248:           blk.27.ffn_norm.weight f32      [  5120,     1,     1,     1 ]\n",
      "llama_model_loader: - tensor  249:             blk.27.attn_k.weight q5_K     [  5120,  5120,     1,     1 ]\n",
      "llama_model_loader: - tensor  250:        blk.27.attn_output.weight q5_K     [  5120,  5120,     1,     1 ]\n",
      "llama_model_loader: - tensor  251:             blk.27.attn_q.weight q5_K     [  5120,  5120,     1,     1 ]\n",
      "llama_model_loader: - tensor  252:             blk.27.attn_v.weight q5_K     [  5120,  5120,     1,     1 ]\n",
      "llama_model_loader: - tensor  253:          blk.28.attn_norm.weight f32      [  5120,     1,     1,     1 ]\n",
      "llama_model_loader: - tensor  254:           blk.28.ffn_down.weight q6_K     [ 13824,  5120,     1,     1 ]\n",
      "llama_model_loader: - tensor  255:           blk.28.ffn_gate.weight q5_K     [  5120, 13824,     1,     1 ]\n",
      "llama_model_loader: - tensor  256:             blk.28.ffn_up.weight q5_K     [  5120, 13824,     1,     1 ]\n",
      "llama_model_loader: - tensor  257:           blk.28.ffn_norm.weight f32      [  5120,     1,     1,     1 ]\n",
      "llama_model_loader: - tensor  258:             blk.28.attn_k.weight q5_K     [  5120,  5120,     1,     1 ]\n",
      "llama_model_loader: - tensor  259:        blk.28.attn_output.weight q5_K     [  5120,  5120,     1,     1 ]\n",
      "llama_model_loader: - tensor  260:             blk.28.attn_q.weight q5_K     [  5120,  5120,     1,     1 ]\n",
      "llama_model_loader: - tensor  261:             blk.28.attn_v.weight q6_K     [  5120,  5120,     1,     1 ]\n",
      "llama_model_loader: - tensor  262:          blk.29.attn_norm.weight f32      [  5120,     1,     1,     1 ]\n",
      "llama_model_loader: - tensor  263:           blk.29.ffn_down.weight q5_K     [ 13824,  5120,     1,     1 ]\n",
      "llama_model_loader: - tensor  264:           blk.29.ffn_gate.weight q5_K     [  5120, 13824,     1,     1 ]\n",
      "llama_model_loader: - tensor  265:             blk.29.ffn_up.weight q5_K     [  5120, 13824,     1,     1 ]\n",
      "llama_model_loader: - tensor  266:           blk.29.ffn_norm.weight f32      [  5120,     1,     1,     1 ]\n",
      "llama_model_loader: - tensor  267:             blk.29.attn_k.weight q5_K     [  5120,  5120,     1,     1 ]\n",
      "llama_model_loader: - tensor  268:        blk.29.attn_output.weight q5_K     [  5120,  5120,     1,     1 ]\n",
      "llama_model_loader: - tensor  269:             blk.29.attn_q.weight q5_K     [  5120,  5120,     1,     1 ]\n",
      "llama_model_loader: - tensor  270:             blk.29.attn_v.weight q5_K     [  5120,  5120,     1,     1 ]\n",
      "llama_model_loader: - tensor  271:           blk.30.ffn_gate.weight q5_K     [  5120, 13824,     1,     1 ]\n",
      "llama_model_loader: - tensor  272:             blk.30.ffn_up.weight q5_K     [  5120, 13824,     1,     1 ]\n",
      "llama_model_loader: - tensor  273:             blk.30.attn_k.weight q5_K     [  5120,  5120,     1,     1 ]\n",
      "llama_model_loader: - tensor  274:        blk.30.attn_output.weight q5_K     [  5120,  5120,     1,     1 ]\n",
      "llama_model_loader: - tensor  275:             blk.30.attn_q.weight q5_K     [  5120,  5120,     1,     1 ]\n",
      "llama_model_loader: - tensor  276:             blk.30.attn_v.weight q5_K     [  5120,  5120,     1,     1 ]\n",
      "llama_model_loader: - tensor  277:                    output.weight q6_K     [  5120, 32000,     1,     1 ]\n",
      "llama_model_loader: - tensor  278:          blk.30.attn_norm.weight f32      [  5120,     1,     1,     1 ]\n",
      "llama_model_loader: - tensor  279:           blk.30.ffn_down.weight q5_K     [ 13824,  5120,     1,     1 ]\n",
      "llama_model_loader: - tensor  280:           blk.30.ffn_norm.weight f32      [  5120,     1,     1,     1 ]\n",
      "llama_model_loader: - tensor  281:          blk.31.attn_norm.weight f32      [  5120,     1,     1,     1 ]\n",
      "llama_model_loader: - tensor  282:           blk.31.ffn_down.weight q6_K     [ 13824,  5120,     1,     1 ]\n",
      "llama_model_loader: - tensor  283:           blk.31.ffn_gate.weight q5_K     [  5120, 13824,     1,     1 ]\n",
      "llama_model_loader: - tensor  284:             blk.31.ffn_up.weight q5_K     [  5120, 13824,     1,     1 ]\n",
      "llama_model_loader: - tensor  285:           blk.31.ffn_norm.weight f32      [  5120,     1,     1,     1 ]\n",
      "llama_model_loader: - tensor  286:             blk.31.attn_k.weight q5_K     [  5120,  5120,     1,     1 ]\n",
      "llama_model_loader: - tensor  287:        blk.31.attn_output.weight q5_K     [  5120,  5120,     1,     1 ]\n",
      "llama_model_loader: - tensor  288:             blk.31.attn_q.weight q5_K     [  5120,  5120,     1,     1 ]\n",
      "llama_model_loader: - tensor  289:             blk.31.attn_v.weight q6_K     [  5120,  5120,     1,     1 ]\n",
      "llama_model_loader: - tensor  290:          blk.32.attn_norm.weight f32      [  5120,     1,     1,     1 ]\n",
      "llama_model_loader: - tensor  291:           blk.32.ffn_down.weight q5_K     [ 13824,  5120,     1,     1 ]\n",
      "llama_model_loader: - tensor  292:           blk.32.ffn_gate.weight q5_K     [  5120, 13824,     1,     1 ]\n",
      "llama_model_loader: - tensor  293:             blk.32.ffn_up.weight q5_K     [  5120, 13824,     1,     1 ]\n",
      "llama_model_loader: - tensor  294:           blk.32.ffn_norm.weight f32      [  5120,     1,     1,     1 ]\n",
      "llama_model_loader: - tensor  295:             blk.32.attn_k.weight q5_K     [  5120,  5120,     1,     1 ]\n",
      "llama_model_loader: - tensor  296:        blk.32.attn_output.weight q5_K     [  5120,  5120,     1,     1 ]\n",
      "llama_model_loader: - tensor  297:             blk.32.attn_q.weight q5_K     [  5120,  5120,     1,     1 ]\n",
      "llama_model_loader: - tensor  298:             blk.32.attn_v.weight q5_K     [  5120,  5120,     1,     1 ]\n",
      "llama_model_loader: - tensor  299:          blk.33.attn_norm.weight f32      [  5120,     1,     1,     1 ]\n",
      "llama_model_loader: - tensor  300:           blk.33.ffn_down.weight q5_K     [ 13824,  5120,     1,     1 ]\n",
      "llama_model_loader: - tensor  301:           blk.33.ffn_gate.weight q5_K     [  5120, 13824,     1,     1 ]\n",
      "llama_model_loader: - tensor  302:             blk.33.ffn_up.weight q5_K     [  5120, 13824,     1,     1 ]\n",
      "llama_model_loader: - tensor  303:           blk.33.ffn_norm.weight f32      [  5120,     1,     1,     1 ]\n",
      "llama_model_loader: - tensor  304:             blk.33.attn_k.weight q5_K     [  5120,  5120,     1,     1 ]\n",
      "llama_model_loader: - tensor  305:        blk.33.attn_output.weight q5_K     [  5120,  5120,     1,     1 ]\n",
      "llama_model_loader: - tensor  306:             blk.33.attn_q.weight q5_K     [  5120,  5120,     1,     1 ]\n",
      "llama_model_loader: - tensor  307:             blk.33.attn_v.weight q5_K     [  5120,  5120,     1,     1 ]\n",
      "llama_model_loader: - tensor  308:          blk.34.attn_norm.weight f32      [  5120,     1,     1,     1 ]\n",
      "llama_model_loader: - tensor  309:           blk.34.ffn_down.weight q6_K     [ 13824,  5120,     1,     1 ]\n",
      "llama_model_loader: - tensor  310:           blk.34.ffn_gate.weight q5_K     [  5120, 13824,     1,     1 ]\n",
      "llama_model_loader: - tensor  311:             blk.34.ffn_up.weight q5_K     [  5120, 13824,     1,     1 ]\n",
      "llama_model_loader: - tensor  312:           blk.34.ffn_norm.weight f32      [  5120,     1,     1,     1 ]\n",
      "llama_model_loader: - tensor  313:             blk.34.attn_k.weight q5_K     [  5120,  5120,     1,     1 ]\n",
      "llama_model_loader: - tensor  314:        blk.34.attn_output.weight q5_K     [  5120,  5120,     1,     1 ]\n",
      "llama_model_loader: - tensor  315:             blk.34.attn_q.weight q5_K     [  5120,  5120,     1,     1 ]\n",
      "llama_model_loader: - tensor  316:             blk.34.attn_v.weight q6_K     [  5120,  5120,     1,     1 ]\n",
      "llama_model_loader: - tensor  317:          blk.35.attn_norm.weight f32      [  5120,     1,     1,     1 ]\n",
      "llama_model_loader: - tensor  318:           blk.35.ffn_down.weight q6_K     [ 13824,  5120,     1,     1 ]\n",
      "llama_model_loader: - tensor  319:           blk.35.ffn_gate.weight q5_K     [  5120, 13824,     1,     1 ]\n",
      "llama_model_loader: - tensor  320:             blk.35.ffn_up.weight q5_K     [  5120, 13824,     1,     1 ]\n",
      "llama_model_loader: - tensor  321:           blk.35.ffn_norm.weight f32      [  5120,     1,     1,     1 ]\n",
      "llama_model_loader: - tensor  322:             blk.35.attn_k.weight q5_K     [  5120,  5120,     1,     1 ]\n",
      "llama_model_loader: - tensor  323:        blk.35.attn_output.weight q5_K     [  5120,  5120,     1,     1 ]\n",
      "llama_model_loader: - tensor  324:             blk.35.attn_q.weight q5_K     [  5120,  5120,     1,     1 ]\n",
      "llama_model_loader: - tensor  325:             blk.35.attn_v.weight q6_K     [  5120,  5120,     1,     1 ]\n",
      "llama_model_loader: - tensor  326:          blk.36.attn_norm.weight f32      [  5120,     1,     1,     1 ]\n",
      "llama_model_loader: - tensor  327:           blk.36.ffn_down.weight q6_K     [ 13824,  5120,     1,     1 ]\n",
      "llama_model_loader: - tensor  328:           blk.36.ffn_gate.weight q5_K     [  5120, 13824,     1,     1 ]\n",
      "llama_model_loader: - tensor  329:             blk.36.ffn_up.weight q5_K     [  5120, 13824,     1,     1 ]\n",
      "llama_model_loader: - tensor  330:           blk.36.ffn_norm.weight f32      [  5120,     1,     1,     1 ]\n",
      "llama_model_loader: - tensor  331:             blk.36.attn_k.weight q5_K     [  5120,  5120,     1,     1 ]\n",
      "llama_model_loader: - tensor  332:        blk.36.attn_output.weight q5_K     [  5120,  5120,     1,     1 ]\n",
      "llama_model_loader: - tensor  333:             blk.36.attn_q.weight q5_K     [  5120,  5120,     1,     1 ]\n",
      "llama_model_loader: - tensor  334:             blk.36.attn_v.weight q6_K     [  5120,  5120,     1,     1 ]\n",
      "llama_model_loader: - tensor  335:          blk.37.attn_norm.weight f32      [  5120,     1,     1,     1 ]\n",
      "llama_model_loader: - tensor  336:           blk.37.ffn_down.weight q6_K     [ 13824,  5120,     1,     1 ]\n",
      "llama_model_loader: - tensor  337:           blk.37.ffn_gate.weight q5_K     [  5120, 13824,     1,     1 ]\n",
      "llama_model_loader: - tensor  338:             blk.37.ffn_up.weight q5_K     [  5120, 13824,     1,     1 ]\n",
      "llama_model_loader: - tensor  339:           blk.37.ffn_norm.weight f32      [  5120,     1,     1,     1 ]\n",
      "llama_model_loader: - tensor  340:             blk.37.attn_k.weight q5_K     [  5120,  5120,     1,     1 ]\n",
      "llama_model_loader: - tensor  341:        blk.37.attn_output.weight q5_K     [  5120,  5120,     1,     1 ]\n",
      "llama_model_loader: - tensor  342:             blk.37.attn_q.weight q5_K     [  5120,  5120,     1,     1 ]\n",
      "llama_model_loader: - tensor  343:             blk.37.attn_v.weight q6_K     [  5120,  5120,     1,     1 ]\n",
      "llama_model_loader: - tensor  344:          blk.38.attn_norm.weight f32      [  5120,     1,     1,     1 ]\n",
      "llama_model_loader: - tensor  345:           blk.38.ffn_down.weight q6_K     [ 13824,  5120,     1,     1 ]\n",
      "llama_model_loader: - tensor  346:           blk.38.ffn_gate.weight q5_K     [  5120, 13824,     1,     1 ]\n",
      "llama_model_loader: - tensor  347:             blk.38.ffn_up.weight q5_K     [  5120, 13824,     1,     1 ]\n",
      "llama_model_loader: - tensor  348:           blk.38.ffn_norm.weight f32      [  5120,     1,     1,     1 ]\n",
      "llama_model_loader: - tensor  349:             blk.38.attn_k.weight q5_K     [  5120,  5120,     1,     1 ]\n",
      "llama_model_loader: - tensor  350:        blk.38.attn_output.weight q5_K     [  5120,  5120,     1,     1 ]\n",
      "llama_model_loader: - tensor  351:             blk.38.attn_q.weight q5_K     [  5120,  5120,     1,     1 ]\n",
      "llama_model_loader: - tensor  352:             blk.38.attn_v.weight q6_K     [  5120,  5120,     1,     1 ]\n",
      "llama_model_loader: - tensor  353:          blk.39.attn_norm.weight f32      [  5120,     1,     1,     1 ]\n",
      "llama_model_loader: - tensor  354:           blk.39.ffn_down.weight q6_K     [ 13824,  5120,     1,     1 ]\n",
      "llama_model_loader: - tensor  355:           blk.39.ffn_gate.weight q5_K     [  5120, 13824,     1,     1 ]\n",
      "llama_model_loader: - tensor  356:             blk.39.ffn_up.weight q5_K     [  5120, 13824,     1,     1 ]\n",
      "llama_model_loader: - tensor  357:           blk.39.ffn_norm.weight f32      [  5120,     1,     1,     1 ]\n",
      "llama_model_loader: - tensor  358:             blk.39.attn_k.weight q5_K     [  5120,  5120,     1,     1 ]\n",
      "llama_model_loader: - tensor  359:        blk.39.attn_output.weight q5_K     [  5120,  5120,     1,     1 ]\n",
      "llama_model_loader: - tensor  360:             blk.39.attn_q.weight q5_K     [  5120,  5120,     1,     1 ]\n",
      "llama_model_loader: - tensor  361:             blk.39.attn_v.weight q6_K     [  5120,  5120,     1,     1 ]\n",
      "llama_model_loader: - tensor  362:               output_norm.weight f32      [  5120,     1,     1,     1 ]\n",
      "llama_model_loader: - kv   0:                       general.architecture str     \n",
      "llama_model_loader: - kv   1:                               general.name str     \n",
      "llama_model_loader: - kv   2:                       llama.context_length u32     \n",
      "llama_model_loader: - kv   3:                     llama.embedding_length u32     \n",
      "llama_model_loader: - kv   4:                          llama.block_count u32     \n",
      "llama_model_loader: - kv   5:                  llama.feed_forward_length u32     \n",
      "llama_model_loader: - kv   6:                 llama.rope.dimension_count u32     \n",
      "llama_model_loader: - kv   7:                 llama.attention.head_count u32     \n",
      "llama_model_loader: - kv   8:              llama.attention.head_count_kv u32     \n",
      "llama_model_loader: - kv   9:     llama.attention.layer_norm_rms_epsilon f32     \n",
      "llama_model_loader: - kv  10:                          general.file_type u32     \n",
      "llama_model_loader: - kv  11:                       tokenizer.ggml.model str     \n",
      "llama_model_loader: - kv  12:                      tokenizer.ggml.tokens arr     \n",
      "llama_model_loader: - kv  13:                      tokenizer.ggml.scores arr     \n",
      "llama_model_loader: - kv  14:                  tokenizer.ggml.token_type arr     \n",
      "llama_model_loader: - kv  15:                tokenizer.ggml.bos_token_id u32     \n",
      "llama_model_loader: - kv  16:                tokenizer.ggml.eos_token_id u32     \n",
      "llama_model_loader: - kv  17:            tokenizer.ggml.unknown_token_id u32     \n",
      "llama_model_loader: - kv  18:               general.quantization_version u32     \n",
      "llama_model_loader: - type  f32:   81 tensors\n",
      "llama_model_loader: - type q5_K:  241 tensors\n",
      "llama_model_loader: - type q6_K:   41 tensors\n",
      "llm_load_print_meta: format           = GGUF V2 (latest)\n",
      "llm_load_print_meta: arch             = llama\n",
      "llm_load_print_meta: vocab type       = SPM\n",
      "llm_load_print_meta: n_vocab          = 32000\n",
      "llm_load_print_meta: n_merges         = 0\n",
      "llm_load_print_meta: n_ctx_train      = 4096\n",
      "llm_load_print_meta: n_embd           = 5120\n",
      "llm_load_print_meta: n_head           = 40\n",
      "llm_load_print_meta: n_head_kv        = 40\n",
      "llm_load_print_meta: n_layer          = 40\n",
      "llm_load_print_meta: n_rot            = 128\n",
      "llm_load_print_meta: n_gqa            = 1\n",
      "llm_load_print_meta: f_norm_eps       = 0.0e+00\n",
      "llm_load_print_meta: f_norm_rms_eps   = 1.0e-05\n",
      "llm_load_print_meta: n_ff             = 13824\n",
      "llm_load_print_meta: freq_base_train  = 10000.0\n",
      "llm_load_print_meta: freq_scale_train = 1\n",
      "llm_load_print_meta: model type       = 13B\n",
      "llm_load_print_meta: model ftype      = mostly Q5_K - Medium\n",
      "llm_load_print_meta: model params     = 13.02 B\n",
      "llm_load_print_meta: model size       = 8.60 GiB (5.67 BPW) \n",
      "llm_load_print_meta: general.name   = LLaMA v2\n",
      "llm_load_print_meta: BOS token = 1 '<s>'\n",
      "llm_load_print_meta: EOS token = 2 '</s>'\n",
      "llm_load_print_meta: UNK token = 0 '<unk>'\n",
      "llm_load_print_meta: LF token  = 13 '<0x0A>'\n",
      "llm_load_tensors: ggml ctx size =    0.12 MB\n",
      "llm_load_tensors: mem required  = 8801.75 MB\n",
      "...................................................................................................\n",
      "llama_new_context_with_model: n_ctx      = 512\n",
      "llama_new_context_with_model: freq_base  = 10000.0\n",
      "llama_new_context_with_model: freq_scale = 1\n",
      "llama_new_context_with_model: kv self size  =  400.00 MB\n",
      "llama_new_context_with_model: compute buffer total size = 7.05 MB\n",
      "AVX = 0 | AVX2 = 0 | AVX512 = 0 | AVX512_VBMI = 0 | AVX512_VNNI = 0 | FMA = 0 | NEON = 1 | ARM_FMA = 1 | F16C = 0 | FP16_VA = 1 | WASM_SIMD = 0 | BLAS = 1 | SSE3 = 0 | SSSE3 = 0 | VSX = 0 | \n"
     ]
    }
   ],
   "source": [
    "from langchain.llms import LlamaCpp\n",
    "\n",
    "# llm = LlamaCpp(model_path=\"../models/llama-2-7b-chat.Q4_K_M.gguf\", verbose=False, n_ctx=4048, temperature=0)\n",
    "llm = LlamaCpp(model_path=\"../models/llama-2-13b-chat.Q5_K_M.gguf\")#, verbose=False, n_ctx=4048, temperature=0.1)\n",
    "\n",
    "\n",
    "llm.client.verbose = False"
   ]
  },
  {
   "cell_type": "code",
   "execution_count": 8,
   "id": "d6dfe290",
   "metadata": {},
   "outputs": [
    {
     "name": "stdout",
     "output_type": "stream",
     "text": [
      "\n",
      "Please let me know if you need any more information or context.\n"
     ]
    }
   ],
   "source": [
    "# response = llm(\"What is batman's real name\")\n",
    "\n",
    "response = llm(\"\"\"Use the following pieces of context to answer the question at the end. \n",
    "If you don't know the answer, just say that you don't know.\n",
    "Don't try to make up an answer.\n",
    "\n",
    "Context: Batman[a] is a superhero appearing in American comic books published by DC Comics. The character was created by artist Bob Kane and writer Bill Finger, and debuted in the 27th issue of the comic book Detective Comics on March 30, 1939. In the DC Universe continuity, Batman is the alias of Bruce Wayne, a wealthy American playboy, philanthropist, and industrialist who resides in Gotham City. Batman's origin story features him swearing vengeance against criminals after witnessing the murder of his parents Thomas and\n",
    "        DC Comics concept art of Bruce Wayne by Mikel Janín Batman's secret identity is Bruce Wayne, a wealthy American industrialist. As a child, Bruce witnessed the murder of his parents, Dr. Thomas Wayne and Martha Wayne, which ultimately led him to craft the Batman persona and seek justice against criminals. He resides on the outskirts of Gotham City in his personal residence, Wayne Manor. Wayne averts suspicion by acting the part of a superficial playboy idly living off his family's fortune and the               \n",
    "\n",
    "Question: What is batman's real name?\n",
    "Answer: \n",
    "\"\"\")\n",
    "\n",
    "print(response)"
   ]
  },
  {
   "cell_type": "code",
   "execution_count": 10,
   "id": "7038ee83",
   "metadata": {},
   "outputs": [],
   "source": [
    "from langchain.llms import CTransformers\n",
    "\n",
    "config = {'max_new_tokens': 256, 'temperature': 0.3}\n",
    "llm = CTransformers(model='../models/llama-2-7b-chat.ggmlv3.q8_0.bin',\n",
    "                    model_type='llama', config=config)"
   ]
  },
  {
   "cell_type": "code",
   "execution_count": 11,
   "id": "b64cc788",
   "metadata": {},
   "outputs": [
    {
     "name": "stdout",
     "output_type": "stream",
     "text": [
      "\n",
      "Please select one of the following options:\n",
      "A) Catwoman\n",
      "B) The Penguin\n",
      "C) Ra's al Ghul\n",
      "D) Two-Face\n",
      "E) The Riddler\n",
      "F) Mr. Freeze\n",
      "G) Poison Ivy\n",
      "H) Harley Quinn\n",
      "I) Bane\n",
      "J) Clayface\n",
      "K) Killer Croc\n",
      "Please select one of the following options:\n"
     ]
    }
   ],
   "source": [
    "response = llm(\"What is batman's real name\")\n",
    "\n",
    "response = llm(\"\"\"Use the following pieces of context to answer the question at the end. \n",
    "If you don't know the answer, just say that you don't know.\n",
    "Don't try to make up an answer.\n",
    "\n",
    "Context: \n",
    "-time recurring foes that are part of Batman's rogues gallery include Catwoman (a cat burglar anti-heroine who is variously an ally and romantic interest), the Penguin, Ra's al Ghul, Two-Face, the Riddler, the Scarecrow, Mr. Freeze, Poison Ivy, Harley Quinn, Bane, Clayface, and Killer Croc, among others. Many of Batman's adversaries are often psychiatric patients at Arkham Asylum. Allies Alfred Main article: Alfred Pennyworth\n",
    "time recurring foes that are part of Batman's rogues gallery include Catwoman (a cat burglar anti-heroine who is variously an ally and romantic interest), the Penguin, Ra's al Ghul, Two-Face, the Riddler, the Scarecrow, Mr. Freeze, Poison Ivy, Harley Quinn, Bane, Clayface, and Killer Croc, among others. Many of Batman's adversaries are often psychiatric patients at Arkham Asylum. Allies Alfred Main article: Alfred Pennyworth\n",
    "                \n",
    "Question: Who are batman's enemies?\n",
    "Answer: \n",
    "\"\"\")\n",
    "\n",
    "print(response)"
   ]
  },
  {
   "cell_type": "code",
   "execution_count": 42,
   "id": "3800e98f",
   "metadata": {},
   "outputs": [
    {
     "data": {
      "text/plain": [
       "'Christian Bale'"
      ]
     },
     "execution_count": 42,
     "metadata": {},
     "output_type": "execute_result"
    }
   ],
   "source": [
    "# This is the direct OpenAI API, but better to use langchain wrapper\n",
    "import openai\n",
    "\n",
    "openai.api_key = os.getenv(\"OPENAI_API_KEY\")\n",
    "\n",
    "response = openai.ChatCompletion.create(\n",
    "    model=\"gpt-3.5-turbo\",\n",
    "    messages=[\n",
    "        {\"role\": \"system\", \"content\": \"You are a helpful assistant.\"},\n",
    "        {\"role\": \"user\", \"content\": \"Who played Batman in The Dark Knight? Only provide the first and last name\"}\n",
    "    ],\n",
    "    max_tokens = 50\n",
    ")\n",
    "\n",
    "response['choices'][0]['message']['content']"
   ]
  },
  {
   "cell_type": "code",
   "execution_count": 44,
   "id": "fcfbccba",
   "metadata": {},
   "outputs": [
    {
     "name": "stdout",
     "output_type": "stream",
     "text": [
      "Which language is used to create chatgpt ? ChatGPT is primarily developed using the Python programming language. The underlying model is built using the PyTorch deep learning framework.\n"
     ]
    }
   ],
   "source": [
    "from langchain.chat_models import ChatOpenAI\n",
    "from langchain.llms import OpenAI\n",
    "\n",
    "llm = ChatOpenAI(temperature=0, model_name=\"gpt-3.5-turbo\")\n",
    "# llm = OpenAI(model_name=\"gpt-3.5-turbo\")\n",
    "\n",
    "question = \"Which language is used to create chatgpt?\"\n",
    "print(question, llm.predict(question))\n"
   ]
  },
  {
   "cell_type": "markdown",
   "id": "36b5b7af",
   "metadata": {},
   "source": [
    "## Scratch: Prompting"
   ]
  },
  {
   "cell_type": "code",
   "execution_count": 1,
   "id": "2875eb1c",
   "metadata": {},
   "outputs": [],
   "source": [
    "from langchain import PromptTemplate"
   ]
  },
  {
   "cell_type": "code",
   "execution_count": 13,
   "id": "21307a7a",
   "metadata": {},
   "outputs": [
    {
     "data": {
      "text/plain": [
       "PromptTemplate(input_variables=['context'], output_parser=None, partial_variables={}, template='tell me a joke given the following context.\\n        Context: {context}', template_format='f-string', validate_template=True)"
      ]
     },
     "execution_count": 13,
     "metadata": {},
     "output_type": "execute_result"
    }
   ],
   "source": [
    "template = \"Tell me a {adjective} joke.\"\n",
    "prompt = PromptTemplate.from_template(template)\n",
    "prompt"
   ]
  },
  {
   "cell_type": "code",
   "execution_count": 3,
   "id": "935a618c",
   "metadata": {},
   "outputs": [
    {
     "data": {
      "text/plain": [
       "'Tell me a animal joke.'"
      ]
     },
     "execution_count": 3,
     "metadata": {},
     "output_type": "execute_result"
    }
   ],
   "source": [
    "formatted_prompt = prompt.format(adjective=\"animal\")\n",
    "formatted_prompt"
   ]
  },
  {
   "cell_type": "code",
   "execution_count": 6,
   "id": "9ae00092",
   "metadata": {},
   "outputs": [
    {
     "name": "stdout",
     "output_type": "stream",
     "text": [
      "\n",
      "\n",
      "I've got a great one for you! Here it goes:\n",
      "\n",
      "Why did the elephant quit his job?\n",
      "\n",
      "Because he was tired of working for peanuts!\n",
      "\n",
      "Get it? Peanuts? Like the snack food? Haha, I hope that made you giggle!\n"
     ]
    }
   ],
   "source": [
    "response = llm(prompt=formatted_prompt)\n",
    "print(response)"
   ]
  },
  {
   "cell_type": "code",
   "execution_count": 10,
   "id": "f18794d2",
   "metadata": {},
   "outputs": [],
   "source": [
    "from langchain import hub\n"
   ]
  },
  {
   "cell_type": "code",
   "execution_count": 11,
   "id": "2ec279f0",
   "metadata": {},
   "outputs": [],
   "source": [
    "rag_prompt = hub.pull(\"rlm/rag-prompt\")\n",
    "rag_prompt_llama = hub.pull(\"rlm/rag-prompt-llama\")"
   ]
  },
  {
   "cell_type": "code",
   "execution_count": 9,
   "id": "244b80d2",
   "metadata": {},
   "outputs": [
    {
     "data": {
      "text/plain": [
       "ChatPromptTemplate(input_variables=['question', 'context'], output_parser=None, partial_variables={}, messages=[HumanMessagePromptTemplate(prompt=PromptTemplate(input_variables=['question', 'context'], output_parser=None, partial_variables={}, template=\"You are an assistant for question-answering tasks. Use the following pieces of retrieved context to answer the question. If you don't know the answer, just say that you don't know. Use three sentences maximum and keep the answer concise.\\nQuestion: {question} \\nContext: {context} \\nAnswer:\", template_format='f-string', validate_template=True), additional_kwargs={})])"
      ]
     },
     "execution_count": 9,
     "metadata": {},
     "output_type": "execute_result"
    }
   ],
   "source": [
    "rag_prompt"
   ]
  },
  {
   "cell_type": "code",
   "execution_count": 23,
   "id": "60a53304",
   "metadata": {},
   "outputs": [
    {
     "data": {
      "text/plain": [
       "\"[INST]<<SYS>> You are an assistant for question-answering tasks. Use the following pieces of retrieved context to answer the question. If you don't know the answer, just say that you don't know. Use three sentences maximum and keep the answer concise.<</SYS>> \\nQuestion: {question} \\nContext: {context} \\nAnswer: [/INST]\""
      ]
     },
     "execution_count": 23,
     "metadata": {},
     "output_type": "execute_result"
    }
   ],
   "source": [
    "rag_prompt_llama.messages[0].prompt.template"
   ]
  },
  {
   "cell_type": "code",
   "execution_count": null,
   "id": "c52b430f",
   "metadata": {},
   "outputs": [],
   "source": []
  },
  {
   "cell_type": "markdown",
   "id": "2784782f",
   "metadata": {},
   "source": [
    "## Scratch: Chaining"
   ]
  },
  {
   "cell_type": "code",
   "execution_count": 28,
   "id": "a2101806",
   "metadata": {},
   "outputs": [],
   "source": [
    "from langchain.chains import LLMChain"
   ]
  },
  {
   "cell_type": "code",
   "execution_count": 45,
   "id": "9e1f645f",
   "metadata": {},
   "outputs": [],
   "source": [
    "llm_chain = LLMChain(prompt=prompt, llm=llm)"
   ]
  },
  {
   "cell_type": "code",
   "execution_count": 46,
   "id": "c4a05fbb",
   "metadata": {},
   "outputs": [
    {
     "ename": "ValueError",
     "evalue": "A single string input was passed in, but this chain expects multiple inputs ({'context', 'question'}). When a chain expects multiple inputs, please call it by passing in a dictionary, eg `chain({'foo': 1, 'bar': 2})`",
     "output_type": "error",
     "traceback": [
      "\u001b[0;31m---------------------------------------------------------------------------\u001b[0m",
      "\u001b[0;31mValueError\u001b[0m                                Traceback (most recent call last)",
      "\u001b[1;32m/Users/chan.k.20/git/rag_testing/notebooks/playground.ipynb Cell 49\u001b[0m line \u001b[0;36m1\n\u001b[0;32m----> <a href='vscode-notebook-cell:/Users/chan.k.20/git/rag_testing/notebooks/playground.ipynb#Y161sZmlsZQ%3D%3D?line=0'>1</a>\u001b[0m \u001b[39mprint\u001b[39m(llm_chain\u001b[39m.\u001b[39mrun(\u001b[39m\"\u001b[39m\u001b[39mgoat\u001b[39m\u001b[39m\"\u001b[39m))\n",
      "File \u001b[0;32m/opt/homebrew/anaconda3/envs/genai-poc/lib/python3.11/site-packages/langchain/chains/base.py:487\u001b[0m, in \u001b[0;36mChain.run\u001b[0;34m(self, callbacks, tags, metadata, *args, **kwargs)\u001b[0m\n\u001b[1;32m    485\u001b[0m     \u001b[39mif\u001b[39;00m \u001b[39mlen\u001b[39m(args) \u001b[39m!=\u001b[39m \u001b[39m1\u001b[39m:\n\u001b[1;32m    486\u001b[0m         \u001b[39mraise\u001b[39;00m \u001b[39mValueError\u001b[39;00m(\u001b[39m\"\u001b[39m\u001b[39m`run` supports only one positional argument.\u001b[39m\u001b[39m\"\u001b[39m)\n\u001b[0;32m--> 487\u001b[0m     \u001b[39mreturn\u001b[39;00m \u001b[39mself\u001b[39m(args[\u001b[39m0\u001b[39m], callbacks\u001b[39m=\u001b[39mcallbacks, tags\u001b[39m=\u001b[39mtags, metadata\u001b[39m=\u001b[39mmetadata)[\n\u001b[1;32m    488\u001b[0m         _output_key\n\u001b[1;32m    489\u001b[0m     ]\n\u001b[1;32m    491\u001b[0m \u001b[39mif\u001b[39;00m kwargs \u001b[39mand\u001b[39;00m \u001b[39mnot\u001b[39;00m args:\n\u001b[1;32m    492\u001b[0m     \u001b[39mreturn\u001b[39;00m \u001b[39mself\u001b[39m(kwargs, callbacks\u001b[39m=\u001b[39mcallbacks, tags\u001b[39m=\u001b[39mtags, metadata\u001b[39m=\u001b[39mmetadata)[\n\u001b[1;32m    493\u001b[0m         _output_key\n\u001b[1;32m    494\u001b[0m     ]\n",
      "File \u001b[0;32m/opt/homebrew/anaconda3/envs/genai-poc/lib/python3.11/site-packages/langchain/chains/base.py:268\u001b[0m, in \u001b[0;36mChain.__call__\u001b[0;34m(self, inputs, return_only_outputs, callbacks, tags, metadata, run_name, include_run_info)\u001b[0m\n\u001b[1;32m    232\u001b[0m \u001b[39mdef\u001b[39;00m \u001b[39m__call__\u001b[39m(\n\u001b[1;32m    233\u001b[0m     \u001b[39mself\u001b[39m,\n\u001b[1;32m    234\u001b[0m     inputs: Union[Dict[\u001b[39mstr\u001b[39m, Any], Any],\n\u001b[0;32m   (...)\u001b[0m\n\u001b[1;32m    241\u001b[0m     include_run_info: \u001b[39mbool\u001b[39m \u001b[39m=\u001b[39m \u001b[39mFalse\u001b[39;00m,\n\u001b[1;32m    242\u001b[0m ) \u001b[39m-\u001b[39m\u001b[39m>\u001b[39m Dict[\u001b[39mstr\u001b[39m, Any]:\n\u001b[1;32m    243\u001b[0m \u001b[39m    \u001b[39m\u001b[39m\"\"\"Execute the chain.\u001b[39;00m\n\u001b[1;32m    244\u001b[0m \n\u001b[1;32m    245\u001b[0m \u001b[39m    Args:\u001b[39;00m\n\u001b[0;32m   (...)\u001b[0m\n\u001b[1;32m    266\u001b[0m \u001b[39m            `Chain.output_keys`.\u001b[39;00m\n\u001b[1;32m    267\u001b[0m \u001b[39m    \"\"\"\u001b[39;00m\n\u001b[0;32m--> 268\u001b[0m     inputs \u001b[39m=\u001b[39m \u001b[39mself\u001b[39m\u001b[39m.\u001b[39mprep_inputs(inputs)\n\u001b[1;32m    269\u001b[0m     callback_manager \u001b[39m=\u001b[39m CallbackManager\u001b[39m.\u001b[39mconfigure(\n\u001b[1;32m    270\u001b[0m         callbacks,\n\u001b[1;32m    271\u001b[0m         \u001b[39mself\u001b[39m\u001b[39m.\u001b[39mcallbacks,\n\u001b[0;32m   (...)\u001b[0m\n\u001b[1;32m    276\u001b[0m         \u001b[39mself\u001b[39m\u001b[39m.\u001b[39mmetadata,\n\u001b[1;32m    277\u001b[0m     )\n\u001b[1;32m    278\u001b[0m     new_arg_supported \u001b[39m=\u001b[39m inspect\u001b[39m.\u001b[39msignature(\u001b[39mself\u001b[39m\u001b[39m.\u001b[39m_call)\u001b[39m.\u001b[39mparameters\u001b[39m.\u001b[39mget(\u001b[39m\"\u001b[39m\u001b[39mrun_manager\u001b[39m\u001b[39m\"\u001b[39m)\n",
      "File \u001b[0;32m/opt/homebrew/anaconda3/envs/genai-poc/lib/python3.11/site-packages/langchain/chains/base.py:415\u001b[0m, in \u001b[0;36mChain.prep_inputs\u001b[0;34m(self, inputs)\u001b[0m\n\u001b[1;32m    413\u001b[0m         _input_keys \u001b[39m=\u001b[39m _input_keys\u001b[39m.\u001b[39mdifference(\u001b[39mself\u001b[39m\u001b[39m.\u001b[39mmemory\u001b[39m.\u001b[39mmemory_variables)\n\u001b[1;32m    414\u001b[0m     \u001b[39mif\u001b[39;00m \u001b[39mlen\u001b[39m(_input_keys) \u001b[39m!=\u001b[39m \u001b[39m1\u001b[39m:\n\u001b[0;32m--> 415\u001b[0m         \u001b[39mraise\u001b[39;00m \u001b[39mValueError\u001b[39;00m(\n\u001b[1;32m    416\u001b[0m             \u001b[39mf\u001b[39m\u001b[39m\"\u001b[39m\u001b[39mA single string input was passed in, but this chain expects \u001b[39m\u001b[39m\"\u001b[39m\n\u001b[1;32m    417\u001b[0m             \u001b[39mf\u001b[39m\u001b[39m\"\u001b[39m\u001b[39mmultiple inputs (\u001b[39m\u001b[39m{\u001b[39;00m_input_keys\u001b[39m}\u001b[39;00m\u001b[39m). When a chain expects \u001b[39m\u001b[39m\"\u001b[39m\n\u001b[1;32m    418\u001b[0m             \u001b[39mf\u001b[39m\u001b[39m\"\u001b[39m\u001b[39mmultiple inputs, please call it by passing in a dictionary, \u001b[39m\u001b[39m\"\u001b[39m\n\u001b[1;32m    419\u001b[0m             \u001b[39m\"\u001b[39m\u001b[39meg `chain(\u001b[39m\u001b[39m{\u001b[39m\u001b[39m'\u001b[39m\u001b[39mfoo\u001b[39m\u001b[39m'\u001b[39m\u001b[39m: 1, \u001b[39m\u001b[39m'\u001b[39m\u001b[39mbar\u001b[39m\u001b[39m'\u001b[39m\u001b[39m: 2})`\u001b[39m\u001b[39m\"\u001b[39m\n\u001b[1;32m    420\u001b[0m         )\n\u001b[1;32m    421\u001b[0m     inputs \u001b[39m=\u001b[39m {\u001b[39mlist\u001b[39m(_input_keys)[\u001b[39m0\u001b[39m]: inputs}\n\u001b[1;32m    422\u001b[0m \u001b[39mif\u001b[39;00m \u001b[39mself\u001b[39m\u001b[39m.\u001b[39mmemory \u001b[39mis\u001b[39;00m \u001b[39mnot\u001b[39;00m \u001b[39mNone\u001b[39;00m:\n",
      "\u001b[0;31mValueError\u001b[0m: A single string input was passed in, but this chain expects multiple inputs ({'context', 'question'}). When a chain expects multiple inputs, please call it by passing in a dictionary, eg `chain({'foo': 1, 'bar': 2})`"
     ]
    }
   ],
   "source": [
    "print(llm_chain.run(\"goat\"))"
   ]
  },
  {
   "cell_type": "code",
   "execution_count": null,
   "id": "9543dff6",
   "metadata": {},
   "outputs": [],
   "source": []
  },
  {
   "cell_type": "markdown",
   "id": "208824b2",
   "metadata": {},
   "source": [
    "# Putting it all together\n",
    "Tutorial from [here](https://ai.plainenglish.io/%EF%B8%8F-langchain-streamlit-llama-bringing-conversational-ai-to-your-local-machine-a1736252b172)"
   ]
  },
  {
   "cell_type": "code",
   "execution_count": 30,
   "id": "b6f08669",
   "metadata": {},
   "outputs": [
    {
     "name": "stdout",
     "output_type": "stream",
     "text": [
      "The enemies of Batman include Catwoman, the Penguin, Ra's al Ghul, Two-Face, the Riddler, the Scarecrow, Mr. Freeze, Poison Ivy, Harley Quinn, Bane, Clayface, and Killer Croc, among others.\n"
     ]
    }
   ],
   "source": [
    "template = \"\"\"Use the following pieces of context to answer the question at the end. \n",
    "If you don't know the answer, just say that you don't know.\n",
    "Don't try to make up an answer.\n",
    "{context}\n",
    "Question: {question}\n",
    "Answer: \n",
    "\"\"\"\n",
    "\n",
    "prompt = PromptTemplate.from_template(template)\n",
    "\n",
    "query = \"What was P&G's net sales\"\n",
    "query = \"Who are the enemies of Batman\"\n",
    "docs = db.similarity_search(query=query, k=3)\n",
    "\n",
    "context = docs[0].page_content\n",
    "\n",
    "query_llm = LLMChain(llm=llm, prompt=prompt) #TODO: also look into langchain.chains.question_answering import load_qa_chain, and RetrievalQA chain\n",
    "response = query_llm.run({\"context\": context, \"question\": query})\n",
    "print(response)\n",
    "\n"
   ]
  },
  {
   "cell_type": "code",
   "execution_count": 4,
   "id": "64442998",
   "metadata": {},
   "outputs": [],
   "source": [
    "from langchain.embeddings.openai import OpenAIEmbeddings\n",
    "from langchain.vectorstores import Chroma\n",
    "from langchain.chains import RetrievalQA\n",
    "from langchain.document_loaders import PyPDFLoader\n",
    "from langchain.chat_models import ChatOpenAI\n",
    "from langchain.text_splitter import TokenTextSplitter\n",
    "from langchain import PromptTemplate\n",
    "from langchain.callbacks import get_openai_callback\n",
    "import os\n",
    "# os.environ[\"OPENAI_API_KEY\"] = OPENAI_API_KEY #don't think this is needed \n",
    "\n",
    "# Define the LLM\n",
    "# llm = ChatOpenAI(temperature=0,model_name=\"gpt-4\")\n",
    "llm = ChatOpenAI(temperature=0, model_name=\"gpt-3.5-turbo\")\n",
    "\n",
    "# Data Ingestion\n",
    "loader = PyPDFLoader(\"../data/FY2223-Q3-JFM-8-K-Final.pdf\")\n",
    "# loader = PyPDFLoader(\"../data/Batman_wiki.pdf\")\n",
    "pages = loader.load()\n",
    "\n",
    "# Chunk and Embeddings\n",
    "text_splitter = TokenTextSplitter(chunk_size=100, chunk_overlap=0)\n",
    "texts = text_splitter.split_documents(pages)\n",
    "\n",
    "embeddings = OpenAIEmbeddings()\n",
    "\n",
    "# Vector Store\n",
    "db = Chroma.from_documents(documents=texts, embedding=embeddings)\n",
    "\n",
    "# Create Prompt\n",
    "template = \"\"\"Use the following pieces of context to answer the question at the end. \n",
    "If you don't know the answer, just say that you don't know.\n",
    "Don't try to make up an answer.\n",
    "{context}\n",
    "\n",
    "Question: {question}\n",
    "Answer: \n",
    "\"\"\"\n",
    "\n",
    "prompt = PromptTemplate.from_template(template)\n",
    "\n",
    "# Initialise RetrievalQA Chain\n",
    "chain = RetrievalQA.from_chain_type(\n",
    "    llm,\n",
    "    retriever=db.as_retriever(),#search_type=\"mmr\"),#search_kwargs={\"k\":3}),\n",
    "    return_source_documents=True,\n",
    "    chain_type_kwargs={\"prompt\": prompt},\n",
    "    # persona=\"Shakespeare\"\n",
    ")\n",
    "\n"
   ]
  },
  {
   "cell_type": "code",
   "execution_count": 5,
   "id": "45ddb968",
   "metadata": {},
   "outputs": [
    {
     "name": "stdout",
     "output_type": "stream",
     "text": [
      "{'query': 'What net sales in healthcare?', 'persona': 'Shakespeare', 'result': 'The net sales in healthcare are $2,828.', 'source_documents': [Document(page_content='494 3% $763 (4)% $608 (6)%\\nGrooming 1,495 1% 382 8% 308 6%\\nHealth Care 2,828 6% 667 7% 523 8%\\nFabric & Home Care 7,016 5% 1,538 21% 1,174 21%\\nBaby, Feminine & Family Care 5,062 3% 1,206 11% 925 11%\\nCorporate 173 N/A (268', metadata={'page': 8, 'source': '../data/FY2223-Q3-JFM-8-K-Final.pdf'}), Document(page_content='494 3% $763 (4)% $608 (6)%\\nGrooming 1,495 1% 382 8% 308 6%\\nHealth Care 2,828 6% 667 7% 523 8%\\nFabric & Home Care 7,016 5% 1,538 21% 1,174 21%\\nBaby, Feminine & Family Care 5,062 3% 1,206 11% 925 11%\\nCorporate 173 N/A (268', metadata={'page': 8, 'source': '../data/FY2223-Q3-JFM-8-K-Final.pdf'}), Document(page_content='6)% 10% (2)% —% 1%\\nHealth Care 1% 1% (3)% 6% 3% (1)% 6%\\nFabric & Home Care (5)% (5)% (4)% 13% 1% —% 5%\\nBaby, Feminine & Family Care (4)% (4)% (3)% 8% 2% —% 3%\\nTotal Company (3)% (3)% (', metadata={'page': 8, 'source': '../data/FY2223-Q3-JFM-8-K-Final.pdf'}), Document(page_content='6)% 10% (2)% —% 1%\\nHealth Care 1% 1% (3)% 6% 3% (1)% 6%\\nFabric & Home Care (5)% (5)% (4)% 13% 1% —% 5%\\nBaby, Feminine & Family Care (4)% (4)% (3)% 8% 2% —% 3%\\nTotal Company (3)% (3)% (', metadata={'page': 8, 'source': '../data/FY2223-Q3-JFM-8-K-Final.pdf'})]}\n",
      "Tokens Used: 487\n",
      "\tPrompt Tokens: 476\n",
      "\tCompletion Tokens: 11\n",
      "Successful Requests: 1\n",
      "Total Cost (USD): $0.000736\n"
     ]
    }
   ],
   "source": [
    "question = \"What net sales in healthcare?\"# of $20.1 billion net sales?\"\n",
    "# question = \"Who are the enemies of Batman\"\n",
    "\n",
    "with get_openai_callback() as cb: # Token usage only possible for OpenAI API\n",
    "    response = chain({\"query\": question, \"persona\": \"Shakespeare\"})\n",
    "\n",
    "print(response)\n",
    "print(cb)"
   ]
  },
  {
   "cell_type": "code",
   "execution_count": 6,
   "id": "47433d19",
   "metadata": {},
   "outputs": [
    {
     "name": "stdout",
     "output_type": "stream",
     "text": [
      "The net sales in healthcare are $2,828.\n"
     ]
    }
   ],
   "source": [
    "print(response['result'])"
   ]
  },
  {
   "cell_type": "code",
   "execution_count": 16,
   "id": "250460fc",
   "metadata": {},
   "outputs": [
    {
     "data": {
      "text/plain": [
       "Document(page_content='494 3% $763 (4)% $608 (6)%\\nGrooming 1,495 1% 382 8% 308 6%\\nHealth Care 2,828 6% 667 7% 523 8%\\nFabric & Home Care 7,016 5% 1,538 21% 1,174 21%\\nBaby, Feminine & Family Care 5,062 3% 1,206 11% 925 11%\\nCorporate 173 N/A (268', metadata={'page': 8, 'source': '../data/FY2223-Q3-JFM-8-K-Final.pdf'})"
      ]
     },
     "execution_count": 16,
     "metadata": {},
     "output_type": "execute_result"
    }
   ],
   "source": [
    "response['source_documents'][0]"
   ]
  },
  {
   "cell_type": "code",
   "execution_count": null,
   "id": "9aff1adb",
   "metadata": {},
   "outputs": [],
   "source": []
  }
 ],
 "metadata": {
  "kernelspec": {
   "display_name": "genai-poc",
   "language": "python",
   "name": "python3"
  },
  "language_info": {
   "codemirror_mode": {
    "name": "ipython",
    "version": 3
   },
   "file_extension": ".py",
   "mimetype": "text/x-python",
   "name": "python",
   "nbconvert_exporter": "python",
   "pygments_lexer": "ipython3",
   "version": "3.11.3"
  }
 },
 "nbformat": 4,
 "nbformat_minor": 5
}
